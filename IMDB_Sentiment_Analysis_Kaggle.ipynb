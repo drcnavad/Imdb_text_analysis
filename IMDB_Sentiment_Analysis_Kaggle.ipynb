{
  "cells": [
    {
      "cell_type": "code",
      "execution_count": 1,
      "metadata": {
        "colab": {
          "base_uri": "https://localhost:8080/"
        },
        "id": "z4hd-1V1BWMr",
        "outputId": "318c5a32-873f-4d47-d852-192180c2a052"
      },
      "outputs": [
        {
          "output_type": "stream",
          "name": "stderr",
          "text": [
            "[nltk_data] Downloading package stopwords to /root/nltk_data...\n",
            "[nltk_data]   Unzipping corpora/stopwords.zip.\n",
            "[nltk_data] Downloading package wordnet to /root/nltk_data...\n",
            "[nltk_data] Downloading package omw-1.4 to /root/nltk_data...\n",
            "[nltk_data] Downloading package punkt to /root/nltk_data...\n",
            "[nltk_data]   Unzipping tokenizers/punkt.zip.\n"
          ]
        },
        {
          "output_type": "execute_result",
          "data": {
            "text/plain": [
              "True"
            ]
          },
          "metadata": {},
          "execution_count": 1
        }
      ],
      "source": [
        "# Load the libraries\n",
        "import numpy as np\n",
        "import pandas as pd\n",
        "import seaborn as sns\n",
        "import matplotlib.pyplot as plt\n",
        "import nltk\n",
        "nltk.download('stopwords')\n",
        "nltk.download('wordnet')\n",
        "nltk.download('omw-1.4')\n",
        "nltk.download('punkt')"
      ]
    },
    {
      "cell_type": "code",
      "execution_count": 2,
      "metadata": {
        "id": "HMQFn6eMBiPE"
      },
      "outputs": [],
      "source": [
        "# Importing libraries for NLP techniques to pre-process data\n",
        "from sklearn import preprocessing\n",
        "from sklearn.model_selection import train_test_split\n",
        "from sklearn.feature_extraction.text import TfidfVectorizer\n",
        "from nltk.corpus import stopwords\n",
        "from nltk.stem.porter import PorterStemmer\n",
        "from nltk.stem import WordNetLemmatizer\n",
        "from nltk.tokenize import word_tokenize,sent_tokenize\n",
        "from bs4 import BeautifulSoup\n",
        "from nltk.tokenize.toktok import ToktokTokenizer\n",
        "from nltk.stem import LancasterStemmer,WordNetLemmatizer\n",
        "from sklearn.linear_model import LogisticRegression,SGDClassifier\n",
        "from sklearn.metrics import classification_report, confusion_matrix, accuracy_score, roc_auc_score\n",
        "\n",
        "# Importing packages for building conventional supervised learning models\n",
        "from sklearn.tree import DecisionTreeClassifier\n",
        "from sklearn.neighbors import KNeighborsClassifier\n",
        "from sklearn.ensemble import GradientBoostingClassifier\n",
        "from sklearn.model_selection import GridSearchCV\n",
        "from sklearn.ensemble import RandomForestClassifier\n",
        "from lightgbm import LGBMClassifier "
      ]
    },
    {
      "cell_type": "code",
      "execution_count": 26,
      "metadata": {
        "id": "LS6uQ8YfBnfK"
      },
      "outputs": [],
      "source": [
        "# Import methods for building neural networks\n",
        "import tensorflow as tf\n",
        "from tensorflow import keras\n",
        "from keras import layers\n",
        "from keras.models import Sequential\n",
        "from tensorflow.keras.layers import Dense, Dropout\n",
        "from tensorflow.keras.optimizers import RMSprop\n",
        "from keras.callbacks import EarlyStopping\n",
        "\n",
        "# Import 'KerasClassifier' from 'keras' for connecting neural networks with 'sklearn' and 'GridSearchCV'\n",
        "from keras.wrappers.scikit_learn import KerasClassifier\n",
        "\n",
        "import os\n",
        "import warnings\n",
        "warnings.filterwarnings('ignore')"
      ]
    },
    {
      "cell_type": "code",
      "source": [
        "!ls drive/MyDrive/chirag_data"
      ],
      "metadata": {
        "colab": {
          "base_uri": "https://localhost:8080/"
        },
        "id": "1vFQdumWCBmW",
        "outputId": "9e4a783a-dbe8-465a-cbd6-9e6f2fea16cd"
      },
      "execution_count": 27,
      "outputs": [
        {
          "output_type": "stream",
          "name": "stdout",
          "text": [
            "ls: cannot access 'drive/MyDrive/chirag_data': No such file or directory\n"
          ]
        }
      ]
    },
    {
      "cell_type": "code",
      "execution_count": 131,
      "metadata": {
        "colab": {
          "base_uri": "https://localhost:8080/",
          "height": 436
        },
        "id": "jk1JF-A9B5B3",
        "outputId": "96e27b27-0d6b-4b15-cb1f-0450ab1f87ba"
      },
      "outputs": [
        {
          "output_type": "stream",
          "name": "stdout",
          "text": [
            "(7463, 2)\n"
          ]
        },
        {
          "output_type": "execute_result",
          "data": {
            "text/plain": [
              "                                                Reviews Sentiments\n",
              "0     bittersweet comedy/drama full of life , hand g...        pos\n",
              "1     you have to pay attention to follow all the st...        pos\n",
              "2     overall , interesting as a documentary -- but ...        pos\n",
              "3     precocious smarter-than-thou wayward teen stru...        pos\n",
              "4     nicolas philibert observes life inside a one-r...        pos\n",
              "...                                                 ...        ...\n",
              "7458  the concept is a hoot . the trailer is a riot ...        neg\n",
              "7459  as the movie traces mr . brown's athletic expl...        pos\n",
              "7460  may lack the pungent bite of its title , but i...        pos\n",
              "7461  this romantic thriller is steeped in the atmos...        pos\n",
              "7462  a distant , even sterile , yet compulsively wa...        pos\n",
              "\n",
              "[7463 rows x 2 columns]"
            ],
            "text/html": [
              "\n",
              "  <div id=\"df-cdda1bab-82fe-4753-a2ca-ad233397936b\">\n",
              "    <div class=\"colab-df-container\">\n",
              "      <div>\n",
              "<style scoped>\n",
              "    .dataframe tbody tr th:only-of-type {\n",
              "        vertical-align: middle;\n",
              "    }\n",
              "\n",
              "    .dataframe tbody tr th {\n",
              "        vertical-align: top;\n",
              "    }\n",
              "\n",
              "    .dataframe thead th {\n",
              "        text-align: right;\n",
              "    }\n",
              "</style>\n",
              "<table border=\"1\" class=\"dataframe\">\n",
              "  <thead>\n",
              "    <tr style=\"text-align: right;\">\n",
              "      <th></th>\n",
              "      <th>Reviews</th>\n",
              "      <th>Sentiments</th>\n",
              "    </tr>\n",
              "  </thead>\n",
              "  <tbody>\n",
              "    <tr>\n",
              "      <th>0</th>\n",
              "      <td>bittersweet comedy/drama full of life , hand g...</td>\n",
              "      <td>pos</td>\n",
              "    </tr>\n",
              "    <tr>\n",
              "      <th>1</th>\n",
              "      <td>you have to pay attention to follow all the st...</td>\n",
              "      <td>pos</td>\n",
              "    </tr>\n",
              "    <tr>\n",
              "      <th>2</th>\n",
              "      <td>overall , interesting as a documentary -- but ...</td>\n",
              "      <td>pos</td>\n",
              "    </tr>\n",
              "    <tr>\n",
              "      <th>3</th>\n",
              "      <td>precocious smarter-than-thou wayward teen stru...</td>\n",
              "      <td>pos</td>\n",
              "    </tr>\n",
              "    <tr>\n",
              "      <th>4</th>\n",
              "      <td>nicolas philibert observes life inside a one-r...</td>\n",
              "      <td>pos</td>\n",
              "    </tr>\n",
              "    <tr>\n",
              "      <th>...</th>\n",
              "      <td>...</td>\n",
              "      <td>...</td>\n",
              "    </tr>\n",
              "    <tr>\n",
              "      <th>7458</th>\n",
              "      <td>the concept is a hoot . the trailer is a riot ...</td>\n",
              "      <td>neg</td>\n",
              "    </tr>\n",
              "    <tr>\n",
              "      <th>7459</th>\n",
              "      <td>as the movie traces mr . brown's athletic expl...</td>\n",
              "      <td>pos</td>\n",
              "    </tr>\n",
              "    <tr>\n",
              "      <th>7460</th>\n",
              "      <td>may lack the pungent bite of its title , but i...</td>\n",
              "      <td>pos</td>\n",
              "    </tr>\n",
              "    <tr>\n",
              "      <th>7461</th>\n",
              "      <td>this romantic thriller is steeped in the atmos...</td>\n",
              "      <td>pos</td>\n",
              "    </tr>\n",
              "    <tr>\n",
              "      <th>7462</th>\n",
              "      <td>a distant , even sterile , yet compulsively wa...</td>\n",
              "      <td>pos</td>\n",
              "    </tr>\n",
              "  </tbody>\n",
              "</table>\n",
              "<p>7463 rows × 2 columns</p>\n",
              "</div>\n",
              "      <button class=\"colab-df-convert\" onclick=\"convertToInteractive('df-cdda1bab-82fe-4753-a2ca-ad233397936b')\"\n",
              "              title=\"Convert this dataframe to an interactive table.\"\n",
              "              style=\"display:none;\">\n",
              "        \n",
              "  <svg xmlns=\"http://www.w3.org/2000/svg\" height=\"24px\"viewBox=\"0 0 24 24\"\n",
              "       width=\"24px\">\n",
              "    <path d=\"M0 0h24v24H0V0z\" fill=\"none\"/>\n",
              "    <path d=\"M18.56 5.44l.94 2.06.94-2.06 2.06-.94-2.06-.94-.94-2.06-.94 2.06-2.06.94zm-11 1L8.5 8.5l.94-2.06 2.06-.94-2.06-.94L8.5 2.5l-.94 2.06-2.06.94zm10 10l.94 2.06.94-2.06 2.06-.94-2.06-.94-.94-2.06-.94 2.06-2.06.94z\"/><path d=\"M17.41 7.96l-1.37-1.37c-.4-.4-.92-.59-1.43-.59-.52 0-1.04.2-1.43.59L10.3 9.45l-7.72 7.72c-.78.78-.78 2.05 0 2.83L4 21.41c.39.39.9.59 1.41.59.51 0 1.02-.2 1.41-.59l7.78-7.78 2.81-2.81c.8-.78.8-2.07 0-2.86zM5.41 20L4 18.59l7.72-7.72 1.47 1.35L5.41 20z\"/>\n",
              "  </svg>\n",
              "      </button>\n",
              "      \n",
              "  <style>\n",
              "    .colab-df-container {\n",
              "      display:flex;\n",
              "      flex-wrap:wrap;\n",
              "      gap: 12px;\n",
              "    }\n",
              "\n",
              "    .colab-df-convert {\n",
              "      background-color: #E8F0FE;\n",
              "      border: none;\n",
              "      border-radius: 50%;\n",
              "      cursor: pointer;\n",
              "      display: none;\n",
              "      fill: #1967D2;\n",
              "      height: 32px;\n",
              "      padding: 0 0 0 0;\n",
              "      width: 32px;\n",
              "    }\n",
              "\n",
              "    .colab-df-convert:hover {\n",
              "      background-color: #E2EBFA;\n",
              "      box-shadow: 0px 1px 2px rgba(60, 64, 67, 0.3), 0px 1px 3px 1px rgba(60, 64, 67, 0.15);\n",
              "      fill: #174EA6;\n",
              "    }\n",
              "\n",
              "    [theme=dark] .colab-df-convert {\n",
              "      background-color: #3B4455;\n",
              "      fill: #D2E3FC;\n",
              "    }\n",
              "\n",
              "    [theme=dark] .colab-df-convert:hover {\n",
              "      background-color: #434B5C;\n",
              "      box-shadow: 0px 1px 3px 1px rgba(0, 0, 0, 0.15);\n",
              "      filter: drop-shadow(0px 1px 2px rgba(0, 0, 0, 0.3));\n",
              "      fill: #FFFFFF;\n",
              "    }\n",
              "  </style>\n",
              "\n",
              "      <script>\n",
              "        const buttonEl =\n",
              "          document.querySelector('#df-cdda1bab-82fe-4753-a2ca-ad233397936b button.colab-df-convert');\n",
              "        buttonEl.style.display =\n",
              "          google.colab.kernel.accessAllowed ? 'block' : 'none';\n",
              "\n",
              "        async function convertToInteractive(key) {\n",
              "          const element = document.querySelector('#df-cdda1bab-82fe-4753-a2ca-ad233397936b');\n",
              "          const dataTable =\n",
              "            await google.colab.kernel.invokeFunction('convertToInteractive',\n",
              "                                                     [key], {});\n",
              "          if (!dataTable) return;\n",
              "\n",
              "          const docLinkHtml = 'Like what you see? Visit the ' +\n",
              "            '<a target=\"_blank\" href=https://colab.research.google.com/notebooks/data_table.ipynb>data table notebook</a>'\n",
              "            + ' to learn more about interactive tables.';\n",
              "          element.innerHTML = '';\n",
              "          dataTable['output_type'] = 'display_data';\n",
              "          await google.colab.output.renderOutput(dataTable, element);\n",
              "          const docLink = document.createElement('div');\n",
              "          docLink.innerHTML = docLinkHtml;\n",
              "          element.appendChild(docLink);\n",
              "        }\n",
              "      </script>\n",
              "    </div>\n",
              "  </div>\n",
              "  "
            ]
          },
          "metadata": {},
          "execution_count": 131
        }
      ],
      "source": [
        "#from google.colab import drive\n",
        "#drive.mount('/content/drive')\n",
        "\n",
        "# Reading the training data set\n",
        "movie_reviews = pd.read_csv('drive/MyDrive/Colab Notebooks/train_file_kaggle.csv')\n",
        "print(movie_reviews.shape)\n",
        "movie_reviews"
      ]
    },
    {
      "cell_type": "code",
      "source": [
        "movie_reviews[\"Reviews\"][1]"
      ],
      "metadata": {
        "colab": {
          "base_uri": "https://localhost:8080/",
          "height": 54
        },
        "id": "ftB_RFv36qtq",
        "outputId": "7688934f-9fd4-47f0-8725-2d211dc9a542"
      },
      "execution_count": 132,
      "outputs": [
        {
          "output_type": "execute_result",
          "data": {
            "text/plain": [
              "\"you have to pay attention to follow all the stories , but they're each interesting . the movie is well shot and very tragic , and one to ponder after the credits roll . \""
            ],
            "application/vnd.google.colaboratory.intrinsic+json": {
              "type": "string"
            }
          },
          "metadata": {},
          "execution_count": 132
        }
      ]
    },
    {
      "cell_type": "code",
      "source": [
        "#Tokenize and stopword removal\n",
        "\n",
        "# Tokenization of text\n",
        "tokenizer=ToktokTokenizer()\n",
        "\n",
        "#Setting English stopwords\n",
        "stopword_list=stopwords.words('english')\n",
        "stopword_list.extend(['theyre', 'were', 'heis', 'im', 'ias', 'shouldve', 'arent', 'couldnt', 'didnt', 'doesnt'])\n",
        "print(stopword_list)"
      ],
      "metadata": {
        "colab": {
          "base_uri": "https://localhost:8080/"
        },
        "id": "9wIp7cD3okqC",
        "outputId": "7aa4c986-bb55-4b9a-8f7c-b1f117751c5d"
      },
      "execution_count": 133,
      "outputs": [
        {
          "output_type": "stream",
          "name": "stdout",
          "text": [
            "['i', 'me', 'my', 'myself', 'we', 'our', 'ours', 'ourselves', 'you', \"you're\", \"you've\", \"you'll\", \"you'd\", 'your', 'yours', 'yourself', 'yourselves', 'he', 'him', 'his', 'himself', 'she', \"she's\", 'her', 'hers', 'herself', 'it', \"it's\", 'its', 'itself', 'they', 'them', 'their', 'theirs', 'themselves', 'what', 'which', 'who', 'whom', 'this', 'that', \"that'll\", 'these', 'those', 'am', 'is', 'are', 'was', 'were', 'be', 'been', 'being', 'have', 'has', 'had', 'having', 'do', 'does', 'did', 'doing', 'a', 'an', 'the', 'and', 'but', 'if', 'or', 'because', 'as', 'until', 'while', 'of', 'at', 'by', 'for', 'with', 'about', 'against', 'between', 'into', 'through', 'during', 'before', 'after', 'above', 'below', 'to', 'from', 'up', 'down', 'in', 'out', 'on', 'off', 'over', 'under', 'again', 'further', 'then', 'once', 'here', 'there', 'when', 'where', 'why', 'how', 'all', 'any', 'both', 'each', 'few', 'more', 'most', 'other', 'some', 'such', 'no', 'nor', 'not', 'only', 'own', 'same', 'so', 'than', 'too', 'very', 's', 't', 'can', 'will', 'just', 'don', \"don't\", 'should', \"should've\", 'now', 'd', 'll', 'm', 'o', 're', 've', 'y', 'ain', 'aren', \"aren't\", 'couldn', \"couldn't\", 'didn', \"didn't\", 'doesn', \"doesn't\", 'hadn', \"hadn't\", 'hasn', \"hasn't\", 'haven', \"haven't\", 'isn', \"isn't\", 'ma', 'mightn', \"mightn't\", 'mustn', \"mustn't\", 'needn', \"needn't\", 'shan', \"shan't\", 'shouldn', \"shouldn't\", 'wasn', \"wasn't\", 'weren', \"weren't\", 'won', \"won't\", 'wouldn', \"wouldn't\", 'theyre', 'were', 'heis', 'im', 'ias', 'shouldve', 'arent', 'couldnt', 'didnt', 'doesnt']\n"
          ]
        }
      ]
    },
    {
      "cell_type": "markdown",
      "source": [],
      "metadata": {
        "id": "qSfS4N5FoKVY"
      }
    },
    {
      "cell_type": "code",
      "execution_count": 134,
      "metadata": {
        "id": "vR8GX2rfDyQC",
        "colab": {
          "base_uri": "https://localhost:8080/",
          "height": 37
        },
        "outputId": "1afc2495-4356-4449-f7b2-1844517a1e29"
      },
      "outputs": [
        {
          "output_type": "execute_result",
          "data": {
            "text/plain": [
              "\"pay attention follow stories , ' interesting . movie well shot tragic , one ponder credits roll .\""
            ],
            "application/vnd.google.colaboratory.intrinsic+json": {
              "type": "string"
            }
          },
          "metadata": {},
          "execution_count": 134
        }
      ],
      "source": [
        "# Define function to remove stopwords\n",
        "def remove_stopwords(text):\n",
        "    tokens =  tokenizer.tokenize(text)\n",
        "    #tokens = [token.strip() for token in tokens] \n",
        "\n",
        "    # Convert each token in tokens to lowercase and check if it is a stopword. If it is not a stopword, then add it to the filtered_tokens list\n",
        "    filtered_tokens = [token for token in tokens if token.lower() not in stopword_list]\n",
        "    filtered_text = ' '.join(filtered_tokens)   \n",
        "    return filtered_text\n",
        "\n",
        "# Apply function on review column\n",
        "movie_reviews['Reviews']= movie_reviews['Reviews'].apply(remove_stopwords)\n",
        "\n",
        "movie_reviews['Reviews'][1]"
      ]
    },
    {
      "cell_type": "code",
      "source": [
        "import re\n",
        "# Remove punctuation\n",
        "movie_reviews['Reviews'] = movie_reviews['Reviews'].map(lambda x: re.sub(\"[,\\.!/'?;:]\", '', x))\n",
        "\n",
        "# Convert the titles to lowercase\n",
        "#movie_reviews['Reviews'] = movie_reviews['Reviews'].str.lower()\n",
        "\n",
        "# Print out the first rows of papers\n",
        "movie_reviews['Reviews'][1]"
      ],
      "metadata": {
        "colab": {
          "base_uri": "https://localhost:8080/",
          "height": 37
        },
        "id": "iiY5VWGE8q7W",
        "outputId": "6e316516-b5ba-49e7-8843-3517931d2d45"
      },
      "execution_count": 135,
      "outputs": [
        {
          "output_type": "execute_result",
          "data": {
            "text/plain": [
              "'pay attention follow stories   interesting  movie well shot tragic  one ponder credits roll '"
            ],
            "application/vnd.google.colaboratory.intrinsic+json": {
              "type": "string"
            }
          },
          "metadata": {},
          "execution_count": 135
        }
      ]
    },
    {
      "cell_type": "code",
      "execution_count": 121,
      "metadata": {
        "colab": {
          "base_uri": "https://localhost:8080/",
          "height": 71
        },
        "id": "Er6qSiLKHUDy",
        "outputId": "90a580dd-9194-46da-e41c-a6c6ffe50c4b"
      },
      "outputs": [
        {
          "output_type": "execute_result",
          "data": {
            "text/plain": [
              "\"# Stemming the text\\ndef simple_stemmer(text):\\n    ps=nltk.porter.PorterStemmer()\\n    text= ' '.join([ps.stem(word) for word in text.split()])\\n    return text\\n# Apply function on review column\\nmovie_reviews['Reviews']=movie_reviews['Reviews'].apply(simple_stemmer)\\nmovie_reviews.head()\""
            ],
            "application/vnd.google.colaboratory.intrinsic+json": {
              "type": "string"
            }
          },
          "metadata": {},
          "execution_count": 121
        }
      ],
      "source": [
        "\"\"\"# Stemming the text\n",
        "def simple_stemmer(text):\n",
        "    ps=nltk.porter.PorterStemmer()\n",
        "    text= ' '.join([ps.stem(word) for word in text.split()])\n",
        "    return text\n",
        "# Apply function on review column\n",
        "movie_reviews['Reviews']=movie_reviews['Reviews'].apply(simple_stemmer)\n",
        "movie_reviews.head()\"\"\""
      ]
    },
    {
      "cell_type": "code",
      "execution_count": 137,
      "metadata": {
        "colab": {
          "base_uri": "https://localhost:8080/",
          "height": 37
        },
        "id": "g5n0SCHIHU4j",
        "outputId": "157d0552-f377-4158-ab52-b24a1996859a"
      },
      "outputs": [
        {
          "output_type": "execute_result",
          "data": {
            "text/plain": [
              "'pay attention follow story interesting movie well shot tragic one ponder credit roll'"
            ],
            "application/vnd.google.colaboratory.intrinsic+json": {
              "type": "string"
            }
          },
          "metadata": {},
          "execution_count": 137
        }
      ],
      "source": [
        "# Performing lemmatization\n",
        "def simple_lemmatize(text):\n",
        "    wnl=nltk.WordNetLemmatizer()\n",
        "    text= ' '.join([wnl.lemmatize(word) for word in text.split()])\n",
        "    return text\n",
        "    \n",
        "# Apply function on review column\n",
        "movie_reviews['Reviews']=movie_reviews['Reviews'].apply(simple_lemmatize)\n",
        "\n",
        "movie_reviews['Reviews'][1]"
      ]
    },
    {
      "cell_type": "code",
      "execution_count": 138,
      "metadata": {
        "colab": {
          "base_uri": "https://localhost:8080/"
        },
        "id": "cmAS6RIEI2JH",
        "outputId": "2c92ca75-d089-4954-c280-41af027dc56e"
      },
      "outputs": [
        {
          "output_type": "stream",
          "name": "stdout",
          "text": [
            "(5970, 2)\n",
            "(1493, 2)\n"
          ]
        }
      ],
      "source": [
        "#Tf-Idf Data Preparation\n",
        "from sklearn.model_selection import train_test_split\n",
        "train, val = train_test_split(movie_reviews, test_size=0.2, random_state=123)\n",
        "print(train.shape)\n",
        "print(val.shape)"
      ]
    },
    {
      "cell_type": "code",
      "execution_count": 139,
      "metadata": {
        "id": "rMEpX8xMr84w"
      },
      "outputs": [],
      "source": [
        "#creating list format for Tf-Idf vectorization\n",
        "train_reviews=list(train['Reviews'])\n",
        "val_reviews=list(val['Reviews'])"
      ]
    },
    {
      "cell_type": "code",
      "execution_count": 166,
      "metadata": {
        "colab": {
          "base_uri": "https://localhost:8080/"
        },
        "id": "M-pNE9xnsntb",
        "outputId": "42669120-a5ba-442e-8331-0c3f4166c2c0"
      },
      "outputs": [
        {
          "output_type": "stream",
          "name": "stdout",
          "text": [
            "Tfidf_train: (5970, 800)\n",
            "Tfidf_val: (1493, 800)\n"
          ]
        }
      ],
      "source": [
        "tv = TfidfVectorizer(max_features=800, use_idf=True, ngram_range=(1,2))\n",
        "tv.fit(train_reviews)\n",
        "\n",
        "# transformed train reviews\n",
        "tv_train_reviews = tv.fit_transform(train_reviews)\n",
        "# transformed val reviews\n",
        "tv_val_reviews = tv.transform(val_reviews)\n",
        "\n",
        "print('Tfidf_train:', tv_train_reviews.shape)\n",
        "print('Tfidf_val:', tv_val_reviews.shape)"
      ]
    },
    {
      "cell_type": "code",
      "execution_count": 167,
      "metadata": {
        "colab": {
          "base_uri": "https://localhost:8080/"
        },
        "id": "Yuwsyut9s5RI",
        "outputId": "423c9685-cdba-4f07-c5ec-1d6bf71be8dd"
      },
      "outputs": [
        {
          "output_type": "stream",
          "name": "stdout",
          "text": [
            "3479    0\n",
            "1012    0\n",
            "3508    0\n",
            "3346    1\n",
            "1591    0\n",
            "       ..\n",
            "5218    0\n",
            "4060    1\n",
            "1346    1\n",
            "3454    1\n",
            "3582    0\n",
            "Name: Sentiments, Length: 5970, dtype: int64\n",
            "6007    1\n",
            "5233    1\n",
            "2972    1\n",
            "6915    1\n",
            "1852    1\n",
            "       ..\n",
            "112     1\n",
            "7118    1\n",
            "6872    0\n",
            "2727    1\n",
            "6592    1\n",
            "Name: Sentiments, Length: 1493, dtype: int64\n"
          ]
        }
      ],
      "source": [
        "# Spliting the sentiment data\n",
        "train_sentiments=train['Sentiments']\n",
        "val_sentiments=val['Sentiments']\n",
        "\n",
        "#converting 'pos' to 1 and 'neg' to 0\n",
        "train_sentiments = train_sentiments.apply(lambda x: np.where(x == 'pos', 1, 0))\n",
        "\n",
        "val_sentiments = val_sentiments.apply(lambda x: np.where(x == 'pos', 1, 0))\n",
        "\n",
        "print(train_sentiments)\n",
        "print(val_sentiments)"
      ]
    },
    {
      "cell_type": "markdown",
      "metadata": {
        "id": "gKerDLXuedjV"
      },
      "source": [
        "Logistic Regression (Lasso Model)"
      ]
    },
    {
      "cell_type": "code",
      "execution_count": 177,
      "metadata": {
        "colab": {
          "base_uri": "https://localhost:8080/"
        },
        "id": "8nKGcjeZzNXy",
        "outputId": "cfff0cb8-f2a3-4693-e672-2cd3b774e9bf"
      },
      "outputs": [
        {
          "output_type": "stream",
          "name": "stdout",
          "text": [
            " Train accuracy using Log Regression is 0.7819095477386935\n",
            " Val accuracy using Log Regression is 0.7066309444072337\n",
            " Train accuracy using Lasso model is 0.7797319932998324\n",
            " Val accuracy using Lasso model is 0.7193569993302076\n"
          ]
        }
      ],
      "source": [
        "# Log Model hypertuning\n",
        "from sklearn.linear_model import LogisticRegressionCV\n",
        "\n",
        "# Log Model\n",
        "log_clf_best = LogisticRegression(penalty='none', solver='lbfgs', random_state=0, \n",
        "                                     max_iter=500).fit(tv_train_reviews, train_sentiments)\n",
        "log_train_acc = log_clf_best.score(tv_train_reviews, train_sentiments)\n",
        "log_val_acc = log_clf_best.score(tv_val_reviews, val_sentiments)\n",
        "print(f' Train accuracy using Log Regression is {log_train_acc}')\n",
        "print(f' Val accuracy using Log Regression is {log_val_acc}')\n",
        "\n",
        "#lasso model\n",
        "C_list = np.arange(0.1,2,0.1)\n",
        "lasso_reg_cv = LogisticRegressionCV(Cs=C_list, penalty='l1', solver='liblinear', \n",
        "                                    random_state=0)\n",
        "lasso_reg_cv.fit(tv_train_reviews, train_sentiments)\n",
        "log_cv_train_acc = lasso_reg_cv.score(tv_train_reviews, train_sentiments)\n",
        "log_cv_val_acc = lasso_reg_cv.score(tv_val_reviews, val_sentiments)\n",
        "print(f' Train accuracy using Lasso model is {log_cv_train_acc}')\n",
        "print(f' Val accuracy using Lasso model is {log_cv_val_acc}')"
      ]
    },
    {
      "cell_type": "markdown",
      "metadata": {
        "id": "FHWHA7VSeDGG"
      },
      "source": [
        "Decision Tree Model"
      ]
    },
    {
      "cell_type": "code",
      "execution_count": 178,
      "metadata": {
        "colab": {
          "base_uri": "https://localhost:8080/"
        },
        "id": "TIofx_D32j9_",
        "outputId": "09871c27-826d-462d-d9c6-6a2f6627490f"
      },
      "outputs": [
        {
          "output_type": "stream",
          "name": "stdout",
          "text": [
            "Fitting 3 folds for each of 30 candidates, totalling 90 fits\n",
            "The optimal value of max_depth is 139\n",
            " Train accuracy using Decision Tree model is 0.8698492462311558\n",
            " Val accuracy using Decision Tree model is 0.6001339584728734\n"
          ]
        }
      ],
      "source": [
        "# Tree Model\n",
        "tree_clf = DecisionTreeClassifier(random_state = 0)\n",
        "\n",
        "# Define the range of the max_depth parameter\n",
        "param_grid = {'max_depth': np.arange(120, 150)} # Parameter range\n",
        "\n",
        "# Perform grid search\n",
        "grid = GridSearchCV(tree_clf, param_grid, cv = 3, scoring = 'accuracy', return_train_score = False, verbose = 1)\n",
        "grid_search = grid.fit(tv_train_reviews, train_sentiments)\n",
        "\n",
        "# Print the optimal value of max_depth\n",
        "print('The optimal value of max_depth is', grid_search.best_params_['max_depth'])\n",
        "\n",
        "tree_clf_best = DecisionTreeClassifier(random_state=0, max_depth=134)\n",
        "tree_clf_best.fit(tv_train_reviews, train_sentiments)\n",
        "\n",
        "tree_train_acc = tree_clf_best.score(tv_train_reviews, train_sentiments)\n",
        "tree_val_acc = tree_clf_best.score(tv_val_reviews, val_sentiments)\n",
        "\n",
        "print(f' Train accuracy using Decision Tree model is {tree_train_acc}')\n",
        "print(f' Val accuracy using Decision Tree model is {tree_val_acc}')"
      ]
    },
    {
      "cell_type": "markdown",
      "metadata": {
        "id": "2O69mQSteGMA"
      },
      "source": [
        "KNN Model"
      ]
    },
    {
      "cell_type": "code",
      "execution_count": 179,
      "metadata": {
        "colab": {
          "base_uri": "https://localhost:8080/"
        },
        "id": "JuSvBWK42j8e",
        "outputId": "375df883-b51b-4630-ea9e-dad782198888"
      },
      "outputs": [
        {
          "output_type": "stream",
          "name": "stdout",
          "text": [
            "Fitting 3 folds for each of 10 candidates, totalling 30 fits\n",
            "1\n",
            " Train accuracy using KNN model is 0.9852596314907873\n",
            " Val accuracy using KNN model is 0.565304755525787\n"
          ]
        }
      ],
      "source": [
        "# KNN Model\n",
        "knn_clf = KNeighborsClassifier()\n",
        "param_grid = {'n_neighbors': np.arange(1,11)} # Parameter range\n",
        "\n",
        "# defining parameter range2\n",
        "grid = GridSearchCV(knn_clf, param_grid, cv=3, scoring='accuracy', return_train_score=True, verbose=1)\n",
        "grid_search = grid.fit(tv_train_reviews, train_sentiments)\n",
        "print(grid_search.best_params_['n_neighbors'])\n",
        "\n",
        "# inserting the best parameter and re-fitting a kNN model\n",
        "knn_clf_best = KNeighborsClassifier(n_neighbors=grid_search.best_params_['n_neighbors'])\n",
        "\n",
        "knn_clf_best.fit(tv_train_reviews, train_sentiments)\n",
        "knn_train_acc = knn_clf_best.score(tv_train_reviews, train_sentiments)\n",
        "knn_val_acc = knn_clf_best.score(tv_val_reviews, val_sentiments)\n",
        "\n",
        "print(f' Train accuracy using KNN model is {knn_train_acc}')\n",
        "print(f' Val accuracy using KNN model is {knn_val_acc}')"
      ]
    },
    {
      "cell_type": "code",
      "execution_count": 180,
      "metadata": {
        "colab": {
          "base_uri": "https://localhost:8080/",
          "height": 142
        },
        "id": "f1MRBod_dZNH",
        "outputId": "c002da6c-a7ee-4f02-f020-bc0d07cda84d"
      },
      "outputs": [
        {
          "output_type": "execute_result",
          "data": {
            "text/plain": [
              "          Training Acc  Validation Acc\n",
              "Logistic      0.779732        0.719357\n",
              "Tree          0.869849        0.600134\n",
              "KNN           0.985260        0.565305"
            ],
            "text/html": [
              "\n",
              "  <div id=\"df-4d52574c-52d6-4bb3-8a86-7d3f62904d93\">\n",
              "    <div class=\"colab-df-container\">\n",
              "      <div>\n",
              "<style scoped>\n",
              "    .dataframe tbody tr th:only-of-type {\n",
              "        vertical-align: middle;\n",
              "    }\n",
              "\n",
              "    .dataframe tbody tr th {\n",
              "        vertical-align: top;\n",
              "    }\n",
              "\n",
              "    .dataframe thead th {\n",
              "        text-align: right;\n",
              "    }\n",
              "</style>\n",
              "<table border=\"1\" class=\"dataframe\">\n",
              "  <thead>\n",
              "    <tr style=\"text-align: right;\">\n",
              "      <th></th>\n",
              "      <th>Training Acc</th>\n",
              "      <th>Validation Acc</th>\n",
              "    </tr>\n",
              "  </thead>\n",
              "  <tbody>\n",
              "    <tr>\n",
              "      <th>Logistic</th>\n",
              "      <td>0.779732</td>\n",
              "      <td>0.719357</td>\n",
              "    </tr>\n",
              "    <tr>\n",
              "      <th>Tree</th>\n",
              "      <td>0.869849</td>\n",
              "      <td>0.600134</td>\n",
              "    </tr>\n",
              "    <tr>\n",
              "      <th>KNN</th>\n",
              "      <td>0.985260</td>\n",
              "      <td>0.565305</td>\n",
              "    </tr>\n",
              "  </tbody>\n",
              "</table>\n",
              "</div>\n",
              "      <button class=\"colab-df-convert\" onclick=\"convertToInteractive('df-4d52574c-52d6-4bb3-8a86-7d3f62904d93')\"\n",
              "              title=\"Convert this dataframe to an interactive table.\"\n",
              "              style=\"display:none;\">\n",
              "        \n",
              "  <svg xmlns=\"http://www.w3.org/2000/svg\" height=\"24px\"viewBox=\"0 0 24 24\"\n",
              "       width=\"24px\">\n",
              "    <path d=\"M0 0h24v24H0V0z\" fill=\"none\"/>\n",
              "    <path d=\"M18.56 5.44l.94 2.06.94-2.06 2.06-.94-2.06-.94-.94-2.06-.94 2.06-2.06.94zm-11 1L8.5 8.5l.94-2.06 2.06-.94-2.06-.94L8.5 2.5l-.94 2.06-2.06.94zm10 10l.94 2.06.94-2.06 2.06-.94-2.06-.94-.94-2.06-.94 2.06-2.06.94z\"/><path d=\"M17.41 7.96l-1.37-1.37c-.4-.4-.92-.59-1.43-.59-.52 0-1.04.2-1.43.59L10.3 9.45l-7.72 7.72c-.78.78-.78 2.05 0 2.83L4 21.41c.39.39.9.59 1.41.59.51 0 1.02-.2 1.41-.59l7.78-7.78 2.81-2.81c.8-.78.8-2.07 0-2.86zM5.41 20L4 18.59l7.72-7.72 1.47 1.35L5.41 20z\"/>\n",
              "  </svg>\n",
              "      </button>\n",
              "      \n",
              "  <style>\n",
              "    .colab-df-container {\n",
              "      display:flex;\n",
              "      flex-wrap:wrap;\n",
              "      gap: 12px;\n",
              "    }\n",
              "\n",
              "    .colab-df-convert {\n",
              "      background-color: #E8F0FE;\n",
              "      border: none;\n",
              "      border-radius: 50%;\n",
              "      cursor: pointer;\n",
              "      display: none;\n",
              "      fill: #1967D2;\n",
              "      height: 32px;\n",
              "      padding: 0 0 0 0;\n",
              "      width: 32px;\n",
              "    }\n",
              "\n",
              "    .colab-df-convert:hover {\n",
              "      background-color: #E2EBFA;\n",
              "      box-shadow: 0px 1px 2px rgba(60, 64, 67, 0.3), 0px 1px 3px 1px rgba(60, 64, 67, 0.15);\n",
              "      fill: #174EA6;\n",
              "    }\n",
              "\n",
              "    [theme=dark] .colab-df-convert {\n",
              "      background-color: #3B4455;\n",
              "      fill: #D2E3FC;\n",
              "    }\n",
              "\n",
              "    [theme=dark] .colab-df-convert:hover {\n",
              "      background-color: #434B5C;\n",
              "      box-shadow: 0px 1px 3px 1px rgba(0, 0, 0, 0.15);\n",
              "      filter: drop-shadow(0px 1px 2px rgba(0, 0, 0, 0.3));\n",
              "      fill: #FFFFFF;\n",
              "    }\n",
              "  </style>\n",
              "\n",
              "      <script>\n",
              "        const buttonEl =\n",
              "          document.querySelector('#df-4d52574c-52d6-4bb3-8a86-7d3f62904d93 button.colab-df-convert');\n",
              "        buttonEl.style.display =\n",
              "          google.colab.kernel.accessAllowed ? 'block' : 'none';\n",
              "\n",
              "        async function convertToInteractive(key) {\n",
              "          const element = document.querySelector('#df-4d52574c-52d6-4bb3-8a86-7d3f62904d93');\n",
              "          const dataTable =\n",
              "            await google.colab.kernel.invokeFunction('convertToInteractive',\n",
              "                                                     [key], {});\n",
              "          if (!dataTable) return;\n",
              "\n",
              "          const docLinkHtml = 'Like what you see? Visit the ' +\n",
              "            '<a target=\"_blank\" href=https://colab.research.google.com/notebooks/data_table.ipynb>data table notebook</a>'\n",
              "            + ' to learn more about interactive tables.';\n",
              "          element.innerHTML = '';\n",
              "          dataTable['output_type'] = 'display_data';\n",
              "          await google.colab.output.renderOutput(dataTable, element);\n",
              "          const docLink = document.createElement('div');\n",
              "          docLink.innerHTML = docLinkHtml;\n",
              "          element.appendChild(docLink);\n",
              "        }\n",
              "      </script>\n",
              "    </div>\n",
              "  </div>\n",
              "  "
            ]
          },
          "metadata": {},
          "execution_count": 180
        }
      ],
      "source": [
        "# Tabulating our results for training and validation accuracy\n",
        "pd.DataFrame([[log_cv_train_acc, log_cv_val_acc], [tree_train_acc, tree_val_acc], \n",
        "              [knn_train_acc, knn_val_acc]], columns=['Training Acc', 'Validation Acc'], \n",
        "              index = ['Logistic', 'Tree', 'KNN'])"
      ]
    },
    {
      "cell_type": "markdown",
      "metadata": {
        "id": "_FFLFquhdr7z"
      },
      "source": [
        "Random Forest Classifier"
      ]
    },
    {
      "cell_type": "code",
      "execution_count": 181,
      "metadata": {
        "colab": {
          "base_uri": "https://localhost:8080/"
        },
        "id": "6gcYF8KtSjxW",
        "outputId": "4681a11c-8041-41b2-e02a-5a1b933ff87b"
      },
      "outputs": [
        {
          "output_type": "stream",
          "name": "stdout",
          "text": [
            "Fitting 3 folds for each of 30 candidates, totalling 90 fits\n",
            "The optimal value of max_depth is 39\n",
            "The optimal value of n_estimator is 400\n"
          ]
        }
      ],
      "source": [
        "#Hyperparameter tuning for max_depth and n_estimators\n",
        "\n",
        "# Create a DecisionTreeClassifier object\n",
        "tree_clf = RandomForestClassifier(random_state = 0)\n",
        "\n",
        "# Define the range of the max_depth parameter\n",
        "param_grid = {'max_depth': np.arange(35, 40, 1), 'n_estimators' : np.arange(380, 500, 20)} # Parameter range\n",
        "\n",
        "# Perform grid search\n",
        "grid = GridSearchCV(tree_clf, param_grid, cv = 3, scoring = 'accuracy', return_train_score = False, verbose = 1)\n",
        "grid_search = grid.fit(tv_train_reviews, train_sentiments)\n",
        "\n",
        "# Print the optimal value of max_depth\n",
        "print('The optimal value of max_depth is', grid_search.best_params_['max_depth'])\n",
        "print('The optimal value of n_estimator is', grid_search.best_params_['n_estimators'])\n"
      ]
    },
    {
      "cell_type": "code",
      "execution_count": 182,
      "metadata": {
        "colab": {
          "base_uri": "https://localhost:8080/"
        },
        "id": "1zqE-bR1ZDWq",
        "outputId": "f28cd9a1-81f2-4426-bcf5-94fc4c2fbb0e"
      },
      "outputs": [
        {
          "output_type": "stream",
          "name": "stdout",
          "text": [
            "\n",
            " ROC-AUC score on the training dataset: 0.8955842648103272\n",
            "\n",
            " ROC-AUC score on the val dataset 0.6903418573351279\n"
          ]
        }
      ],
      "source": [
        "# Creating the best random forest classifier based on optimal max depth and n_estimators parameters\n",
        "rf = RandomForestClassifier(n_estimators = grid_search.best_params_['n_estimators'],\n",
        "                            max_depth = grid_search.best_params_['max_depth'],\n",
        "                            class_weight = 'balanced',\n",
        "                            random_state = 123)\n",
        "rf.fit(tv_train_reviews, train_sentiments)\n",
        "\n",
        "# Obtaining predictions on the training and validation sets\n",
        "y_pred_train = rf.predict(tv_train_reviews)\n",
        "y_pred_val = rf.predict(tv_val_reviews)\n",
        "\n",
        "rf_train_auc = roc_auc_score(train_sentiments, y_pred_train)\n",
        "rf_val_auc = roc_auc_score(val_sentiments, y_pred_val)\n",
        "\n",
        "print('\\n ROC-AUC score on the training dataset:', rf_train_auc)\n",
        "print('\\n ROC-AUC score on the val dataset', rf_val_auc)"
      ]
    },
    {
      "cell_type": "markdown",
      "metadata": {
        "id": "-4_KlUyOiEEg"
      },
      "source": [
        "LightGBM Model"
      ]
    },
    {
      "cell_type": "code",
      "execution_count": 183,
      "metadata": {
        "colab": {
          "base_uri": "https://localhost:8080/"
        },
        "id": "-oWXioQow_SB",
        "outputId": "ee708e35-b516-4737-aa9b-030d18695bc9"
      },
      "outputs": [
        {
          "output_type": "stream",
          "name": "stdout",
          "text": [
            "Fitting 3 folds for each of 16 candidates, totalling 48 fits\n"
          ]
        },
        {
          "output_type": "execute_result",
          "data": {
            "text/plain": [
              "{'learning_rate': 0.01, 'max_depth': 14, 'n_estimators': 1000}"
            ]
          },
          "metadata": {},
          "execution_count": 183
        }
      ],
      "source": [
        "# defining an LGBM\n",
        "gbm = LGBMClassifier(class_weight = 'balanced',\n",
        "                     random_state = 123)\n",
        "\n",
        "# defining parameter range\n",
        "param_grid = {'n_estimators': np.arange(900,1100,50),\n",
        "              'learning_rate': np.arange(0.01,0.02, 0.01),\n",
        "              'max_depth': np.arange(5,15,3)} # Parameter range\n",
        "\n",
        "# running grid search to find the best combination of hyperparameters\n",
        "grid = GridSearchCV(gbm, param_grid, cv=3, scoring='accuracy', return_train_score=True, verbose=1)\n",
        "grid_search = grid.fit(tv_train_reviews, train_sentiments)\n",
        "\n",
        "grid_search.best_params_"
      ]
    },
    {
      "cell_type": "code",
      "execution_count": 188,
      "metadata": {
        "colab": {
          "base_uri": "https://localhost:8080/"
        },
        "id": "CGK_1gc8hiDq",
        "outputId": "cb19aa60-1729-4356-ab64-e4b7366c1420"
      },
      "outputs": [
        {
          "output_type": "stream",
          "name": "stdout",
          "text": [
            "Accuracy on the training dataset:\n",
            " 0.7728643216080402\n",
            "\n",
            " Accuracy on the validation dataset:\n",
            " 0.6744809109176155\n"
          ]
        }
      ],
      "source": [
        "# refitting the model with best grid search parameters\n",
        "gbm_best = LGBMClassifier(n_estimators=grid_search.best_params_['n_estimators'],\n",
        "                          learning_rate=grid_search.best_params_['learning_rate'],\n",
        "                          max_depth= grid_search.best_params_['max_depth'],\n",
        "                          class_weight = 'balanced',\n",
        "                          random_state = 123)\n",
        "\n",
        "gbm_best.fit(tv_train_reviews, train_sentiments)\n",
        "\n",
        "# finding the accuracies of the updated lgbm model\n",
        "gbm_train_acc = gbm_best.score(tv_train_reviews, train_sentiments)\n",
        "gbm_val_acc = gbm_best.score(tv_val_reviews, val_sentiments)\n",
        "\n",
        "print('Accuracy on the training dataset:\\n',gbm_train_acc)\n",
        "print('\\n Accuracy on the validation dataset:\\n',gbm_val_acc)"
      ]
    },
    {
      "cell_type": "code",
      "execution_count": 185,
      "metadata": {
        "colab": {
          "base_uri": "https://localhost:8080/"
        },
        "id": "u-oc1h8OhmDq",
        "outputId": "cd677526-74d0-4ea4-d2bd-46a88a716fae"
      },
      "outputs": [
        {
          "output_type": "stream",
          "name": "stdout",
          "text": [
            "ROC-AUC score on the training dataset: 0.7842713424133073\n",
            "\n",
            " ROC AUC on the validation dataset: 0.6731467025572007\n"
          ]
        }
      ],
      "source": [
        "# Obtaining predictions on the training and validation sets\n",
        "gbm_pred_train = gbm_best.predict(tv_train_reviews)\n",
        "gbm_pred_val = gbm_best.predict(tv_val_reviews)\n",
        "\n",
        "gbm_train_auc = roc_auc_score(train_sentiments, gbm_pred_train)\n",
        "gbm_val_auc = roc_auc_score(val_sentiments, gbm_pred_val)\n",
        "\n",
        "# Evaluating the gradient boosted model on the training and validation sets using confusion metrics and AUC of ROC\n",
        "print('ROC-AUC score on the training dataset:',gbm_train_auc)\n",
        "print('\\n ROC AUC on the validation dataset:',gbm_val_auc)"
      ]
    },
    {
      "cell_type": "code",
      "source": [
        "import xgboost as xgb"
      ],
      "metadata": {
        "id": "1gEKqV5UZ2ao"
      },
      "execution_count": 186,
      "outputs": []
    },
    {
      "cell_type": "code",
      "source": [
        "# defining XGBoost\n",
        "xg = xgb.XGBClassifier(class_weight = 'balanced',\n",
        "                     random_state = 123)\n",
        "\n",
        "# defining parameter range\n",
        "param_grid = {'n_estimators': np.arange(760,800,10),\n",
        "              'learning_rate': np.arange(0.01,0.03),\n",
        "              'max_depth': np.arange(13,16)} # Parameter range\n",
        "\n",
        "# running grid search to find the best combination of hyperparameters\n",
        "grid = GridSearchCV(xg, param_grid, cv=5, scoring='accuracy', return_train_score=True, verbose=1)\n",
        "grid_search = grid.fit(tv_train_reviews, train_sentiments)\n",
        "\n",
        "grid_search.best_params_"
      ],
      "metadata": {
        "colab": {
          "base_uri": "https://localhost:8080/"
        },
        "id": "BtazapSZZ_VL",
        "outputId": "43fc25bb-b691-4064-bed7-8d16c73e86ec"
      },
      "execution_count": 187,
      "outputs": [
        {
          "output_type": "stream",
          "name": "stdout",
          "text": [
            "Fitting 5 folds for each of 12 candidates, totalling 60 fits\n"
          ]
        },
        {
          "output_type": "execute_result",
          "data": {
            "text/plain": [
              "{'learning_rate': 0.01, 'max_depth': 13, 'n_estimators': 790}"
            ]
          },
          "metadata": {},
          "execution_count": 187
        }
      ]
    },
    {
      "cell_type": "code",
      "source": [
        "from xgboost.sklearn import XGBClassifier\n",
        "# refitting the model with best grid search parameters\n",
        "xg_best = XGBClassifier(n_estimators=grid_search.best_params_['n_estimators'],\n",
        "                          learning_rate=grid_search.best_params_['learning_rate'],\n",
        "                          max_depth= grid_search.best_params_['max_depth'],\n",
        "                          class_weight = 'balanced',\n",
        "                          random_state = 123)\n",
        "\n",
        "xg_best.fit(tv_train_reviews, train_sentiments)\n",
        "\n",
        "# finding the accuracies of the updated lgbm model\n",
        "xg_train_acc = xg_best.score(tv_train_reviews, train_sentiments)\n",
        "xg_val_acc = xg_best.score(tv_val_reviews, val_sentiments)\n",
        "\n",
        "print('Accuracy on the training dataset:\\n',xg_train_acc)\n",
        "print('\\n Accuracy on the validation dataset:\\n',xg_val_acc)"
      ],
      "metadata": {
        "colab": {
          "base_uri": "https://localhost:8080/"
        },
        "id": "YxaJnTcSanBA",
        "outputId": "3d8accad-e304-4247-8fe7-7c4783171ea1"
      },
      "execution_count": 189,
      "outputs": [
        {
          "output_type": "stream",
          "name": "stdout",
          "text": [
            "Accuracy on the training dataset:\n",
            " 0.8185929648241206\n",
            "\n",
            " Accuracy on the validation dataset:\n",
            " 0.667113194909578\n"
          ]
        }
      ]
    },
    {
      "cell_type": "code",
      "source": [
        "# Obtaining predictions on the training and validation sets\n",
        "xg_pred_train = xg_best.predict(tv_train_reviews)\n",
        "xg_pred_val = xg_best.predict(tv_val_reviews)\n",
        "\n",
        "xg_train_auc = roc_auc_score(train_sentiments, xg_pred_train)\n",
        "xg_val_auc = roc_auc_score(val_sentiments, xg_pred_val)\n",
        "\n",
        "# Evaluating the gradient boosted model on the training and validation sets using confusion metrics and AUC of ROC\n",
        "print('ROC-AUC score on the training dataset:', xg_train_auc)\n",
        "print('\\n ROC AUC on the validation dataset:',xg_val_auc)"
      ],
      "metadata": {
        "id": "wv929rrlkgo2",
        "colab": {
          "base_uri": "https://localhost:8080/"
        },
        "outputId": "96a70261-1530-4db3-d67d-f886a9eedd51"
      },
      "execution_count": 190,
      "outputs": [
        {
          "output_type": "stream",
          "name": "stdout",
          "text": [
            "ROC-AUC score on the training dataset: 0.8189129486151528\n",
            "\n",
            " ROC AUC on the validation dataset: 0.6672597577388965\n"
          ]
        }
      ]
    },
    {
      "cell_type": "code",
      "source": [
        "# Tabulating our results for training and validation ROC-AUC score\n",
        "pd.DataFrame([[rf_train_auc, rf_val_auc], [gbm_train_auc, gbm_val_auc], \n",
        "              [xg_train_auc, xg_val_auc]], columns=['Training ROC-AUC', 'Validation ROC-AUC'], \n",
        "              index = ['Random Forest', 'LightGBM', 'XGBoost'])"
      ],
      "metadata": {
        "colab": {
          "base_uri": "https://localhost:8080/",
          "height": 142
        },
        "id": "zJlBb5-Bkp7v",
        "outputId": "551dd622-6479-4aee-b5eb-adb6b340ba60"
      },
      "execution_count": 191,
      "outputs": [
        {
          "output_type": "execute_result",
          "data": {
            "text/plain": [
              "               Training ROC-AUC  Validation ROC-AUC\n",
              "Random Forest          0.895584            0.690342\n",
              "LightGBM               0.784271            0.673147\n",
              "XGBoost                0.818913            0.667260"
            ],
            "text/html": [
              "\n",
              "  <div id=\"df-d0be304c-5219-4598-b76e-3faeae9cde70\">\n",
              "    <div class=\"colab-df-container\">\n",
              "      <div>\n",
              "<style scoped>\n",
              "    .dataframe tbody tr th:only-of-type {\n",
              "        vertical-align: middle;\n",
              "    }\n",
              "\n",
              "    .dataframe tbody tr th {\n",
              "        vertical-align: top;\n",
              "    }\n",
              "\n",
              "    .dataframe thead th {\n",
              "        text-align: right;\n",
              "    }\n",
              "</style>\n",
              "<table border=\"1\" class=\"dataframe\">\n",
              "  <thead>\n",
              "    <tr style=\"text-align: right;\">\n",
              "      <th></th>\n",
              "      <th>Training ROC-AUC</th>\n",
              "      <th>Validation ROC-AUC</th>\n",
              "    </tr>\n",
              "  </thead>\n",
              "  <tbody>\n",
              "    <tr>\n",
              "      <th>Random Forest</th>\n",
              "      <td>0.895584</td>\n",
              "      <td>0.690342</td>\n",
              "    </tr>\n",
              "    <tr>\n",
              "      <th>LightGBM</th>\n",
              "      <td>0.784271</td>\n",
              "      <td>0.673147</td>\n",
              "    </tr>\n",
              "    <tr>\n",
              "      <th>XGBoost</th>\n",
              "      <td>0.818913</td>\n",
              "      <td>0.667260</td>\n",
              "    </tr>\n",
              "  </tbody>\n",
              "</table>\n",
              "</div>\n",
              "      <button class=\"colab-df-convert\" onclick=\"convertToInteractive('df-d0be304c-5219-4598-b76e-3faeae9cde70')\"\n",
              "              title=\"Convert this dataframe to an interactive table.\"\n",
              "              style=\"display:none;\">\n",
              "        \n",
              "  <svg xmlns=\"http://www.w3.org/2000/svg\" height=\"24px\"viewBox=\"0 0 24 24\"\n",
              "       width=\"24px\">\n",
              "    <path d=\"M0 0h24v24H0V0z\" fill=\"none\"/>\n",
              "    <path d=\"M18.56 5.44l.94 2.06.94-2.06 2.06-.94-2.06-.94-.94-2.06-.94 2.06-2.06.94zm-11 1L8.5 8.5l.94-2.06 2.06-.94-2.06-.94L8.5 2.5l-.94 2.06-2.06.94zm10 10l.94 2.06.94-2.06 2.06-.94-2.06-.94-.94-2.06-.94 2.06-2.06.94z\"/><path d=\"M17.41 7.96l-1.37-1.37c-.4-.4-.92-.59-1.43-.59-.52 0-1.04.2-1.43.59L10.3 9.45l-7.72 7.72c-.78.78-.78 2.05 0 2.83L4 21.41c.39.39.9.59 1.41.59.51 0 1.02-.2 1.41-.59l7.78-7.78 2.81-2.81c.8-.78.8-2.07 0-2.86zM5.41 20L4 18.59l7.72-7.72 1.47 1.35L5.41 20z\"/>\n",
              "  </svg>\n",
              "      </button>\n",
              "      \n",
              "  <style>\n",
              "    .colab-df-container {\n",
              "      display:flex;\n",
              "      flex-wrap:wrap;\n",
              "      gap: 12px;\n",
              "    }\n",
              "\n",
              "    .colab-df-convert {\n",
              "      background-color: #E8F0FE;\n",
              "      border: none;\n",
              "      border-radius: 50%;\n",
              "      cursor: pointer;\n",
              "      display: none;\n",
              "      fill: #1967D2;\n",
              "      height: 32px;\n",
              "      padding: 0 0 0 0;\n",
              "      width: 32px;\n",
              "    }\n",
              "\n",
              "    .colab-df-convert:hover {\n",
              "      background-color: #E2EBFA;\n",
              "      box-shadow: 0px 1px 2px rgba(60, 64, 67, 0.3), 0px 1px 3px 1px rgba(60, 64, 67, 0.15);\n",
              "      fill: #174EA6;\n",
              "    }\n",
              "\n",
              "    [theme=dark] .colab-df-convert {\n",
              "      background-color: #3B4455;\n",
              "      fill: #D2E3FC;\n",
              "    }\n",
              "\n",
              "    [theme=dark] .colab-df-convert:hover {\n",
              "      background-color: #434B5C;\n",
              "      box-shadow: 0px 1px 3px 1px rgba(0, 0, 0, 0.15);\n",
              "      filter: drop-shadow(0px 1px 2px rgba(0, 0, 0, 0.3));\n",
              "      fill: #FFFFFF;\n",
              "    }\n",
              "  </style>\n",
              "\n",
              "      <script>\n",
              "        const buttonEl =\n",
              "          document.querySelector('#df-d0be304c-5219-4598-b76e-3faeae9cde70 button.colab-df-convert');\n",
              "        buttonEl.style.display =\n",
              "          google.colab.kernel.accessAllowed ? 'block' : 'none';\n",
              "\n",
              "        async function convertToInteractive(key) {\n",
              "          const element = document.querySelector('#df-d0be304c-5219-4598-b76e-3faeae9cde70');\n",
              "          const dataTable =\n",
              "            await google.colab.kernel.invokeFunction('convertToInteractive',\n",
              "                                                     [key], {});\n",
              "          if (!dataTable) return;\n",
              "\n",
              "          const docLinkHtml = 'Like what you see? Visit the ' +\n",
              "            '<a target=\"_blank\" href=https://colab.research.google.com/notebooks/data_table.ipynb>data table notebook</a>'\n",
              "            + ' to learn more about interactive tables.';\n",
              "          element.innerHTML = '';\n",
              "          dataTable['output_type'] = 'display_data';\n",
              "          await google.colab.output.renderOutput(dataTable, element);\n",
              "          const docLink = document.createElement('div');\n",
              "          docLink.innerHTML = docLinkHtml;\n",
              "          element.appendChild(docLink);\n",
              "        }\n",
              "      </script>\n",
              "    </div>\n",
              "  </div>\n",
              "  "
            ]
          },
          "metadata": {},
          "execution_count": 191
        }
      ]
    },
    {
      "cell_type": "markdown",
      "metadata": {
        "id": "iwaO5_ImnS69"
      },
      "source": [
        "#Deep Learning Models"
      ]
    },
    {
      "cell_type": "code",
      "execution_count": 192,
      "metadata": {
        "id": "6hbzw1E8xBMW"
      },
      "outputs": [],
      "source": [
        "#Building a deep learning model\n",
        "\n",
        "# Converting the sparse matrix of a dataset obtained from Tf-Idf vectorization to a sparse tensor \n",
        "# This is done as Keras runs on Tensorflow backend and a Keras model accepts a sparse tensor as input, not a sparse matrix\n",
        "\n",
        "def convert_sparse_matrix_to_sparse_tensor(X):\n",
        "    coo = X.tocoo()\n",
        "    indices = np.mat([coo.row, coo.col]).transpose()\n",
        "    return tf.SparseTensor(indices, coo.data, coo.shape)"
      ]
    },
    {
      "cell_type": "code",
      "execution_count": 193,
      "metadata": {
        "id": "HLC2LR2Tx8OI"
      },
      "outputs": [],
      "source": [
        "# Converting sparse matrix to sparse tensor to submit as input to the Keras model\n",
        "# Sparse reordering is done because tensorflow accepts input in row-major format\n",
        "\n",
        "# For the training dataset\n",
        "tv_train_reviews_nn = tf.sparse.reorder(convert_sparse_matrix_to_sparse_tensor(tv_train_reviews))\n",
        "train_sentiments_nn = np.asarray(train_sentiments)\n",
        "\n",
        "# For the validation dataset\n",
        "tv_val_reviews_nn = tf.sparse.reorder(convert_sparse_matrix_to_sparse_tensor(tv_val_reviews))\n",
        "val_sentiments_nn = np.asarray(val_sentiments)"
      ]
    },
    {
      "cell_type": "code",
      "execution_count": 284,
      "metadata": {
        "id": "0pGQ8qeVx8rm"
      },
      "outputs": [],
      "source": [
        "# Defining a fully-connected feedforward neural network\n",
        "def create_nn(activation_function = 'relu',\n",
        "              hidden1_neurons = 64):\n",
        "  \n",
        "    # keras.Input is the input layer of the neural network\n",
        "    input = keras.Input(shape=(800, ), sparse=True, name=\"tfidf_maxfeatures\")\n",
        "\n",
        "    # The first hidden layer has 256 nodes and takes the previous layer (input layer) as input as mentioned below\n",
        "    hidden1 = layers.Dense(hidden1_neurons,\n",
        "                           activation=activation_function)(input) \n",
        "    \n",
        "    #pooling = layers.MaxPooling2D(pool_size=5, strides=1, padding='valid')\n",
        "\n",
        "    hidden2 = layers.Dense(32,\n",
        "                           activation=activation_function)(hidden1)\n",
        "                      \n",
        "\n",
        "    # The output layer has 1 node and takes the previous layer (second hidden layer)\n",
        "    output = layers.Dense(1)(hidden2)\n",
        "\n",
        "    return keras.Model(input, output)"
      ]
    },
    {
      "cell_type": "code",
      "execution_count": 285,
      "metadata": {
        "colab": {
          "base_uri": "https://localhost:8080/"
        },
        "id": "RYXwvthex_DD",
        "outputId": "80f484c2-d7e6-4541-f7dc-6cabbfade32f"
      },
      "outputs": [
        {
          "output_type": "stream",
          "name": "stdout",
          "text": [
            "Model: \"model_27\"\n",
            "_________________________________________________________________\n",
            " Layer (type)                Output Shape              Param #   \n",
            "=================================================================\n",
            " tfidf_maxfeatures (InputLay  [(None, 800)]            0         \n",
            " er)                                                             \n",
            "                                                                 \n",
            " dense_84 (Dense)            (None, 64)                51264     \n",
            "                                                                 \n",
            " dense_85 (Dense)            (None, 32)                2080      \n",
            "                                                                 \n",
            " dense_86 (Dense)            (None, 1)                 33        \n",
            "                                                                 \n",
            "=================================================================\n",
            "Total params: 53,377\n",
            "Trainable params: 53,377\n",
            "Non-trainable params: 0\n",
            "_________________________________________________________________\n"
          ]
        }
      ],
      "source": [
        "nn1 = create_nn()\n",
        "\n",
        "#Since the output layer has only 1 node, we can use \"binary_crossentropy\"\n",
        "learning_rate_value = 0.01\n",
        "nn1.compile(loss = 'binary_crossentropy',\n",
        "            metrics = ['accuracy'],\n",
        "            optimizer = RMSprop(learning_rate = learning_rate_value))\n",
        "\n",
        "nn1.summary()"
      ]
    },
    {
      "cell_type": "code",
      "execution_count": 286,
      "metadata": {
        "colab": {
          "base_uri": "https://localhost:8080/"
        },
        "id": "n-ZdO4OKyBbQ",
        "outputId": "f7e0232b-d1a8-4fb8-d0f3-a3649c1df8c6"
      },
      "outputs": [
        {
          "output_type": "stream",
          "name": "stdout",
          "text": [
            "Epoch 1/5\n",
            "187/187 [==============================] - 2s 5ms/step - loss: 0.7198 - accuracy: 0.6377 - val_loss: 0.6369 - val_accuracy: 0.7033\n",
            "Epoch 2/5\n",
            "187/187 [==============================] - 1s 5ms/step - loss: 0.6688 - accuracy: 0.7213 - val_loss: 0.9940 - val_accuracy: 0.7080\n",
            "Epoch 3/5\n",
            "187/187 [==============================] - 1s 5ms/step - loss: 0.6318 - accuracy: 0.7714 - val_loss: 1.2194 - val_accuracy: 0.7106\n",
            "Epoch 4/5\n",
            "187/187 [==============================] - 1s 5ms/step - loss: 0.5865 - accuracy: 0.8162 - val_loss: 1.4257 - val_accuracy: 0.7006\n",
            "Epoch 5/5\n",
            "187/187 [==============================] - 1s 5ms/step - loss: 0.5401 - accuracy: 0.8702 - val_loss: 1.7233 - val_accuracy: 0.7053\n"
          ]
        }
      ],
      "source": [
        "# Training the neural network model on the dataset\n",
        "nn1_history = nn1.fit(tv_train_reviews_nn, train_sentiments_nn, validation_data=(tv_val_reviews_nn, val_sentiments_nn), epochs = 5)"
      ]
    },
    {
      "cell_type": "code",
      "execution_count": 287,
      "metadata": {
        "id": "nWoxKzEuyEFS",
        "colab": {
          "base_uri": "https://localhost:8080/",
          "height": 235
        },
        "outputId": "dcbdee58-553b-4dd6-ed37-ffc81ff96398"
      },
      "outputs": [
        {
          "output_type": "execute_result",
          "data": {
            "text/plain": [
              "           loss  accuracy  val_loss  val_accuracy\n",
              "epoch                                            \n",
              "1      0.719819  0.637688  0.636911      0.703282\n",
              "2      0.668845  0.721273  0.994031      0.707970\n",
              "3      0.631826  0.771357  1.219440      0.710650\n",
              "4      0.586531  0.816248  1.425652      0.700603\n",
              "5      0.540062  0.870184  1.723300      0.705291"
            ],
            "text/html": [
              "\n",
              "  <div id=\"df-70109c62-332a-42d0-9c80-edd9303c9908\">\n",
              "    <div class=\"colab-df-container\">\n",
              "      <div>\n",
              "<style scoped>\n",
              "    .dataframe tbody tr th:only-of-type {\n",
              "        vertical-align: middle;\n",
              "    }\n",
              "\n",
              "    .dataframe tbody tr th {\n",
              "        vertical-align: top;\n",
              "    }\n",
              "\n",
              "    .dataframe thead th {\n",
              "        text-align: right;\n",
              "    }\n",
              "</style>\n",
              "<table border=\"1\" class=\"dataframe\">\n",
              "  <thead>\n",
              "    <tr style=\"text-align: right;\">\n",
              "      <th></th>\n",
              "      <th>loss</th>\n",
              "      <th>accuracy</th>\n",
              "      <th>val_loss</th>\n",
              "      <th>val_accuracy</th>\n",
              "    </tr>\n",
              "    <tr>\n",
              "      <th>epoch</th>\n",
              "      <th></th>\n",
              "      <th></th>\n",
              "      <th></th>\n",
              "      <th></th>\n",
              "    </tr>\n",
              "  </thead>\n",
              "  <tbody>\n",
              "    <tr>\n",
              "      <th>1</th>\n",
              "      <td>0.719819</td>\n",
              "      <td>0.637688</td>\n",
              "      <td>0.636911</td>\n",
              "      <td>0.703282</td>\n",
              "    </tr>\n",
              "    <tr>\n",
              "      <th>2</th>\n",
              "      <td>0.668845</td>\n",
              "      <td>0.721273</td>\n",
              "      <td>0.994031</td>\n",
              "      <td>0.707970</td>\n",
              "    </tr>\n",
              "    <tr>\n",
              "      <th>3</th>\n",
              "      <td>0.631826</td>\n",
              "      <td>0.771357</td>\n",
              "      <td>1.219440</td>\n",
              "      <td>0.710650</td>\n",
              "    </tr>\n",
              "    <tr>\n",
              "      <th>4</th>\n",
              "      <td>0.586531</td>\n",
              "      <td>0.816248</td>\n",
              "      <td>1.425652</td>\n",
              "      <td>0.700603</td>\n",
              "    </tr>\n",
              "    <tr>\n",
              "      <th>5</th>\n",
              "      <td>0.540062</td>\n",
              "      <td>0.870184</td>\n",
              "      <td>1.723300</td>\n",
              "      <td>0.705291</td>\n",
              "    </tr>\n",
              "  </tbody>\n",
              "</table>\n",
              "</div>\n",
              "      <button class=\"colab-df-convert\" onclick=\"convertToInteractive('df-70109c62-332a-42d0-9c80-edd9303c9908')\"\n",
              "              title=\"Convert this dataframe to an interactive table.\"\n",
              "              style=\"display:none;\">\n",
              "        \n",
              "  <svg xmlns=\"http://www.w3.org/2000/svg\" height=\"24px\"viewBox=\"0 0 24 24\"\n",
              "       width=\"24px\">\n",
              "    <path d=\"M0 0h24v24H0V0z\" fill=\"none\"/>\n",
              "    <path d=\"M18.56 5.44l.94 2.06.94-2.06 2.06-.94-2.06-.94-.94-2.06-.94 2.06-2.06.94zm-11 1L8.5 8.5l.94-2.06 2.06-.94-2.06-.94L8.5 2.5l-.94 2.06-2.06.94zm10 10l.94 2.06.94-2.06 2.06-.94-2.06-.94-.94-2.06-.94 2.06-2.06.94z\"/><path d=\"M17.41 7.96l-1.37-1.37c-.4-.4-.92-.59-1.43-.59-.52 0-1.04.2-1.43.59L10.3 9.45l-7.72 7.72c-.78.78-.78 2.05 0 2.83L4 21.41c.39.39.9.59 1.41.59.51 0 1.02-.2 1.41-.59l7.78-7.78 2.81-2.81c.8-.78.8-2.07 0-2.86zM5.41 20L4 18.59l7.72-7.72 1.47 1.35L5.41 20z\"/>\n",
              "  </svg>\n",
              "      </button>\n",
              "      \n",
              "  <style>\n",
              "    .colab-df-container {\n",
              "      display:flex;\n",
              "      flex-wrap:wrap;\n",
              "      gap: 12px;\n",
              "    }\n",
              "\n",
              "    .colab-df-convert {\n",
              "      background-color: #E8F0FE;\n",
              "      border: none;\n",
              "      border-radius: 50%;\n",
              "      cursor: pointer;\n",
              "      display: none;\n",
              "      fill: #1967D2;\n",
              "      height: 32px;\n",
              "      padding: 0 0 0 0;\n",
              "      width: 32px;\n",
              "    }\n",
              "\n",
              "    .colab-df-convert:hover {\n",
              "      background-color: #E2EBFA;\n",
              "      box-shadow: 0px 1px 2px rgba(60, 64, 67, 0.3), 0px 1px 3px 1px rgba(60, 64, 67, 0.15);\n",
              "      fill: #174EA6;\n",
              "    }\n",
              "\n",
              "    [theme=dark] .colab-df-convert {\n",
              "      background-color: #3B4455;\n",
              "      fill: #D2E3FC;\n",
              "    }\n",
              "\n",
              "    [theme=dark] .colab-df-convert:hover {\n",
              "      background-color: #434B5C;\n",
              "      box-shadow: 0px 1px 3px 1px rgba(0, 0, 0, 0.15);\n",
              "      filter: drop-shadow(0px 1px 2px rgba(0, 0, 0, 0.3));\n",
              "      fill: #FFFFFF;\n",
              "    }\n",
              "  </style>\n",
              "\n",
              "      <script>\n",
              "        const buttonEl =\n",
              "          document.querySelector('#df-70109c62-332a-42d0-9c80-edd9303c9908 button.colab-df-convert');\n",
              "        buttonEl.style.display =\n",
              "          google.colab.kernel.accessAllowed ? 'block' : 'none';\n",
              "\n",
              "        async function convertToInteractive(key) {\n",
              "          const element = document.querySelector('#df-70109c62-332a-42d0-9c80-edd9303c9908');\n",
              "          const dataTable =\n",
              "            await google.colab.kernel.invokeFunction('convertToInteractive',\n",
              "                                                     [key], {});\n",
              "          if (!dataTable) return;\n",
              "\n",
              "          const docLinkHtml = 'Like what you see? Visit the ' +\n",
              "            '<a target=\"_blank\" href=https://colab.research.google.com/notebooks/data_table.ipynb>data table notebook</a>'\n",
              "            + ' to learn more about interactive tables.';\n",
              "          element.innerHTML = '';\n",
              "          dataTable['output_type'] = 'display_data';\n",
              "          await google.colab.output.renderOutput(dataTable, element);\n",
              "          const docLink = document.createElement('div');\n",
              "          docLink.innerHTML = docLinkHtml;\n",
              "          element.appendChild(docLink);\n",
              "        }\n",
              "      </script>\n",
              "    </div>\n",
              "  </div>\n",
              "  "
            ]
          },
          "metadata": {},
          "execution_count": 287
        }
      ],
      "source": [
        "# Convert the neural network history object into a data frame to view its specifics\n",
        "hist = pd.DataFrame(nn1_history.history)\n",
        "hist['epoch'] = nn1_history.epoch\n",
        "hist['epoch'] = hist['epoch'].apply(lambda x: x + 1)\n",
        "hist.set_index('epoch')"
      ]
    },
    {
      "cell_type": "code",
      "execution_count": 288,
      "metadata": {
        "colab": {
          "base_uri": "https://localhost:8080/",
          "height": 295
        },
        "id": "_ds_ThOvyGnF",
        "outputId": "14d81a0c-92a6-4708-8a5e-bbacb69f1258"
      },
      "outputs": [
        {
          "output_type": "display_data",
          "data": {
            "text/plain": [
              "<Figure size 1008x288 with 1 Axes>"
            ],
            "image/png": "[encoded data removed]"
          },
          "metadata": {
            "needs_background": "light"
          }
        }
      ],
      "source": [
        "# View the training and validation accuracies as functions of epoch\n",
        "plt.figure(figsize = (14, 4))\n",
        "\n",
        "sns.lineplot(data = hist, x = 'epoch', y = 'accuracy', color = 'red', label = 'Training')\n",
        "sns.lineplot(data = hist, x = 'epoch', y = 'val_accuracy', color = 'blue', label = 'Validation')\n",
        "plt.xlabel('Epoch')\n",
        "plt.ylabel('Accuracy')\n",
        "plt.title('Accuracy as a Function of Epoch');"
      ]
    },
    {
      "cell_type": "code",
      "execution_count": 289,
      "metadata": {
        "id": "pkssruPFyJOv",
        "colab": {
          "base_uri": "https://localhost:8080/"
        },
        "outputId": "8f32ba9a-f8ce-415f-d537-1930e4092dd7"
      },
      "outputs": [
        {
          "output_type": "stream",
          "name": "stdout",
          "text": [
            "47/47 [==============================] - 0s 3ms/step - loss: 1.7233 - accuracy: 0.7053\n",
            "The loss value of the model on the validation data is 1.7233003377914429\n",
            "The accuracy of the model on the validation data is 0.7052913308143616\n"
          ]
        }
      ],
      "source": [
        "# Compute the final accuracy of the model on the validation data set using the 'evaluate()' method\n",
        "performance_test = nn1.evaluate(tv_val_reviews_nn, val_sentiments_nn)\n",
        "\n",
        "print('The loss value of the model on the validation data is {}'.format(performance_test[0]))\n",
        "print('The accuracy of the model on the validation data is {}'.format(performance_test[1]))"
      ]
    },
    {
      "cell_type": "code",
      "execution_count": 291,
      "metadata": {
        "colab": {
          "base_uri": "https://localhost:8080/"
        },
        "id": "jMLANYJTyLks",
        "outputId": "64e7d08e-ac50-43db-faff-f4f9517a60fc"
      },
      "outputs": [
        {
          "output_type": "stream",
          "name": "stdout",
          "text": [
            "\n",
            " activation_function = sigmoid, hidden1_neurons = 128 - START \n",
            "\n",
            "Model: \"model_32\"\n",
            "_________________________________________________________________\n",
            " Layer (type)                Output Shape              Param #   \n",
            "=================================================================\n",
            " tfidf_maxfeatures (InputLay  [(None, 800)]            0         \n",
            " er)                                                             \n",
            "                                                                 \n",
            " dense_99 (Dense)            (None, 128)               102528    \n",
            "                                                                 \n",
            " dense_100 (Dense)           (None, 32)                4128      \n",
            "                                                                 \n",
            " dense_101 (Dense)           (None, 1)                 33        \n",
            "                                                                 \n",
            "=================================================================\n",
            "Total params: 106,689\n",
            "Trainable params: 106,689\n",
            "Non-trainable params: 0\n",
            "_________________________________________________________________\n",
            "\n",
            "\n",
            "Epoch 1/5\n",
            "187/187 [==============================] - 2s 6ms/step - loss: 7.5436 - accuracy: 0.5028 - val_loss: 7.5889 - val_accuracy: 0.5023\n",
            "Epoch 2/5\n",
            "187/187 [==============================] - 1s 5ms/step - loss: 7.5761 - accuracy: 0.5032 - val_loss: 7.5889 - val_accuracy: 0.5023\n",
            "Epoch 3/5\n",
            "187/187 [==============================] - 1s 5ms/step - loss: 7.5761 - accuracy: 0.5032 - val_loss: 7.5889 - val_accuracy: 0.5023\n",
            "Epoch 4/5\n",
            "187/187 [==============================] - 1s 5ms/step - loss: 7.5761 - accuracy: 0.5032 - val_loss: 7.5889 - val_accuracy: 0.5023\n",
            "Epoch 5/5\n",
            "187/187 [==============================] - 1s 5ms/step - loss: 7.5761 - accuracy: 0.5032 - val_loss: 7.5889 - val_accuracy: 0.5023\n",
            "\n",
            " activation_function = sigmoid, hidden1_neurons = 128 - END \n",
            "\n",
            "\n",
            " activation_function = sigmoid, hidden1_neurons = 256 - START \n",
            "\n",
            "Model: \"model_33\"\n",
            "_________________________________________________________________\n",
            " Layer (type)                Output Shape              Param #   \n",
            "=================================================================\n",
            " tfidf_maxfeatures (InputLay  [(None, 800)]            0         \n",
            " er)                                                             \n",
            "                                                                 \n",
            " dense_102 (Dense)           (None, 256)               205056    \n",
            "                                                                 \n",
            " dense_103 (Dense)           (None, 32)                8224      \n",
            "                                                                 \n",
            " dense_104 (Dense)           (None, 1)                 33        \n",
            "                                                                 \n",
            "=================================================================\n",
            "Total params: 213,313\n",
            "Trainable params: 213,313\n",
            "Non-trainable params: 0\n",
            "_________________________________________________________________\n",
            "\n",
            "\n",
            "Epoch 1/5\n",
            "187/187 [==============================] - 2s 6ms/step - loss: 7.7291 - accuracy: 0.4968 - val_loss: 7.7486 - val_accuracy: 0.4977\n",
            "Epoch 2/5\n",
            "187/187 [==============================] - 1s 5ms/step - loss: 7.7616 - accuracy: 0.4968 - val_loss: 7.7486 - val_accuracy: 0.4977\n",
            "Epoch 3/5\n",
            "187/187 [==============================] - 1s 5ms/step - loss: 7.7616 - accuracy: 0.4968 - val_loss: 7.7486 - val_accuracy: 0.4977\n",
            "Epoch 4/5\n",
            "187/187 [==============================] - 1s 5ms/step - loss: 7.7616 - accuracy: 0.4968 - val_loss: 7.7486 - val_accuracy: 0.4977\n",
            "Epoch 5/5\n",
            "187/187 [==============================] - 1s 5ms/step - loss: 7.7616 - accuracy: 0.4968 - val_loss: 7.7486 - val_accuracy: 0.4977\n",
            "\n",
            " activation_function = sigmoid, hidden1_neurons = 256 - END \n",
            "\n",
            "\n",
            " activation_function = relu, hidden1_neurons = 128 - START \n",
            "\n",
            "Model: \"model_34\"\n",
            "_________________________________________________________________\n",
            " Layer (type)                Output Shape              Param #   \n",
            "=================================================================\n",
            " tfidf_maxfeatures (InputLay  [(None, 800)]            0         \n",
            " er)                                                             \n",
            "                                                                 \n",
            " dense_105 (Dense)           (None, 128)               102528    \n",
            "                                                                 \n",
            " dense_106 (Dense)           (None, 32)                4128      \n",
            "                                                                 \n",
            " dense_107 (Dense)           (None, 1)                 33        \n",
            "                                                                 \n",
            "=================================================================\n",
            "Total params: 106,689\n",
            "Trainable params: 106,689\n",
            "Non-trainable params: 0\n",
            "_________________________________________________________________\n",
            "\n",
            "\n",
            "Epoch 1/5\n",
            "187/187 [==============================] - 2s 5ms/step - loss: 0.7257 - accuracy: 0.6427 - val_loss: 0.6580 - val_accuracy: 0.6973\n",
            "Epoch 2/5\n",
            "187/187 [==============================] - 1s 5ms/step - loss: 0.6975 - accuracy: 0.7273 - val_loss: 0.7156 - val_accuracy: 0.7093\n",
            "Epoch 3/5\n",
            "187/187 [==============================] - 1s 5ms/step - loss: 0.6821 - accuracy: 0.7695 - val_loss: 1.3722 - val_accuracy: 0.6792\n",
            "Epoch 4/5\n",
            "187/187 [==============================] - 1s 5ms/step - loss: 0.6514 - accuracy: 0.8121 - val_loss: 1.0833 - val_accuracy: 0.6932\n",
            "Epoch 5/5\n",
            "187/187 [==============================] - 1s 5ms/step - loss: 0.5473 - accuracy: 0.8739 - val_loss: 2.0245 - val_accuracy: 0.6999\n",
            "\n",
            " activation_function = relu, hidden1_neurons = 128 - END \n",
            "\n",
            "\n",
            " activation_function = relu, hidden1_neurons = 256 - START \n",
            "\n",
            "Model: \"model_35\"\n",
            "_________________________________________________________________\n",
            " Layer (type)                Output Shape              Param #   \n",
            "=================================================================\n",
            " tfidf_maxfeatures (InputLay  [(None, 800)]            0         \n",
            " er)                                                             \n",
            "                                                                 \n",
            " dense_108 (Dense)           (None, 256)               205056    \n",
            "                                                                 \n",
            " dense_109 (Dense)           (None, 32)                8224      \n",
            "                                                                 \n",
            " dense_110 (Dense)           (None, 1)                 33        \n",
            "                                                                 \n",
            "=================================================================\n",
            "Total params: 213,313\n",
            "Trainable params: 213,313\n",
            "Non-trainable params: 0\n",
            "_________________________________________________________________\n",
            "\n",
            "\n",
            "Epoch 1/5\n",
            "187/187 [==============================] - 2s 6ms/step - loss: 0.8102 - accuracy: 0.6394 - val_loss: 1.1420 - val_accuracy: 0.6731\n",
            "Epoch 2/5\n",
            "187/187 [==============================] - 1s 5ms/step - loss: 0.7136 - accuracy: 0.7219 - val_loss: 0.8476 - val_accuracy: 0.6912\n",
            "Epoch 3/5\n",
            "187/187 [==============================] - 1s 5ms/step - loss: 0.6896 - accuracy: 0.7657 - val_loss: 0.7536 - val_accuracy: 0.7006\n",
            "Epoch 4/5\n",
            "187/187 [==============================] - 1s 5ms/step - loss: 0.6205 - accuracy: 0.8397 - val_loss: 1.2450 - val_accuracy: 0.6959\n",
            "Epoch 5/5\n",
            "187/187 [==============================] - 1s 5ms/step - loss: 0.5063 - accuracy: 0.9102 - val_loss: 2.8974 - val_accuracy: 0.6899\n",
            "\n",
            " activation_function = relu, hidden1_neurons = 256 - END \n",
            "\n"
          ]
        }
      ],
      "source": [
        "# Declare a range of activation functions and number of neurons in the first hidden layer to tune for\n",
        "activation_function_list = ['sigmoid', 'relu']\n",
        "hidden1_neurons_list = [128, 256]\n",
        "\n",
        "# Create and train a neural network model for each value of learning rate\n",
        "performance_df = pd.DataFrame(data = None)\n",
        "hist = [None] * 4\n",
        "indexcount = -1\n",
        "\n",
        "for current_activation_function in activation_function_list:\n",
        "    for current_hidden1_neurons in hidden1_neurons_list:\n",
        "        indexcount = indexcount + 1\n",
        "        \n",
        "        # Create a neural network model using the 'create_nn' function\n",
        "        nn = create_nn(activation_function = current_activation_function,\n",
        "                      hidden1_neurons = current_hidden1_neurons)\n",
        "        \n",
        "        nn.compile(loss = 'binary_crossentropy',\n",
        "                    metrics = ['accuracy'],\n",
        "                    optimizer = RMSprop(learning_rate = 0.01))\n",
        "\n",
        "        # Capture the training history of the model using the 'fit()' method\n",
        "\n",
        "        print('\\n activation_function = {},'.format(current_activation_function) + ' hidden1_neurons = {} - START \\n'.format(current_hidden1_neurons))\n",
        "        nn.summary()\n",
        "        print('\\n')\n",
        "        nn_history = nn.fit(tv_train_reviews_nn, train_sentiments_nn, validation_data=(tv_val_reviews_nn, val_sentiments_nn), epochs = 5)\n",
        "        print('\\n activation_function = {},'.format(current_activation_function) + ' hidden1_neurons = {} - END \\n'.format(current_hidden1_neurons))\n",
        "        \n",
        "        hist[indexcount] = pd.DataFrame(nn_history.history)\n",
        "        hist[indexcount]['epoch'] = nn_history.epoch\n",
        "        \n",
        "        tempdf = pd.DataFrame(index = [indexcount],\n",
        "                              data = {'Activation Function': current_activation_function,\n",
        "                                      'First hidden layer neurons': current_hidden1_neurons,\n",
        "                                      'Train Accuracy': hist[indexcount]['accuracy'][4],\n",
        "                                      'Validation Accuracy': hist[indexcount]['val_accuracy'][4]})\n",
        "        \n",
        "        performance_df = pd.concat([performance_df, tempdf])"
      ]
    },
    {
      "cell_type": "code",
      "execution_count": 292,
      "metadata": {
        "id": "GzmSJF43yNZh",
        "colab": {
          "base_uri": "https://localhost:8080/",
          "height": 295
        },
        "outputId": "f077262f-b750-4acb-bf8d-4ca70ec3c72e"
      },
      "outputs": [
        {
          "output_type": "display_data",
          "data": {
            "text/plain": [
              "<Figure size 1008x288 with 1 Axes>"
            ],
            "image/png": "[encoded data removed]"
          },
          "metadata": {
            "needs_background": "light"
          }
        }
      ],
      "source": [
        "# View the training accuracies as functions of epochs for different values of learning rate\n",
        "plt.figure(figsize = (14, 4))\n",
        "colorlist = ['purple', 'green', 'blue', 'red']\n",
        "\n",
        "indexcount = -1\n",
        "for current_activation_function in activation_function_list:\n",
        "    for current_hidden1_neurons in hidden1_neurons_list:\n",
        "        indexcount = indexcount + 1\n",
        "        sns.lineplot(data = hist[indexcount],\n",
        "                    x = 'epoch',\n",
        "                    y = 'accuracy',\n",
        "                    color = colorlist[indexcount],\n",
        "                    label = 'activation_function = ' + str(current_activation_function) + ', hidden1_neurons = ' + str(current_hidden1_neurons))\n",
        "\n",
        "plt.xlabel('Epoch')\n",
        "plt.ylabel('Training Accuracy')\n",
        "plt.title('Training Accuracy as a Function of Epoch for Different Values of Hyperparameters');"
      ]
    },
    {
      "cell_type": "code",
      "execution_count": 293,
      "metadata": {
        "id": "JI_1w7RiyQ4m",
        "colab": {
          "base_uri": "https://localhost:8080/",
          "height": 295
        },
        "outputId": "5226a445-2e2d-4bb4-97c8-86615707bd13"
      },
      "outputs": [
        {
          "output_type": "display_data",
          "data": {
            "text/plain": [
              "<Figure size 1008x288 with 1 Axes>"
            ],
            "image/png": "[encoded data removed]"
          },
          "metadata": {
            "needs_background": "light"
          }
        }
      ],
      "source": [
        "# View the training accuracies as functions of epochs for different values of learning rate\n",
        "plt.figure(figsize = (14, 4))\n",
        "colorlist = ['purple', 'green', 'blue', 'red']\n",
        "\n",
        "indexcount = -1\n",
        "for current_activation_function in activation_function_list:\n",
        "    for current_hidden1_neurons in hidden1_neurons_list:\n",
        "        indexcount = indexcount + 1\n",
        "        sns.lineplot(data = hist[indexcount],\n",
        "                    x = 'epoch',\n",
        "                    y = 'val_accuracy',\n",
        "                    color = colorlist[indexcount],\n",
        "                    label = 'activation_function = ' + str(current_activation_function) + ', hidden1_neurons = ' + str(current_hidden1_neurons))\n",
        "\n",
        "plt.xlabel('Epoch')\n",
        "plt.ylabel('Validation Accuracy')\n",
        "plt.title('Validation Accuracy as a Function of Epoch for Different Values of Hyperparameters');"
      ]
    },
    {
      "cell_type": "code",
      "execution_count": 294,
      "metadata": {
        "id": "vlTBedAPyTG7",
        "colab": {
          "base_uri": "https://localhost:8080/"
        },
        "outputId": "92598371-0ac8-411a-c244-7be19908a58c"
      },
      "outputs": [
        {
          "output_type": "stream",
          "name": "stdout",
          "text": [
            "Model: \"model_36\"\n",
            "_________________________________________________________________\n",
            " Layer (type)                Output Shape              Param #   \n",
            "=================================================================\n",
            " tfidf_maxfeatures (InputLay  [(None, 800)]            0         \n",
            " er)                                                             \n",
            "                                                                 \n",
            " dense_111 (Dense)           (None, 128)               102528    \n",
            "                                                                 \n",
            " dense_112 (Dense)           (None, 32)                4128      \n",
            "                                                                 \n",
            " dense_113 (Dense)           (None, 1)                 33        \n",
            "                                                                 \n",
            "=================================================================\n",
            "Total params: 106,689\n",
            "Trainable params: 106,689\n",
            "Non-trainable params: 0\n",
            "_________________________________________________________________\n",
            "\n",
            "\n",
            "Epoch 1/5\n",
            "187/187 [==============================] - 2s 6ms/step - loss: 0.7535 - accuracy: 0.6325 - val_loss: 0.7281 - val_accuracy: 0.6383\n",
            "Epoch 2/5\n",
            "187/187 [==============================] - 1s 5ms/step - loss: 0.6943 - accuracy: 0.7374 - val_loss: 0.7421 - val_accuracy: 0.6772\n",
            "Epoch 3/5\n",
            "187/187 [==============================] - 1s 5ms/step - loss: 0.6521 - accuracy: 0.7791 - val_loss: 1.1201 - val_accuracy: 0.6926\n",
            "Epoch 4/5\n",
            "187/187 [==============================] - 1s 5ms/step - loss: 0.6398 - accuracy: 0.8462 - val_loss: 1.7931 - val_accuracy: 0.7060\n",
            "Epoch 5/5\n",
            "187/187 [==============================] - 1s 5ms/step - loss: 0.5654 - accuracy: 0.9040 - val_loss: 2.6374 - val_accuracy: 0.6865\n"
          ]
        }
      ],
      "source": [
        "# Use the 'create_nn' function to create a neural network with the optimal values of 'activation_function' and 'hidden1_neurons'\n",
        "\n",
        "nn2 = create_nn(activation_function = 'relu', hidden1_neurons = 128)\n",
        "\n",
        "nn2.compile(loss = 'binary_crossentropy',\n",
        "            metrics = ['accuracy'],\n",
        "            optimizer = RMSprop(learning_rate = 0.01))\n",
        "\n",
        "# Capture the training history of the model using the 'fit()' method\n",
        "nn2.summary()\n",
        "print('\\n')\n",
        "nn2_history = nn2.fit(tv_train_reviews_nn, train_sentiments_nn, validation_data=(tv_val_reviews_nn, val_sentiments_nn), epochs = 5)\n",
        "hist = pd.DataFrame(nn2_history.history)\n",
        "hist['epoch'] = nn2_history.epoch"
      ]
    },
    {
      "cell_type": "code",
      "execution_count": 295,
      "metadata": {
        "id": "mX7yhBjDyU_7",
        "colab": {
          "base_uri": "https://localhost:8080/",
          "height": 295
        },
        "outputId": "d75e056e-b027-497f-babd-8447d663516f"
      },
      "outputs": [
        {
          "output_type": "display_data",
          "data": {
            "text/plain": [
              "<Figure size 1008x288 with 1 Axes>"
            ],
            "image/png": "[encoded data removed]"
          },
          "metadata": {
            "needs_background": "light"
          }
        }
      ],
      "source": [
        "# View the training and validation accuracies as functions of epoch\n",
        "plt.figure(figsize = (14, 4))\n",
        "\n",
        "sns.lineplot(data = hist, x = 'epoch', y = 'accuracy', color = 'red', label = 'Training')\n",
        "sns.lineplot(data = hist, x = 'epoch', y = 'val_accuracy', color = 'blue', label = 'Validation')\n",
        "plt.xlabel('Epoch')\n",
        "plt.ylabel('Accuracy')\n",
        "plt.title('Accuracy as a Function of Epoch');"
      ]
    },
    {
      "cell_type": "code",
      "execution_count": 296,
      "metadata": {
        "id": "-0BH9HrWyXSG",
        "colab": {
          "base_uri": "https://localhost:8080/"
        },
        "outputId": "39d86e32-25c0-489f-cf21-649adffa6f0e"
      },
      "outputs": [
        {
          "output_type": "stream",
          "name": "stdout",
          "text": [
            "47/47 [==============================] - 0s 3ms/step - loss: 2.6374 - accuracy: 0.6865\n",
            "The loss value of the model on the validation data is 2.6374378204345703\n",
            "The accuracy of the model on the validation data is 0.6865371465682983\n"
          ]
        }
      ],
      "source": [
        "# Compute the final accuracy of the model on the validation data set using the 'evaluate()' method\n",
        "performance_test = nn2.evaluate(tv_val_reviews_nn, val_sentiments_nn)\n",
        "\n",
        "print('The loss value of the model on the validation data is {}'.format(performance_test[0]))\n",
        "print('The accuracy of the model on the validation data is {}'.format(performance_test[1]))"
      ]
    },
    {
      "cell_type": "code",
      "execution_count": 297,
      "metadata": {
        "id": "GW0iJ_L9yZMZ",
        "colab": {
          "base_uri": "https://localhost:8080/",
          "height": 221
        },
        "outputId": "6bd5360d-19f3-4d19-bed2-a59115e08b9c"
      },
      "outputs": [
        {
          "output_type": "stream",
          "name": "stdout",
          "text": [
            "(3199, 1)\n"
          ]
        },
        {
          "output_type": "execute_result",
          "data": {
            "text/plain": [
              "                                             Reviews\n",
              "0  the inhospitability of the land emphasizes the...\n",
              "1  see it now , before the inevitable hollywood r...\n",
              "2  the weight of the piece , the unerring profess...\n",
              "3  the large-frame imax camera lends itself beaut...\n",
              "4  what makes how i killed my father compelling ,..."
            ],
            "text/html": [
              "\n",
              "  <div id=\"df-eeb45f75-d7b3-4404-8001-5b85da6a4425\">\n",
              "    <div class=\"colab-df-container\">\n",
              "      <div>\n",
              "<style scoped>\n",
              "    .dataframe tbody tr th:only-of-type {\n",
              "        vertical-align: middle;\n",
              "    }\n",
              "\n",
              "    .dataframe tbody tr th {\n",
              "        vertical-align: top;\n",
              "    }\n",
              "\n",
              "    .dataframe thead th {\n",
              "        text-align: right;\n",
              "    }\n",
              "</style>\n",
              "<table border=\"1\" class=\"dataframe\">\n",
              "  <thead>\n",
              "    <tr style=\"text-align: right;\">\n",
              "      <th></th>\n",
              "      <th>Reviews</th>\n",
              "    </tr>\n",
              "  </thead>\n",
              "  <tbody>\n",
              "    <tr>\n",
              "      <th>0</th>\n",
              "      <td>the inhospitability of the land emphasizes the...</td>\n",
              "    </tr>\n",
              "    <tr>\n",
              "      <th>1</th>\n",
              "      <td>see it now , before the inevitable hollywood r...</td>\n",
              "    </tr>\n",
              "    <tr>\n",
              "      <th>2</th>\n",
              "      <td>the weight of the piece , the unerring profess...</td>\n",
              "    </tr>\n",
              "    <tr>\n",
              "      <th>3</th>\n",
              "      <td>the large-frame imax camera lends itself beaut...</td>\n",
              "    </tr>\n",
              "    <tr>\n",
              "      <th>4</th>\n",
              "      <td>what makes how i killed my father compelling ,...</td>\n",
              "    </tr>\n",
              "  </tbody>\n",
              "</table>\n",
              "</div>\n",
              "      <button class=\"colab-df-convert\" onclick=\"convertToInteractive('df-eeb45f75-d7b3-4404-8001-5b85da6a4425')\"\n",
              "              title=\"Convert this dataframe to an interactive table.\"\n",
              "              style=\"display:none;\">\n",
              "        \n",
              "  <svg xmlns=\"http://www.w3.org/2000/svg\" height=\"24px\"viewBox=\"0 0 24 24\"\n",
              "       width=\"24px\">\n",
              "    <path d=\"M0 0h24v24H0V0z\" fill=\"none\"/>\n",
              "    <path d=\"M18.56 5.44l.94 2.06.94-2.06 2.06-.94-2.06-.94-.94-2.06-.94 2.06-2.06.94zm-11 1L8.5 8.5l.94-2.06 2.06-.94-2.06-.94L8.5 2.5l-.94 2.06-2.06.94zm10 10l.94 2.06.94-2.06 2.06-.94-2.06-.94-.94-2.06-.94 2.06-2.06.94z\"/><path d=\"M17.41 7.96l-1.37-1.37c-.4-.4-.92-.59-1.43-.59-.52 0-1.04.2-1.43.59L10.3 9.45l-7.72 7.72c-.78.78-.78 2.05 0 2.83L4 21.41c.39.39.9.59 1.41.59.51 0 1.02-.2 1.41-.59l7.78-7.78 2.81-2.81c.8-.78.8-2.07 0-2.86zM5.41 20L4 18.59l7.72-7.72 1.47 1.35L5.41 20z\"/>\n",
              "  </svg>\n",
              "      </button>\n",
              "      \n",
              "  <style>\n",
              "    .colab-df-container {\n",
              "      display:flex;\n",
              "      flex-wrap:wrap;\n",
              "      gap: 12px;\n",
              "    }\n",
              "\n",
              "    .colab-df-convert {\n",
              "      background-color: #E8F0FE;\n",
              "      border: none;\n",
              "      border-radius: 50%;\n",
              "      cursor: pointer;\n",
              "      display: none;\n",
              "      fill: #1967D2;\n",
              "      height: 32px;\n",
              "      padding: 0 0 0 0;\n",
              "      width: 32px;\n",
              "    }\n",
              "\n",
              "    .colab-df-convert:hover {\n",
              "      background-color: #E2EBFA;\n",
              "      box-shadow: 0px 1px 2px rgba(60, 64, 67, 0.3), 0px 1px 3px 1px rgba(60, 64, 67, 0.15);\n",
              "      fill: #174EA6;\n",
              "    }\n",
              "\n",
              "    [theme=dark] .colab-df-convert {\n",
              "      background-color: #3B4455;\n",
              "      fill: #D2E3FC;\n",
              "    }\n",
              "\n",
              "    [theme=dark] .colab-df-convert:hover {\n",
              "      background-color: #434B5C;\n",
              "      box-shadow: 0px 1px 3px 1px rgba(0, 0, 0, 0.15);\n",
              "      filter: drop-shadow(0px 1px 2px rgba(0, 0, 0, 0.3));\n",
              "      fill: #FFFFFF;\n",
              "    }\n",
              "  </style>\n",
              "\n",
              "      <script>\n",
              "        const buttonEl =\n",
              "          document.querySelector('#df-eeb45f75-d7b3-4404-8001-5b85da6a4425 button.colab-df-convert');\n",
              "        buttonEl.style.display =\n",
              "          google.colab.kernel.accessAllowed ? 'block' : 'none';\n",
              "\n",
              "        async function convertToInteractive(key) {\n",
              "          const element = document.querySelector('#df-eeb45f75-d7b3-4404-8001-5b85da6a4425');\n",
              "          const dataTable =\n",
              "            await google.colab.kernel.invokeFunction('convertToInteractive',\n",
              "                                                     [key], {});\n",
              "          if (!dataTable) return;\n",
              "\n",
              "          const docLinkHtml = 'Like what you see? Visit the ' +\n",
              "            '<a target=\"_blank\" href=https://colab.research.google.com/notebooks/data_table.ipynb>data table notebook</a>'\n",
              "            + ' to learn more about interactive tables.';\n",
              "          element.innerHTML = '';\n",
              "          dataTable['output_type'] = 'display_data';\n",
              "          await google.colab.output.renderOutput(dataTable, element);\n",
              "          const docLink = document.createElement('div');\n",
              "          docLink.innerHTML = docLinkHtml;\n",
              "          element.appendChild(docLink);\n",
              "        }\n",
              "      </script>\n",
              "    </div>\n",
              "  </div>\n",
              "  "
            ]
          },
          "metadata": {},
          "execution_count": 297
        }
      ],
      "source": [
        "#Kaggle Submission\n",
        "# Reading the test data set\n",
        "test = pd.read_csv('/content/drive/MyDrive/Colab Notebooks/test_file_kaggle.csv')\n",
        "print(test.shape)\n",
        "test.head()"
      ]
    },
    {
      "cell_type": "code",
      "execution_count": 264,
      "metadata": {
        "id": "c6BlDmowycyC"
      },
      "outputs": [],
      "source": [
        "# Apply NLP techniques to pre-process the data set\n",
        "\n",
        "test['Reviews'] = test['Reviews'].map(lambda x: re.sub('[,\\.!?;:]/', '', x))\n",
        "test['Reviews'] = test['Reviews'].map(lambda x: x.lower())\n",
        "# Removing stopwords and tokenization\n",
        "test['Reviews'] = test['Reviews'].apply(remove_stopwords)\n",
        "# Stemming\n",
        "#test['Reviews'] = test['Reviews'].apply(simple_stemmer)\n",
        "# Lemmatization\n",
        "test['Reviews'] = test['Reviews'].apply(simple_lemmatize)"
      ]
    },
    {
      "cell_type": "code",
      "execution_count": 265,
      "metadata": {
        "id": "pSb3BA7OyhwX",
        "colab": {
          "base_uri": "https://localhost:8080/"
        },
        "outputId": "363986be-9596-4116-e99b-11e9090a3908"
      },
      "outputs": [
        {
          "output_type": "stream",
          "name": "stdout",
          "text": [
            "Tfidf_val: (3199, 800)\n"
          ]
        }
      ],
      "source": [
        "# Tfidf vectorizer\n",
        "test_reviews=list(test['Reviews'])\n",
        "\n",
        "# transformed test reviews from the TfIdf vectorizer used on the training data set in task 1\n",
        "tv_test_reviews = tv.transform(test_reviews)\n",
        "\n",
        "print('Tfidf_val:', tv_test_reviews.shape)"
      ]
    },
    {
      "cell_type": "code",
      "execution_count": null,
      "metadata": {
        "id": "BUGE7FkJyjao"
      },
      "outputs": [],
      "source": [
        "# NOTE: Use this cell to convert your testing dataset tf idf vectorization into appripriate format\n",
        "# if you are using your neural network as your final model.\n",
        "# If you are using a machine learning model, you don't need to use this cell.\n",
        "\n",
        "# For the testing dataset\n",
        "#tv_test_reviews_nn = tf.sparse.reorder(convert_sparse_matrix_to_sparse_tensor(tv_test_reviews))"
      ]
    },
    {
      "cell_type": "code",
      "execution_count": 267,
      "metadata": {
        "id": "djZqaAVOyk9G",
        "colab": {
          "base_uri": "https://localhost:8080/"
        },
        "outputId": "2ea35602-31d7-490f-c898-ff0dfd3ec2e3"
      },
      "outputs": [
        {
          "output_type": "stream",
          "name": "stdout",
          "text": [
            "prediction shape: (3199,)\n"
          ]
        },
        {
          "output_type": "execute_result",
          "data": {
            "text/plain": [
              "array([1, 1, 0, ..., 0, 1, 1])"
            ]
          },
          "metadata": {},
          "execution_count": 267
        }
      ],
      "source": [
        "# Use your trained optimized machine learning model to make predictions on the prepared test data set\n",
        "y_pred_test = lasso_reg_cv.predict(tv_test_reviews)\n",
        "print(\"prediction shape:\", y_pred_test.shape)\n",
        "y_pred_test"
      ]
    },
    {
      "cell_type": "code",
      "execution_count": 268,
      "metadata": {
        "id": "iwh16qKRyzQl",
        "colab": {
          "base_uri": "https://localhost:8080/"
        },
        "outputId": "02f8d504-83c3-4eb2-802a-1293cb6521c1"
      },
      "outputs": [
        {
          "output_type": "execute_result",
          "data": {
            "text/plain": [
              "array([1, 1, 0, ..., 0, 1, 1])"
            ]
          },
          "metadata": {},
          "execution_count": 268
        }
      ],
      "source": [
        "y_pred_test = lasso_reg_cv.predict(tv_test_reviews)\n",
        "y_classes = (y_pred_test > 0.5).astype(int)\n",
        "y_classes"
      ]
    },
    {
      "cell_type": "code",
      "execution_count": 269,
      "metadata": {
        "id": "rNsEcSAzy2Ej"
      },
      "outputs": [],
      "source": [
        "submit = pd.DataFrame(y_classes, columns=['Category'])\n",
        "submit.index.name = 'Id'"
      ]
    },
    {
      "cell_type": "code",
      "execution_count": 270,
      "metadata": {
        "id": "09NT7waUv-BR"
      },
      "outputs": [],
      "source": [
        "submit.to_csv(\"test_file_kaggle_log_submission.csv\", header=True, index=True)"
      ]
    },
    {
      "cell_type": "code",
      "source": [],
      "metadata": {
        "id": "-QjnOQ-NJpJ4"
      },
      "execution_count": null,
      "outputs": []
    }
  ],
  "metadata": {
    "colab": {
      "provenance": []
    },
    "kernelspec": {
      "display_name": "Python 3",
      "name": "python3"
    },
    "language_info": {
      "name": "python"
    },
    "accelerator": "GPU",
    "gpuClass": "standard"
  },
  "nbformat": 4,
  "nbformat_minor": 0
}