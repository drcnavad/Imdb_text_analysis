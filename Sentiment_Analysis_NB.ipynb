{
  "nbformat": 4,
  "nbformat_minor": 0,
  "metadata": {
    "colab": {
      "provenance": []
    },
    "kernelspec": {
      "name": "python3",
      "display_name": "Python 3"
    },
    "language_info": {
      "name": "python"
    }
  },
  "cells": [
    {
      "cell_type": "markdown",
      "source": [
        "##Dataset\n",
        "Cornell Sentence Polarity Dataset (published at ACL 2005). This data was first introduced by Bo Pang and Lillian Lee in a research paper titled “Seeing stars: Exploiting class relationships for sentiment categorization concerning rating scales.” (Published at ACL 2005) \n",
        "\n",
        "Author used the review snippets from the Rotten Tomatoes web pages. The ones marked as 'fresh' are assumed to be positive and those marked 'rotten' are assumed negative. \n",
        "\n",
        "##Project Task\n",
        "Predict sentiment of each review snippet. Create and compare different models for accuracy score."
      ],
      "metadata": {
        "id": "os4y_MLtFtEa"
      }
    },
    {
      "cell_type": "code",
      "execution_count": 170,
      "metadata": {
        "id": "am02EuC82pCE"
      },
      "outputs": [],
      "source": [
        "# Load the basic libraries\n",
        "import numpy as np\n",
        "import pandas as pd\n",
        "import seaborn as sns\n",
        "import matplotlib.pyplot as plt"
      ]
    },
    {
      "cell_type": "code",
      "source": [
        "from google.colab import drive\n",
        "drive.mount('/content/drive')\n",
        "\n",
        "# Reading the training data set\n",
        "movie_reviews = pd.read_csv('drive/MyDrive/Colab Notebooks/train_file_kaggle.csv')\n",
        "print(movie_reviews.shape)\n",
        "movie_reviews"
      ],
      "metadata": {
        "colab": {
          "base_uri": "https://localhost:8080/",
          "height": 459
        },
        "id": "SDBa4oQC2v4z",
        "outputId": "a71b3dbd-59ba-4fd3-e23a-b90bbe68877b"
      },
      "execution_count": 171,
      "outputs": [
        {
          "output_type": "stream",
          "name": "stdout",
          "text": [
            "Drive already mounted at /content/drive; to attempt to forcibly remount, call drive.mount(\"/content/drive\", force_remount=True).\n",
            "(7463, 2)\n"
          ]
        },
        {
          "output_type": "execute_result",
          "data": {
            "text/plain": [
              "                                                Reviews Sentiments\n",
              "0     bittersweet comedy/drama full of life , hand g...        pos\n",
              "1     you have to pay attention to follow all the st...        pos\n",
              "2     overall , interesting as a documentary -- but ...        pos\n",
              "3     precocious smarter-than-thou wayward teen stru...        pos\n",
              "4     nicolas philibert observes life inside a one-r...        pos\n",
              "...                                                 ...        ...\n",
              "7458  the concept is a hoot . the trailer is a riot ...        neg\n",
              "7459  as the movie traces mr . brown's athletic expl...        pos\n",
              "7460  may lack the pungent bite of its title , but i...        pos\n",
              "7461  this romantic thriller is steeped in the atmos...        pos\n",
              "7462  a distant , even sterile , yet compulsively wa...        pos\n",
              "\n",
              "[7463 rows x 2 columns]"
            ],
            "text/html": [
              "\n",
              "  <div id=\"df-7d7ae84f-6023-4d5f-b431-d8d6a744780e\">\n",
              "    <div class=\"colab-df-container\">\n",
              "      <div>\n",
              "<style scoped>\n",
              "    .dataframe tbody tr th:only-of-type {\n",
              "        vertical-align: middle;\n",
              "    }\n",
              "\n",
              "    .dataframe tbody tr th {\n",
              "        vertical-align: top;\n",
              "    }\n",
              "\n",
              "    .dataframe thead th {\n",
              "        text-align: right;\n",
              "    }\n",
              "</style>\n",
              "<table border=\"1\" class=\"dataframe\">\n",
              "  <thead>\n",
              "    <tr style=\"text-align: right;\">\n",
              "      <th></th>\n",
              "      <th>Reviews</th>\n",
              "      <th>Sentiments</th>\n",
              "    </tr>\n",
              "  </thead>\n",
              "  <tbody>\n",
              "    <tr>\n",
              "      <th>0</th>\n",
              "      <td>bittersweet comedy/drama full of life , hand g...</td>\n",
              "      <td>pos</td>\n",
              "    </tr>\n",
              "    <tr>\n",
              "      <th>1</th>\n",
              "      <td>you have to pay attention to follow all the st...</td>\n",
              "      <td>pos</td>\n",
              "    </tr>\n",
              "    <tr>\n",
              "      <th>2</th>\n",
              "      <td>overall , interesting as a documentary -- but ...</td>\n",
              "      <td>pos</td>\n",
              "    </tr>\n",
              "    <tr>\n",
              "      <th>3</th>\n",
              "      <td>precocious smarter-than-thou wayward teen stru...</td>\n",
              "      <td>pos</td>\n",
              "    </tr>\n",
              "    <tr>\n",
              "      <th>4</th>\n",
              "      <td>nicolas philibert observes life inside a one-r...</td>\n",
              "      <td>pos</td>\n",
              "    </tr>\n",
              "    <tr>\n",
              "      <th>...</th>\n",
              "      <td>...</td>\n",
              "      <td>...</td>\n",
              "    </tr>\n",
              "    <tr>\n",
              "      <th>7458</th>\n",
              "      <td>the concept is a hoot . the trailer is a riot ...</td>\n",
              "      <td>neg</td>\n",
              "    </tr>\n",
              "    <tr>\n",
              "      <th>7459</th>\n",
              "      <td>as the movie traces mr . brown's athletic expl...</td>\n",
              "      <td>pos</td>\n",
              "    </tr>\n",
              "    <tr>\n",
              "      <th>7460</th>\n",
              "      <td>may lack the pungent bite of its title , but i...</td>\n",
              "      <td>pos</td>\n",
              "    </tr>\n",
              "    <tr>\n",
              "      <th>7461</th>\n",
              "      <td>this romantic thriller is steeped in the atmos...</td>\n",
              "      <td>pos</td>\n",
              "    </tr>\n",
              "    <tr>\n",
              "      <th>7462</th>\n",
              "      <td>a distant , even sterile , yet compulsively wa...</td>\n",
              "      <td>pos</td>\n",
              "    </tr>\n",
              "  </tbody>\n",
              "</table>\n",
              "<p>7463 rows × 2 columns</p>\n",
              "</div>\n",
              "      <button class=\"colab-df-convert\" onclick=\"convertToInteractive('df-7d7ae84f-6023-4d5f-b431-d8d6a744780e')\"\n",
              "              title=\"Convert this dataframe to an interactive table.\"\n",
              "              style=\"display:none;\">\n",
              "        \n",
              "  <svg xmlns=\"http://www.w3.org/2000/svg\" height=\"24px\"viewBox=\"0 0 24 24\"\n",
              "       width=\"24px\">\n",
              "    <path d=\"M0 0h24v24H0V0z\" fill=\"none\"/>\n",
              "    <path d=\"M18.56 5.44l.94 2.06.94-2.06 2.06-.94-2.06-.94-.94-2.06-.94 2.06-2.06.94zm-11 1L8.5 8.5l.94-2.06 2.06-.94-2.06-.94L8.5 2.5l-.94 2.06-2.06.94zm10 10l.94 2.06.94-2.06 2.06-.94-2.06-.94-.94-2.06-.94 2.06-2.06.94z\"/><path d=\"M17.41 7.96l-1.37-1.37c-.4-.4-.92-.59-1.43-.59-.52 0-1.04.2-1.43.59L10.3 9.45l-7.72 7.72c-.78.78-.78 2.05 0 2.83L4 21.41c.39.39.9.59 1.41.59.51 0 1.02-.2 1.41-.59l7.78-7.78 2.81-2.81c.8-.78.8-2.07 0-2.86zM5.41 20L4 18.59l7.72-7.72 1.47 1.35L5.41 20z\"/>\n",
              "  </svg>\n",
              "      </button>\n",
              "      \n",
              "  <style>\n",
              "    .colab-df-container {\n",
              "      display:flex;\n",
              "      flex-wrap:wrap;\n",
              "      gap: 12px;\n",
              "    }\n",
              "\n",
              "    .colab-df-convert {\n",
              "      background-color: #E8F0FE;\n",
              "      border: none;\n",
              "      border-radius: 50%;\n",
              "      cursor: pointer;\n",
              "      display: none;\n",
              "      fill: #1967D2;\n",
              "      height: 32px;\n",
              "      padding: 0 0 0 0;\n",
              "      width: 32px;\n",
              "    }\n",
              "\n",
              "    .colab-df-convert:hover {\n",
              "      background-color: #E2EBFA;\n",
              "      box-shadow: 0px 1px 2px rgba(60, 64, 67, 0.3), 0px 1px 3px 1px rgba(60, 64, 67, 0.15);\n",
              "      fill: #174EA6;\n",
              "    }\n",
              "\n",
              "    [theme=dark] .colab-df-convert {\n",
              "      background-color: #3B4455;\n",
              "      fill: #D2E3FC;\n",
              "    }\n",
              "\n",
              "    [theme=dark] .colab-df-convert:hover {\n",
              "      background-color: #434B5C;\n",
              "      box-shadow: 0px 1px 3px 1px rgba(0, 0, 0, 0.15);\n",
              "      filter: drop-shadow(0px 1px 2px rgba(0, 0, 0, 0.3));\n",
              "      fill: #FFFFFF;\n",
              "    }\n",
              "  </style>\n",
              "\n",
              "      <script>\n",
              "        const buttonEl =\n",
              "          document.querySelector('#df-7d7ae84f-6023-4d5f-b431-d8d6a744780e button.colab-df-convert');\n",
              "        buttonEl.style.display =\n",
              "          google.colab.kernel.accessAllowed ? 'block' : 'none';\n",
              "\n",
              "        async function convertToInteractive(key) {\n",
              "          const element = document.querySelector('#df-7d7ae84f-6023-4d5f-b431-d8d6a744780e');\n",
              "          const dataTable =\n",
              "            await google.colab.kernel.invokeFunction('convertToInteractive',\n",
              "                                                     [key], {});\n",
              "          if (!dataTable) return;\n",
              "\n",
              "          const docLinkHtml = 'Like what you see? Visit the ' +\n",
              "            '<a target=\"_blank\" href=https://colab.research.google.com/notebooks/data_table.ipynb>data table notebook</a>'\n",
              "            + ' to learn more about interactive tables.';\n",
              "          element.innerHTML = '';\n",
              "          dataTable['output_type'] = 'display_data';\n",
              "          await google.colab.output.renderOutput(dataTable, element);\n",
              "          const docLink = document.createElement('div');\n",
              "          docLink.innerHTML = docLinkHtml;\n",
              "          element.appendChild(docLink);\n",
              "        }\n",
              "      </script>\n",
              "    </div>\n",
              "  </div>\n",
              "  "
            ]
          },
          "metadata": {},
          "execution_count": 171
        }
      ]
    },
    {
      "cell_type": "code",
      "source": [
        "movie_reviews[\"Reviews\"][0]"
      ],
      "metadata": {
        "colab": {
          "base_uri": "https://localhost:8080/",
          "height": 35
        },
        "id": "chgbxgEyIaV5",
        "outputId": "a2ed7210-4308-4880-ad27-285f0d88b4f4"
      },
      "execution_count": 172,
      "outputs": [
        {
          "output_type": "execute_result",
          "data": {
            "text/plain": [
              "'bittersweet comedy/drama full of life , hand gestures , and some really adorable italian guys . '"
            ],
            "application/vnd.google.colaboratory.intrinsic+json": {
              "type": "string"
            }
          },
          "metadata": {},
          "execution_count": 172
        }
      ]
    },
    {
      "cell_type": "code",
      "source": [
        "#check class imbalance\n",
        "movie_reviews.Sentiments.value_counts()"
      ],
      "metadata": {
        "colab": {
          "base_uri": "https://localhost:8080/"
        },
        "id": "2KYCB5vR2ztZ",
        "outputId": "95d994c0-f734-4f05-a30e-1a6ea7ca1d15"
      },
      "execution_count": 173,
      "outputs": [
        {
          "output_type": "execute_result",
          "data": {
            "text/plain": [
              "pos    3754\n",
              "neg    3709\n",
              "Name: Sentiments, dtype: int64"
            ]
          },
          "metadata": {},
          "execution_count": 173
        }
      ]
    },
    {
      "cell_type": "markdown",
      "source": [
        "### Data Pre-processing"
      ],
      "metadata": {
        "id": "Ps0rWS5JHtM2"
      }
    },
    {
      "cell_type": "code",
      "source": [
        "# mapping labels to 0 and 1\n",
        "movie_reviews['Sentiments'] = movie_reviews[\"Sentiments\"].map({'pos':1, 'neg':0})"
      ],
      "metadata": {
        "id": "ze2t7UTk3J8p"
      },
      "execution_count": 174,
      "outputs": []
    },
    {
      "cell_type": "code",
      "source": [
        "#verify\n",
        "movie_reviews.head()"
      ],
      "metadata": {
        "colab": {
          "base_uri": "https://localhost:8080/",
          "height": 206
        },
        "id": "0hfPlYv-3Nac",
        "outputId": "1af03996-225d-4200-a741-be80b615a01d"
      },
      "execution_count": 175,
      "outputs": [
        {
          "output_type": "execute_result",
          "data": {
            "text/plain": [
              "                                             Reviews  Sentiments\n",
              "0  bittersweet comedy/drama full of life , hand g...           1\n",
              "1  you have to pay attention to follow all the st...           1\n",
              "2  overall , interesting as a documentary -- but ...           1\n",
              "3  precocious smarter-than-thou wayward teen stru...           1\n",
              "4  nicolas philibert observes life inside a one-r...           1"
            ],
            "text/html": [
              "\n",
              "  <div id=\"df-2a4f780e-67c5-466a-b04a-a5faffc68238\">\n",
              "    <div class=\"colab-df-container\">\n",
              "      <div>\n",
              "<style scoped>\n",
              "    .dataframe tbody tr th:only-of-type {\n",
              "        vertical-align: middle;\n",
              "    }\n",
              "\n",
              "    .dataframe tbody tr th {\n",
              "        vertical-align: top;\n",
              "    }\n",
              "\n",
              "    .dataframe thead th {\n",
              "        text-align: right;\n",
              "    }\n",
              "</style>\n",
              "<table border=\"1\" class=\"dataframe\">\n",
              "  <thead>\n",
              "    <tr style=\"text-align: right;\">\n",
              "      <th></th>\n",
              "      <th>Reviews</th>\n",
              "      <th>Sentiments</th>\n",
              "    </tr>\n",
              "  </thead>\n",
              "  <tbody>\n",
              "    <tr>\n",
              "      <th>0</th>\n",
              "      <td>bittersweet comedy/drama full of life , hand g...</td>\n",
              "      <td>1</td>\n",
              "    </tr>\n",
              "    <tr>\n",
              "      <th>1</th>\n",
              "      <td>you have to pay attention to follow all the st...</td>\n",
              "      <td>1</td>\n",
              "    </tr>\n",
              "    <tr>\n",
              "      <th>2</th>\n",
              "      <td>overall , interesting as a documentary -- but ...</td>\n",
              "      <td>1</td>\n",
              "    </tr>\n",
              "    <tr>\n",
              "      <th>3</th>\n",
              "      <td>precocious smarter-than-thou wayward teen stru...</td>\n",
              "      <td>1</td>\n",
              "    </tr>\n",
              "    <tr>\n",
              "      <th>4</th>\n",
              "      <td>nicolas philibert observes life inside a one-r...</td>\n",
              "      <td>1</td>\n",
              "    </tr>\n",
              "  </tbody>\n",
              "</table>\n",
              "</div>\n",
              "      <button class=\"colab-df-convert\" onclick=\"convertToInteractive('df-2a4f780e-67c5-466a-b04a-a5faffc68238')\"\n",
              "              title=\"Convert this dataframe to an interactive table.\"\n",
              "              style=\"display:none;\">\n",
              "        \n",
              "  <svg xmlns=\"http://www.w3.org/2000/svg\" height=\"24px\"viewBox=\"0 0 24 24\"\n",
              "       width=\"24px\">\n",
              "    <path d=\"M0 0h24v24H0V0z\" fill=\"none\"/>\n",
              "    <path d=\"M18.56 5.44l.94 2.06.94-2.06 2.06-.94-2.06-.94-.94-2.06-.94 2.06-2.06.94zm-11 1L8.5 8.5l.94-2.06 2.06-.94-2.06-.94L8.5 2.5l-.94 2.06-2.06.94zm10 10l.94 2.06.94-2.06 2.06-.94-2.06-.94-.94-2.06-.94 2.06-2.06.94z\"/><path d=\"M17.41 7.96l-1.37-1.37c-.4-.4-.92-.59-1.43-.59-.52 0-1.04.2-1.43.59L10.3 9.45l-7.72 7.72c-.78.78-.78 2.05 0 2.83L4 21.41c.39.39.9.59 1.41.59.51 0 1.02-.2 1.41-.59l7.78-7.78 2.81-2.81c.8-.78.8-2.07 0-2.86zM5.41 20L4 18.59l7.72-7.72 1.47 1.35L5.41 20z\"/>\n",
              "  </svg>\n",
              "      </button>\n",
              "      \n",
              "  <style>\n",
              "    .colab-df-container {\n",
              "      display:flex;\n",
              "      flex-wrap:wrap;\n",
              "      gap: 12px;\n",
              "    }\n",
              "\n",
              "    .colab-df-convert {\n",
              "      background-color: #E8F0FE;\n",
              "      border: none;\n",
              "      border-radius: 50%;\n",
              "      cursor: pointer;\n",
              "      display: none;\n",
              "      fill: #1967D2;\n",
              "      height: 32px;\n",
              "      padding: 0 0 0 0;\n",
              "      width: 32px;\n",
              "    }\n",
              "\n",
              "    .colab-df-convert:hover {\n",
              "      background-color: #E2EBFA;\n",
              "      box-shadow: 0px 1px 2px rgba(60, 64, 67, 0.3), 0px 1px 3px 1px rgba(60, 64, 67, 0.15);\n",
              "      fill: #174EA6;\n",
              "    }\n",
              "\n",
              "    [theme=dark] .colab-df-convert {\n",
              "      background-color: #3B4455;\n",
              "      fill: #D2E3FC;\n",
              "    }\n",
              "\n",
              "    [theme=dark] .colab-df-convert:hover {\n",
              "      background-color: #434B5C;\n",
              "      box-shadow: 0px 1px 3px 1px rgba(0, 0, 0, 0.15);\n",
              "      filter: drop-shadow(0px 1px 2px rgba(0, 0, 0, 0.3));\n",
              "      fill: #FFFFFF;\n",
              "    }\n",
              "  </style>\n",
              "\n",
              "      <script>\n",
              "        const buttonEl =\n",
              "          document.querySelector('#df-2a4f780e-67c5-466a-b04a-a5faffc68238 button.colab-df-convert');\n",
              "        buttonEl.style.display =\n",
              "          google.colab.kernel.accessAllowed ? 'block' : 'none';\n",
              "\n",
              "        async function convertToInteractive(key) {\n",
              "          const element = document.querySelector('#df-2a4f780e-67c5-466a-b04a-a5faffc68238');\n",
              "          const dataTable =\n",
              "            await google.colab.kernel.invokeFunction('convertToInteractive',\n",
              "                                                     [key], {});\n",
              "          if (!dataTable) return;\n",
              "\n",
              "          const docLinkHtml = 'Like what you see? Visit the ' +\n",
              "            '<a target=\"_blank\" href=https://colab.research.google.com/notebooks/data_table.ipynb>data table notebook</a>'\n",
              "            + ' to learn more about interactive tables.';\n",
              "          element.innerHTML = '';\n",
              "          dataTable['output_type'] = 'display_data';\n",
              "          await google.colab.output.renderOutput(dataTable, element);\n",
              "          const docLink = document.createElement('div');\n",
              "          docLink.innerHTML = docLinkHtml;\n",
              "          element.appendChild(docLink);\n",
              "        }\n",
              "      </script>\n",
              "    </div>\n",
              "  </div>\n",
              "  "
            ]
          },
          "metadata": {},
          "execution_count": 175
        }
      ]
    },
    {
      "cell_type": "code",
      "source": [
        "import nltk\n",
        "#Tokenize and stopword removal\n",
        "from nltk import TreebankWordTokenizer\n",
        "from nltk.corpus import stopwords\n",
        "nltk.download('stopwords')\n",
        "\n",
        "# Tokenization of text\n",
        "tokenizer=TreebankWordTokenizer()\n",
        "\n",
        "#Setting English stopwords\n",
        "stopword_list= stopwords.words('english')\n",
        "stopword_list.extend(['theyre', 'were', 'heis', 'im', 'ias', 'shouldve', 'arent', 'couldnt', 'didnt', 'doesnt', 're'])\n",
        "#print(stopword_list)"
      ],
      "metadata": {
        "colab": {
          "base_uri": "https://localhost:8080/"
        },
        "id": "HoZnEKS2CoEe",
        "outputId": "71c05441-6a97-430e-c2f6-9bbfe58b4f5e"
      },
      "execution_count": 176,
      "outputs": [
        {
          "output_type": "stream",
          "name": "stderr",
          "text": [
            "[nltk_data] Downloading package stopwords to /root/nltk_data...\n",
            "[nltk_data]   Package stopwords is already up-to-date!\n"
          ]
        }
      ]
    },
    {
      "cell_type": "code",
      "source": [
        "# Define function to remove stopwords\n",
        "def remove_stopwords(text):\n",
        "    tokens =  tokenizer.tokenize(text)\n",
        "    #tokens = [token.strip() for token in tokens] \n",
        "\n",
        "    # Convert each token in tokens to lowercase and check if it is a stopword. If it is not a stopword, then add it to the filtered_tokens list\n",
        "    filtered_tokens = [token for token in tokens if token.lower() not in stopword_list]\n",
        "    filtered_text = ' '.join(filtered_tokens)   \n",
        "    return filtered_text\n",
        "\n",
        "# Apply function on review column\n",
        "movie_reviews['Reviews']= movie_reviews['Reviews'].apply(remove_stopwords)\n",
        "\n",
        "movie_reviews['Reviews'][0]"
      ],
      "metadata": {
        "colab": {
          "base_uri": "https://localhost:8080/",
          "height": 35
        },
        "id": "NtEn6B_BE-iz",
        "outputId": "6a7f6f13-4140-4f16-e5e0-51ef201c56a2"
      },
      "execution_count": 177,
      "outputs": [
        {
          "output_type": "execute_result",
          "data": {
            "text/plain": [
              "'bittersweet comedy/drama full life , hand gestures , really adorable italian guys .'"
            ],
            "application/vnd.google.colaboratory.intrinsic+json": {
              "type": "string"
            }
          },
          "metadata": {},
          "execution_count": 177
        }
      ]
    },
    {
      "cell_type": "code",
      "source": [
        "'''import re\n",
        "# Remove punctuation\n",
        "movie_reviews['Reviews'] = movie_reviews['Reviews'].map(lambda x: re.sub(\"[,\\.!/'?;:]\", '', x))\n",
        "\n",
        "# Convert the titles to lowercase\n",
        "#movie_reviews['Reviews'] = movie_reviews['Reviews'].str.lower()\n",
        "\n",
        "# Print out the first rows of papers\n",
        "movie_reviews['Reviews'][1]'''"
      ],
      "metadata": {
        "colab": {
          "base_uri": "https://localhost:8080/",
          "height": 71
        },
        "id": "XzBQOwwvDbjS",
        "outputId": "fe49f406-e5b7-4bbf-9b53-48012ad2a78f"
      },
      "execution_count": 178,
      "outputs": [
        {
          "output_type": "execute_result",
          "data": {
            "text/plain": [
              "'import re\\n# Remove punctuation\\nmovie_reviews[\\'Reviews\\'] = movie_reviews[\\'Reviews\\'].map(lambda x: re.sub(\"[,\\\\.!/\\'?;:]\", \\'\\', x))\\n\\n# Convert the titles to lowercase\\n#movie_reviews[\\'Reviews\\'] = movie_reviews[\\'Reviews\\'].str.lower()\\n\\n# Print out the first rows of papers\\nmovie_reviews[\\'Reviews\\'][1]'"
            ],
            "application/vnd.google.colaboratory.intrinsic+json": {
              "type": "string"
            }
          },
          "metadata": {},
          "execution_count": 178
        }
      ]
    },
    {
      "cell_type": "code",
      "source": [
        "import nltk\n",
        "nltk.download('wordnet')\n",
        "nltk.download('omw-1.4')\n",
        "# Performing lemmatization\n",
        "def simple_lemmatize(text):\n",
        "    wnl=nltk.WordNetLemmatizer()\n",
        "    text= ' '.join([wnl.lemmatize(word) for word in text.split()])\n",
        "    return text\n",
        "    \n",
        "# Apply function on review column\n",
        "movie_reviews['Reviews']=movie_reviews['Reviews'].apply(simple_lemmatize)\n",
        "\n",
        "movie_reviews['Reviews'][1]"
      ],
      "metadata": {
        "colab": {
          "base_uri": "https://localhost:8080/",
          "height": 107
        },
        "id": "yX5TMhKbBL5x",
        "outputId": "780bbbed-4a0b-4a7f-b256-5eb3ebef9e16"
      },
      "execution_count": 179,
      "outputs": [
        {
          "output_type": "stream",
          "name": "stderr",
          "text": [
            "[nltk_data] Downloading package wordnet to /root/nltk_data...\n",
            "[nltk_data]   Package wordnet is already up-to-date!\n",
            "[nltk_data] Downloading package omw-1.4 to /root/nltk_data...\n",
            "[nltk_data]   Package omw-1.4 is already up-to-date!\n"
          ]
        },
        {
          "output_type": "execute_result",
          "data": {
            "text/plain": [
              "\"pay attention follow story , 're interesting . movie well shot tragic , one ponder credit roll .\""
            ],
            "application/vnd.google.colaboratory.intrinsic+json": {
              "type": "string"
            }
          },
          "metadata": {},
          "execution_count": 179
        }
      ]
    },
    {
      "cell_type": "code",
      "source": [
        "#create dependent and independent variables\n",
        "X = movie_reviews.Reviews\n",
        "y = movie_reviews.Sentiments\n",
        "print(X.shape)\n",
        "print(y.shape)"
      ],
      "metadata": {
        "colab": {
          "base_uri": "https://localhost:8080/"
        },
        "id": "IG6M5oE7H_0A",
        "outputId": "9222685f-bd7e-47fd-f032-daa6041c4590"
      },
      "execution_count": 180,
      "outputs": [
        {
          "output_type": "stream",
          "name": "stdout",
          "text": [
            "(7463,)\n",
            "(7463,)\n"
          ]
        }
      ]
    },
    {
      "cell_type": "code",
      "source": [
        "# splitting into test and train\n",
        "from sklearn.model_selection  import train_test_split\n",
        "X_train, X_test, y_train, y_test = train_test_split(X, y, test_size=0.2, random_state=1)"
      ],
      "metadata": {
        "id": "1j-Kgyi83r3X"
      },
      "execution_count": 181,
      "outputs": []
    },
    {
      "cell_type": "code",
      "source": [
        "# vectorizing the sentences; removing stop words\n",
        "from sklearn.feature_extraction.text import TfidfVectorizer\n",
        "\n",
        "vect = TfidfVectorizer(max_features=3000, use_idf=True, ngram_range=(1,2))\n",
        "vect.fit(X_train)\n",
        "\n",
        "# vocab size\n",
        "len(vect.vocabulary_.keys())"
      ],
      "metadata": {
        "colab": {
          "base_uri": "https://localhost:8080/"
        },
        "id": "yGESZ9ke39-J",
        "outputId": "c830e7cc-3873-45eb-c33d-3a167b6a4c99"
      },
      "execution_count": 182,
      "outputs": [
        {
          "output_type": "execute_result",
          "data": {
            "text/plain": [
              "3000"
            ]
          },
          "metadata": {},
          "execution_count": 182
        }
      ]
    },
    {
      "cell_type": "code",
      "source": [
        "# transforming the train and test datasets\n",
        "X_train_transformed = vect.fit_transform(X_train)\n",
        "X_test_transformed = vect.transform(X_test)\n",
        "\n",
        "print(type(X_train_transformed))"
      ],
      "metadata": {
        "colab": {
          "base_uri": "https://localhost:8080/"
        },
        "id": "7j_lNb0S6GCK",
        "outputId": "ce410401-385c-47fa-fee8-3dabb8c91840"
      },
      "execution_count": 183,
      "outputs": [
        {
          "output_type": "stream",
          "name": "stdout",
          "text": [
            "<class 'scipy.sparse.csr.csr_matrix'>\n"
          ]
        }
      ]
    },
    {
      "cell_type": "markdown",
      "source": [
        "###Supervised Machine-Learning Models\n",
        "\n",
        "#### 1. Multinomial Naive Bayes Classifier"
      ],
      "metadata": {
        "id": "gIPcQrXDKr2m"
      }
    },
    {
      "cell_type": "code",
      "source": [
        "from sklearn import metrics\n",
        "from sklearn.naive_bayes import MultinomialNB\n",
        "\n",
        "#Multinomial NB model\n",
        "mnb = MultinomialNB().fit(X_train_transformed,y_train)\n",
        "\n",
        "# predict\n",
        "y_pred_train = mnb.predict(X_train_transformed)\n",
        "y_pred_test = mnb.predict(X_test_transformed)\n",
        "\n",
        "# predict probabilities\n",
        "#y_pred_proba = mnb.predict_proba(X_test_transformed)\n",
        "\n",
        "#accuracy score\n",
        "mnb_train = round(metrics.accuracy_score(y_train, y_pred_train), 3)\n",
        "mnb_test = round(metrics.accuracy_score(y_test, y_pred_test), 3)\n",
        "\n",
        "print(f'Training: {mnb_train}')\n",
        "print(f'Test: {mnb_test}')\n"
      ],
      "metadata": {
        "colab": {
          "base_uri": "https://localhost:8080/"
        },
        "id": "zq7nSr1p7tlB",
        "outputId": "f27a16b0-fe91-4390-ec24-d57ac7195540"
      },
      "execution_count": 184,
      "outputs": [
        {
          "output_type": "stream",
          "name": "stdout",
          "text": [
            "Training: 0.86\n",
            "Test: 0.728\n"
          ]
        }
      ]
    },
    {
      "cell_type": "markdown",
      "source": [
        "#### 2. Bernoulli Naive Bayes Classifier "
      ],
      "metadata": {
        "id": "3v7wxSIjL1WO"
      }
    },
    {
      "cell_type": "code",
      "source": [
        "from sklearn.naive_bayes import BernoulliNB\n",
        "\n",
        "# Bernoulli NB model\n",
        "bnb = BernoulliNB(alpha=1, binarize=False).fit(X_train_transformed,y_train)\n",
        "\n",
        "# predict\n",
        "y_pred_train = bnb.predict(X_train_transformed)\n",
        "y_pred_test = bnb.predict(X_test_transformed)\n",
        "\n",
        "# predict probability\n",
        "#y_pred_proba =bnb.predict_proba(X_test_transformed)\n",
        "\n",
        "# accuracy score\n",
        "bnb_train = round(metrics.accuracy_score(y_train, y_pred_train), 3)\n",
        "bnb_test = round(metrics.accuracy_score(y_test, y_pred_test), 3)\n",
        "\n",
        "print(f'Training: {bnb_train}')\n",
        "print(f'Test: {bnb_test}')"
      ],
      "metadata": {
        "colab": {
          "base_uri": "https://localhost:8080/"
        },
        "id": "-Qx6ynfsAeJX",
        "outputId": "b52613c2-be71-4cd2-9a3e-0534465372d1"
      },
      "execution_count": 185,
      "outputs": [
        {
          "output_type": "stream",
          "name": "stdout",
          "text": [
            "Training: 0.857\n",
            "Test: 0.735\n"
          ]
        }
      ]
    },
    {
      "cell_type": "code",
      "source": [
        "from sklearn import metrics\n",
        "metrics.confusion_matrix(y_test, y_pred_test)"
      ],
      "metadata": {
        "colab": {
          "base_uri": "https://localhost:8080/"
        },
        "id": "HtFE7WYU0Wkt",
        "outputId": "34ce83e3-909f-4058-9c28-86f9f262d18b"
      },
      "execution_count": 188,
      "outputs": [
        {
          "output_type": "execute_result",
          "data": {
            "text/plain": [
              "array([[527, 219],\n",
              "       [177, 570]])"
            ]
          },
          "metadata": {},
          "execution_count": 188
        }
      ]
    },
    {
      "cell_type": "code",
      "source": [
        "print(\"PRECISION SCORE :\",metrics.precision_score(y_test, y_pred_test))\n",
        "print(\"RECALL SCORE :\", metrics.recall_score(y_test, y_pred_test))\n",
        "print(\"F1 SCORE :\",metrics.f1_score(y_test, y_pred_test))"
      ],
      "metadata": {
        "colab": {
          "base_uri": "https://localhost:8080/"
        },
        "id": "yZk3D3530skg",
        "outputId": "6a1f9c99-ffa9-451f-98b8-6ace8c751916"
      },
      "execution_count": 191,
      "outputs": [
        {
          "output_type": "stream",
          "name": "stdout",
          "text": [
            "PRECISION SCORE : 0.7224334600760456\n",
            "RECALL SCORE : 0.7630522088353414\n",
            "F1 SCORE : 0.7421875\n"
          ]
        }
      ]
    },
    {
      "cell_type": "markdown",
      "source": [],
      "metadata": {
        "id": "yahWKIxb0XYx"
      }
    },
    {
      "cell_type": "markdown",
      "source": [
        "####3. Logistic Regression"
      ],
      "metadata": {
        "id": "ImP4c4QKMhqa"
      }
    },
    {
      "cell_type": "code",
      "source": [
        "from sklearn.linear_model import LogisticRegression, LogisticRegressionCV\n",
        "\n",
        "# Logistic regression model\n",
        "lr = LogisticRegression(penalty='none', solver='lbfgs', random_state=0, \n",
        "                                     max_iter=800).fit(X_train_transformed, y_train)\n",
        "\n",
        "\n",
        "#predict\n",
        "y_pred_train = lr.predict(X_train_transformed)\n",
        "y_pred_test = lr.predict(X_test_transformed)\n",
        "\n",
        "#accuracy score\n",
        "lr_train = round(metrics.accuracy_score(y_train, y_pred_train), 3)\n",
        "lr_test = round(metrics.accuracy_score(y_test, y_pred_test), 3)\n",
        "\n",
        "\n",
        "print(f'Training: {lr_train}')\n",
        "print(f'Test: {lr_test}') #high overfitting"
      ],
      "metadata": {
        "colab": {
          "base_uri": "https://localhost:8080/"
        },
        "id": "-0q9ieaW7yQg",
        "outputId": "2de51d76-84bb-4828-ab52-83a18759e1e1"
      },
      "execution_count": 140,
      "outputs": [
        {
          "output_type": "stream",
          "name": "stdout",
          "text": [
            "Training: 0.998\n",
            "Test: 0.684\n"
          ]
        }
      ]
    },
    {
      "cell_type": "markdown",
      "source": [
        "####4. Logistic Regression - Hyperparameter Tuning (Lasso and Ridge)"
      ],
      "metadata": {
        "id": "iBqA08UyONfc"
      }
    },
    {
      "cell_type": "code",
      "source": [
        "#lasso model\n",
        "C_list = np.arange(0.1,2,0.1)\n",
        "lr_lasso = LogisticRegressionCV(Cs=C_list, penalty='l1', solver='liblinear', random_state=0,\n",
        "                                max_iter=800).fit(X_train_transformed, y_train)\n",
        "\n",
        "#predict\n",
        "y_pred_train = lr_lasso.predict(X_train_transformed)\n",
        "y_pred_test = lr_lasso.predict(X_test_transformed)\n",
        "\n",
        "#accuracy\n",
        "lr_lasso_train = round(metrics.accuracy_score(y_train, y_pred_train), 3)\n",
        "lr_lasso_test = round(metrics.accuracy_score(y_test, y_pred_test), 3)\n",
        "\n",
        "\n",
        "print(f'Training: {lr_lasso_train}')\n",
        "print(f'Test: {lr_lasso_test}')"
      ],
      "metadata": {
        "colab": {
          "base_uri": "https://localhost:8080/"
        },
        "id": "4Zp0h7D38D1X",
        "outputId": "0c755d39-64a1-4e1e-806c-acf39ac6de33"
      },
      "execution_count": 141,
      "outputs": [
        {
          "output_type": "stream",
          "name": "stdout",
          "text": [
            "Training: 0.864\n",
            "Test: 0.725\n"
          ]
        }
      ]
    },
    {
      "cell_type": "markdown",
      "source": [
        "####5. Decision Tree Classifier"
      ],
      "metadata": {
        "id": "BY-18xJdPpKi"
      }
    },
    {
      "cell_type": "code",
      "source": [
        "from sklearn.tree import DecisionTreeClassifier\n",
        "from sklearn.model_selection import GridSearchCV\n",
        "\n",
        "# Tree model object\n",
        "dt = DecisionTreeClassifier(random_state = 0)\n",
        "\n",
        "# range of the max_depth and criterion\n",
        "param_grid = {'max_depth': np.arange(130, 150), 'criterion': ('gini', 'entropy')}\n",
        "\n",
        "# grid search hyperparameter tuning\n",
        "grid = GridSearchCV(dt, param_grid, cv = 3, scoring = 'accuracy', return_train_score = True, verbose = 1)\n",
        "grid_search = grid.fit(X_train_transformed, y_train)\n",
        "\n",
        "# optimal value of max_depth\n",
        "print('The optimal value of max_depth is', grid_search.best_params_['max_depth'])\n",
        "print('The optimal value of criterion is', grid_search.best_params_['criterion'])\n",
        "\n",
        "\n",
        "\n",
        "#best decision tree model \n",
        "dt_best = DecisionTreeClassifier(random_state=0, max_depth=grid_search.best_params_['max_depth']).fit(X_train_transformed, y_train)\n",
        "\n",
        "#predict\n",
        "y_pred_train = dt_best.predict(X_train_transformed)\n",
        "y_pred_test = dt_best.predict(X_test_transformed)\n",
        "\n",
        "#accuracy score\n",
        "dt_best_train = round(metrics.accuracy_score(y_train, y_pred_train), 3)\n",
        "dt_best_test = round(metrics.accuracy_score(y_test, y_pred_test), 3)\n",
        "\n",
        "\n",
        "print(f'Training: {dt_best_train}')\n",
        "print(f'Test: {dt_best_test}')"
      ],
      "metadata": {
        "colab": {
          "base_uri": "https://localhost:8080/"
        },
        "id": "0IZ1lixaOV3I",
        "outputId": "28c7f44a-023a-4f46-b9df-df431d588260"
      },
      "execution_count": 142,
      "outputs": [
        {
          "output_type": "stream",
          "name": "stdout",
          "text": [
            "Fitting 3 folds for each of 40 candidates, totalling 120 fits\n",
            "The optimal value of max_depth is 147\n",
            "The optimal value of criterion is gini\n",
            "Training: 0.874\n",
            "Test: 0.618\n"
          ]
        }
      ]
    },
    {
      "cell_type": "markdown",
      "source": [
        "#### 6. Random Forest Classifier"
      ],
      "metadata": {
        "id": "AncxYYu-SV5g"
      }
    },
    {
      "cell_type": "code",
      "source": [
        "from sklearn.ensemble import RandomForestClassifier\n",
        "\n",
        "# Random Forest model object\n",
        "rf = RandomForestClassifier(random_state = 0)\n",
        "\n",
        "# range of the max_depth and n_estimator parameters\n",
        "param_grid = {'max_depth': np.arange(36, 39, 1), 'n_estimators' : np.arange(400, 440, 10)} # Parameter range\n",
        "\n",
        "# grid search hyperparameter tuning\n",
        "grid = GridSearchCV(rf, param_grid, cv = 3, scoring = 'accuracy', return_train_score = True, verbose = 1)\n",
        "grid_search = grid.fit(X_train_transformed, y_train)\n",
        "\n",
        "\n",
        "#optimal value of max_depth and n_estimators\n",
        "print('The optimal value of max_depth is', grid_search.best_params_['max_depth'])\n",
        "print('The optimal value of n_estimator is', grid_search.best_params_['n_estimators'])"
      ],
      "metadata": {
        "colab": {
          "base_uri": "https://localhost:8080/"
        },
        "id": "JzyC0vXcQcwI",
        "outputId": "0a057a7e-f7e7-4ff2-bb89-f7bb09949698"
      },
      "execution_count": 143,
      "outputs": [
        {
          "output_type": "stream",
          "name": "stdout",
          "text": [
            "Fitting 3 folds for each of 12 candidates, totalling 36 fits\n",
            "The optimal value of max_depth is 37\n",
            "The optimal value of n_estimator is 420\n"
          ]
        }
      ]
    },
    {
      "cell_type": "code",
      "source": [
        "#best random forest model\n",
        "rf_best = RandomForestClassifier(n_estimators = 420,\n",
        "                            max_depth = 37, class_weight = 'balanced', \n",
        "                            random_state = 0).fit(X_train_transformed, y_train)\n",
        "\n",
        "#predict\n",
        "y_pred_train = rf_best.predict(X_train_transformed)\n",
        "y_pred_test = rf_best.predict(X_test_transformed)\n",
        "\n",
        "#accuracy\n",
        "rf_best_train = round(metrics.accuracy_score(y_train, y_pred_train), 3)\n",
        "rf_best_test = round(metrics.accuracy_score(y_test, y_pred_test), 3)\n",
        "\n",
        "\n",
        "print(f'Training: {rf_best_train}')\n",
        "print(f'Test: {rf_best_test}')"
      ],
      "metadata": {
        "colab": {
          "base_uri": "https://localhost:8080/"
        },
        "id": "9lD7UPhGV_gv",
        "outputId": "3f7a78d9-5c0e-409d-d6d1-be254d5a21cd"
      },
      "execution_count": 144,
      "outputs": [
        {
          "output_type": "stream",
          "name": "stdout",
          "text": [
            "Training: 0.915\n",
            "Test: 0.689\n"
          ]
        }
      ]
    },
    {
      "cell_type": "markdown",
      "source": [
        "####7. XGBoost Classifier"
      ],
      "metadata": {
        "id": "5tmo2ugHvZ2D"
      }
    },
    {
      "cell_type": "code",
      "source": [
        "import xgboost as xgb\n",
        "\n",
        "# XGBoost model object\n",
        "xg = xgb.XGBClassifier(class_weight = 'balanced', random_state = 0)\n",
        "\n",
        "# parameter range for n_estimators and max_depth\n",
        "param_grid = {'n_estimators': np.arange(780,810,10),\n",
        "              'max_depth': np.arange(13,16)} # Parameter range\n",
        "\n",
        "# grid search to find the best combination of hyperparameters\n",
        "grid = GridSearchCV(xg, param_grid, cv=3, scoring='accuracy', return_train_score=True, verbose=1)\n",
        "grid_search = grid.fit(X_train_transformed, y_train)\n",
        "\n",
        "#optimal value of max_depth and n_estimators\n",
        "print('The optimal value of criterion is', grid_search.best_params_['n_estimators'])\n",
        "print('The optimal value of max_depth is', grid_search.best_params_['max_depth'])"
      ],
      "metadata": {
        "colab": {
          "base_uri": "https://localhost:8080/"
        },
        "id": "psLSogKMURhS",
        "outputId": "86cf8ec1-508d-462a-d02d-e57913f4f29d"
      },
      "execution_count": 145,
      "outputs": [
        {
          "output_type": "stream",
          "name": "stdout",
          "text": [
            "Fitting 3 folds for each of 9 candidates, totalling 27 fits\n",
            "The optimal value of criterion is 790\n",
            "The optimal value of max_depth is 15\n"
          ]
        }
      ]
    },
    {
      "cell_type": "code",
      "source": [
        "# best XGBoost model\n",
        "xg_best = xgb.XGBClassifier(n_estimators=grid_search.best_params_['n_estimators'],\n",
        "                          learning_rate=0.01,\n",
        "                          max_depth= grid_search.best_params_['max_depth'],\n",
        "                          class_weight = 'balanced',\n",
        "                          random_state = 123).fit(X_train_transformed, y_train)\n",
        "\n",
        "\n",
        "#predict\n",
        "y_pred_train = xg_best.predict(X_train_transformed)\n",
        "y_pred_test = xg_best.predict(X_test_transformed)\n",
        "\n",
        "#accuracy\n",
        "xg_best_train = round(metrics.accuracy_score(y_train, y_pred_train), 3)\n",
        "xg_best_test = round(metrics.accuracy_score(y_test, y_pred_test), 3)\n",
        "print(f'Training: {xg_best_train}')\n",
        "print(f'Test: {xg_best_test}')"
      ],
      "metadata": {
        "colab": {
          "base_uri": "https://localhost:8080/"
        },
        "id": "vBeEIARlVCFu",
        "outputId": "48956c4a-edab-45fc-c55b-085d258da942"
      },
      "execution_count": 146,
      "outputs": [
        {
          "output_type": "stream",
          "name": "stdout",
          "text": [
            "Training: 0.844\n",
            "Test: 0.675\n"
          ]
        }
      ]
    },
    {
      "cell_type": "markdown",
      "source": [
        "#### Tabulating Accuracy across different models"
      ],
      "metadata": {
        "id": "QNVDX4X6x6o4"
      }
    },
    {
      "cell_type": "code",
      "source": [
        "# Tabulating our results for training and validation accuracy\n",
        "pd.DataFrame([[mnb_train, mnb_test], [bnb_train, bnb_test], \n",
        "              [lr_train, lr_test], [lr_lasso_train, lr_lasso_test], [dt_best_train, dt_best_test], \n",
        "              [rf_best_train, rf_best_test], [xg_best_train, xg_best_test]], columns=['Training Acc', 'Validation Acc'], \n",
        "              index = ['Multinomial NB', 'Bernoulli NB', 'Log Reg', 'Log Reg Lasso', 'Decision Tree', 'Random Forest', 'XGBoost'])"
      ],
      "metadata": {
        "colab": {
          "base_uri": "https://localhost:8080/",
          "height": 269
        },
        "id": "cQcQIBN7gl15",
        "outputId": "618f4a6e-a99f-4f06-f5f2-f0fd4a5f917a"
      },
      "execution_count": 147,
      "outputs": [
        {
          "output_type": "execute_result",
          "data": {
            "text/plain": [
              "                Training Acc  Validation Acc\n",
              "Multinomial NB         0.860           0.728\n",
              "Bernoulli NB           0.857           0.735\n",
              "Log Reg                0.998           0.684\n",
              "Log Reg Lasso          0.864           0.725\n",
              "Decision Tree          0.874           0.618\n",
              "Random Forest          0.915           0.689\n",
              "XGBoost                0.844           0.675"
            ],
            "text/html": [
              "\n",
              "  <div id=\"df-5032373c-e05b-4648-a7d4-6a7a5347a50f\">\n",
              "    <div class=\"colab-df-container\">\n",
              "      <div>\n",
              "<style scoped>\n",
              "    .dataframe tbody tr th:only-of-type {\n",
              "        vertical-align: middle;\n",
              "    }\n",
              "\n",
              "    .dataframe tbody tr th {\n",
              "        vertical-align: top;\n",
              "    }\n",
              "\n",
              "    .dataframe thead th {\n",
              "        text-align: right;\n",
              "    }\n",
              "</style>\n",
              "<table border=\"1\" class=\"dataframe\">\n",
              "  <thead>\n",
              "    <tr style=\"text-align: right;\">\n",
              "      <th></th>\n",
              "      <th>Training Acc</th>\n",
              "      <th>Validation Acc</th>\n",
              "    </tr>\n",
              "  </thead>\n",
              "  <tbody>\n",
              "    <tr>\n",
              "      <th>Multinomial NB</th>\n",
              "      <td>0.860</td>\n",
              "      <td>0.728</td>\n",
              "    </tr>\n",
              "    <tr>\n",
              "      <th>Bernoulli NB</th>\n",
              "      <td>0.857</td>\n",
              "      <td>0.735</td>\n",
              "    </tr>\n",
              "    <tr>\n",
              "      <th>Log Reg</th>\n",
              "      <td>0.998</td>\n",
              "      <td>0.684</td>\n",
              "    </tr>\n",
              "    <tr>\n",
              "      <th>Log Reg Lasso</th>\n",
              "      <td>0.864</td>\n",
              "      <td>0.725</td>\n",
              "    </tr>\n",
              "    <tr>\n",
              "      <th>Decision Tree</th>\n",
              "      <td>0.874</td>\n",
              "      <td>0.618</td>\n",
              "    </tr>\n",
              "    <tr>\n",
              "      <th>Random Forest</th>\n",
              "      <td>0.915</td>\n",
              "      <td>0.689</td>\n",
              "    </tr>\n",
              "    <tr>\n",
              "      <th>XGBoost</th>\n",
              "      <td>0.844</td>\n",
              "      <td>0.675</td>\n",
              "    </tr>\n",
              "  </tbody>\n",
              "</table>\n",
              "</div>\n",
              "      <button class=\"colab-df-convert\" onclick=\"convertToInteractive('df-5032373c-e05b-4648-a7d4-6a7a5347a50f')\"\n",
              "              title=\"Convert this dataframe to an interactive table.\"\n",
              "              style=\"display:none;\">\n",
              "        \n",
              "  <svg xmlns=\"http://www.w3.org/2000/svg\" height=\"24px\"viewBox=\"0 0 24 24\"\n",
              "       width=\"24px\">\n",
              "    <path d=\"M0 0h24v24H0V0z\" fill=\"none\"/>\n",
              "    <path d=\"M18.56 5.44l.94 2.06.94-2.06 2.06-.94-2.06-.94-.94-2.06-.94 2.06-2.06.94zm-11 1L8.5 8.5l.94-2.06 2.06-.94-2.06-.94L8.5 2.5l-.94 2.06-2.06.94zm10 10l.94 2.06.94-2.06 2.06-.94-2.06-.94-.94-2.06-.94 2.06-2.06.94z\"/><path d=\"M17.41 7.96l-1.37-1.37c-.4-.4-.92-.59-1.43-.59-.52 0-1.04.2-1.43.59L10.3 9.45l-7.72 7.72c-.78.78-.78 2.05 0 2.83L4 21.41c.39.39.9.59 1.41.59.51 0 1.02-.2 1.41-.59l7.78-7.78 2.81-2.81c.8-.78.8-2.07 0-2.86zM5.41 20L4 18.59l7.72-7.72 1.47 1.35L5.41 20z\"/>\n",
              "  </svg>\n",
              "      </button>\n",
              "      \n",
              "  <style>\n",
              "    .colab-df-container {\n",
              "      display:flex;\n",
              "      flex-wrap:wrap;\n",
              "      gap: 12px;\n",
              "    }\n",
              "\n",
              "    .colab-df-convert {\n",
              "      background-color: #E8F0FE;\n",
              "      border: none;\n",
              "      border-radius: 50%;\n",
              "      cursor: pointer;\n",
              "      display: none;\n",
              "      fill: #1967D2;\n",
              "      height: 32px;\n",
              "      padding: 0 0 0 0;\n",
              "      width: 32px;\n",
              "    }\n",
              "\n",
              "    .colab-df-convert:hover {\n",
              "      background-color: #E2EBFA;\n",
              "      box-shadow: 0px 1px 2px rgba(60, 64, 67, 0.3), 0px 1px 3px 1px rgba(60, 64, 67, 0.15);\n",
              "      fill: #174EA6;\n",
              "    }\n",
              "\n",
              "    [theme=dark] .colab-df-convert {\n",
              "      background-color: #3B4455;\n",
              "      fill: #D2E3FC;\n",
              "    }\n",
              "\n",
              "    [theme=dark] .colab-df-convert:hover {\n",
              "      background-color: #434B5C;\n",
              "      box-shadow: 0px 1px 3px 1px rgba(0, 0, 0, 0.15);\n",
              "      filter: drop-shadow(0px 1px 2px rgba(0, 0, 0, 0.3));\n",
              "      fill: #FFFFFF;\n",
              "    }\n",
              "  </style>\n",
              "\n",
              "      <script>\n",
              "        const buttonEl =\n",
              "          document.querySelector('#df-5032373c-e05b-4648-a7d4-6a7a5347a50f button.colab-df-convert');\n",
              "        buttonEl.style.display =\n",
              "          google.colab.kernel.accessAllowed ? 'block' : 'none';\n",
              "\n",
              "        async function convertToInteractive(key) {\n",
              "          const element = document.querySelector('#df-5032373c-e05b-4648-a7d4-6a7a5347a50f');\n",
              "          const dataTable =\n",
              "            await google.colab.kernel.invokeFunction('convertToInteractive',\n",
              "                                                     [key], {});\n",
              "          if (!dataTable) return;\n",
              "\n",
              "          const docLinkHtml = 'Like what you see? Visit the ' +\n",
              "            '<a target=\"_blank\" href=https://colab.research.google.com/notebooks/data_table.ipynb>data table notebook</a>'\n",
              "            + ' to learn more about interactive tables.';\n",
              "          element.innerHTML = '';\n",
              "          dataTable['output_type'] = 'display_data';\n",
              "          await google.colab.output.renderOutput(dataTable, element);\n",
              "          const docLink = document.createElement('div');\n",
              "          docLink.innerHTML = docLinkHtml;\n",
              "          element.appendChild(docLink);\n",
              "        }\n",
              "      </script>\n",
              "    </div>\n",
              "  </div>\n",
              "  "
            ]
          },
          "metadata": {},
          "execution_count": 147
        }
      ]
    },
    {
      "cell_type": "markdown",
      "source": [
        "### Deep Learning Model"
      ],
      "metadata": {
        "id": "i4gx_VX4yOr8"
      }
    },
    {
      "cell_type": "code",
      "source": [
        "# Import methods for building neural networks\n",
        "import tensorflow as tf\n",
        "from tensorflow import keras\n",
        "from keras import layers\n",
        "from keras.models import Sequential\n",
        "from tensorflow.keras.layers import Dense, Dropout\n",
        "from tensorflow.keras.optimizers import RMSprop\n",
        "\n",
        "# Import 'KerasClassifier' from 'keras' for connecting neural networks with 'sklearn' and 'GridSearchCV'\n",
        "from keras.wrappers.scikit_learn import KerasClassifier\n",
        "\n",
        "import os\n",
        "import warnings\n",
        "warnings.filterwarnings('ignore')"
      ],
      "metadata": {
        "id": "-tkmSZfRy14y"
      },
      "execution_count": 148,
      "outputs": []
    },
    {
      "cell_type": "code",
      "source": [
        "type(X_train_transformed)"
      ],
      "metadata": {
        "colab": {
          "base_uri": "https://localhost:8080/"
        },
        "id": "CLIrckZGzpOu",
        "outputId": "35715a82-023c-44ce-eea6-0cb921d0cca2"
      },
      "execution_count": 149,
      "outputs": [
        {
          "output_type": "execute_result",
          "data": {
            "text/plain": [
              "scipy.sparse.csr.csr_matrix"
            ]
          },
          "metadata": {},
          "execution_count": 149
        }
      ]
    },
    {
      "cell_type": "code",
      "source": [
        "# Converting the sparse matrix of a dataset obtained from count vectorization to a sparse tensor\n",
        "#because keras accept sparse tensor as input, not a sparse matrix\n",
        "\n",
        "#first convert the matrix to COO format. Then you extract the indices, values, and shape and pass those directly to the SparseTensor constructor.\n",
        "\n",
        "\n",
        "def convert_sparse_matrix_to_sparse_tensor(X):\n",
        "    coo = X.tocoo()\n",
        "    indices = np.mat([coo.row, coo.col]).transpose()\n",
        "    return tf.SparseTensor(indices, coo.data, coo.shape) #tf.sparse.SparseTensor(indices= ###, values=[,], dense_shape=[,])"
      ],
      "metadata": {
        "id": "nDtN9_NsvEDr"
      },
      "execution_count": 150,
      "outputs": []
    },
    {
      "cell_type": "code",
      "source": [
        "# Sparse reordering is done because tensorflow accepts input in row-major format\n",
        "\n",
        "# For the training dataset\n",
        "X_train_nn = tf.sparse.reorder(convert_sparse_matrix_to_sparse_tensor(X_train_transformed))\n",
        "y_train_nn = np.asarray(y_train)\n",
        "\n",
        "# For the validation dataset\n",
        "X_test_nn = tf.sparse.reorder(convert_sparse_matrix_to_sparse_tensor(X_test_transformed))\n",
        "y_test_nn = np.asarray(y_test)"
      ],
      "metadata": {
        "id": "019bUab16NHC"
      },
      "execution_count": 151,
      "outputs": []
    },
    {
      "cell_type": "markdown",
      "source": [
        "#### Fully-connected feedforward neural network"
      ],
      "metadata": {
        "id": "NF5sd78buyiC"
      }
    },
    {
      "cell_type": "code",
      "source": [
        "# Defining a fully-connected feedforward neural network\n",
        "def create_nn(activation_function = 'relu',\n",
        "              hidden1_neurons = 64):\n",
        "  \n",
        "    # keras.Input is the input layer of the neural network\n",
        "    input = keras.Input(shape=(3000, ), sparse=True, name=\"tfidf_maxfeatures\")\n",
        "\n",
        "    # The first hidden layer\n",
        "    hidden1 = layers.Dense(hidden1_neurons,\n",
        "                           activation=activation_function)(input) \n",
        "    \n",
        "    #pooling = layers.MaxPooling2D(pool_size=5, strides=1, padding='valid')\n",
        "\n",
        "    #second hidden layer\n",
        "    hidden2 = layers.Dense(32,\n",
        "                           activation=activation_function)(hidden1)\n",
        "                      \n",
        "\n",
        "    # The output layer\n",
        "    output = layers.Dense(1)(hidden2)\n",
        "\n",
        "    return keras.Model(input, output)"
      ],
      "metadata": {
        "id": "KYzDVbhJ1Mrk"
      },
      "execution_count": 152,
      "outputs": []
    },
    {
      "cell_type": "code",
      "source": [
        "#neural network model\n",
        "nn1 = create_nn()\n",
        "nn1.compile(loss = 'binary_crossentropy',\n",
        "            metrics = ['accuracy'],\n",
        "            optimizer = RMSprop(learning_rate = 0.01))\n",
        "\n",
        "nn1.summary()"
      ],
      "metadata": {
        "colab": {
          "base_uri": "https://localhost:8080/"
        },
        "id": "pbwxMeZU1Wfl",
        "outputId": "5a3885fc-2a26-46d6-9973-906c3d594d69"
      },
      "execution_count": 153,
      "outputs": [
        {
          "output_type": "stream",
          "name": "stdout",
          "text": [
            "Model: \"model_25\"\n",
            "_________________________________________________________________\n",
            " Layer (type)                Output Shape              Param #   \n",
            "=================================================================\n",
            " tfidf_maxfeatures (InputLay  [(None, 3000)]           0         \n",
            " er)                                                             \n",
            "                                                                 \n",
            " dense_75 (Dense)            (None, 64)                192064    \n",
            "                                                                 \n",
            " dense_76 (Dense)            (None, 32)                2080      \n",
            "                                                                 \n",
            " dense_77 (Dense)            (None, 1)                 33        \n",
            "                                                                 \n",
            "=================================================================\n",
            "Total params: 194,177\n",
            "Trainable params: 194,177\n",
            "Non-trainable params: 0\n",
            "_________________________________________________________________\n"
          ]
        }
      ]
    },
    {
      "cell_type": "code",
      "source": [
        "# Training the neural network model on the dataset\n",
        "nn1_history = nn1.fit(X_train_nn, y_train_nn, validation_data=(X_test_nn, y_test_nn), epochs = 10)"
      ],
      "metadata": {
        "colab": {
          "base_uri": "https://localhost:8080/"
        },
        "id": "8XO58N7c1YCo",
        "outputId": "a07fceee-9cbe-4b25-ac18-f36901c7871d"
      },
      "execution_count": 154,
      "outputs": [
        {
          "output_type": "stream",
          "name": "stdout",
          "text": [
            "Epoch 1/10\n",
            "187/187 [==============================] - 2s 5ms/step - loss: 0.7118 - accuracy: 0.6776 - val_loss: 0.8490 - val_accuracy: 0.7073\n",
            "Epoch 2/10\n",
            "187/187 [==============================] - 1s 4ms/step - loss: 0.5825 - accuracy: 0.8127 - val_loss: 1.1834 - val_accuracy: 0.7127\n",
            "Epoch 3/10\n",
            "187/187 [==============================] - 1s 4ms/step - loss: 0.4979 - accuracy: 0.8838 - val_loss: 1.5283 - val_accuracy: 0.7187\n",
            "Epoch 4/10\n",
            "187/187 [==============================] - 1s 4ms/step - loss: 0.4351 - accuracy: 0.9385 - val_loss: 2.4815 - val_accuracy: 0.7080\n",
            "Epoch 5/10\n",
            "187/187 [==============================] - 1s 4ms/step - loss: 0.3388 - accuracy: 0.9630 - val_loss: 3.1748 - val_accuracy: 0.7133\n",
            "Epoch 6/10\n",
            "187/187 [==============================] - 1s 5ms/step - loss: 0.3255 - accuracy: 0.9732 - val_loss: 3.6933 - val_accuracy: 0.6986\n",
            "Epoch 7/10\n",
            "187/187 [==============================] - 1s 4ms/step - loss: 0.3239 - accuracy: 0.9747 - val_loss: 3.7063 - val_accuracy: 0.7147\n",
            "Epoch 8/10\n",
            "187/187 [==============================] - 1s 4ms/step - loss: 0.3193 - accuracy: 0.9747 - val_loss: 3.7071 - val_accuracy: 0.6952\n",
            "Epoch 9/10\n",
            "187/187 [==============================] - 1s 4ms/step - loss: 0.2993 - accuracy: 0.9774 - val_loss: 3.8740 - val_accuracy: 0.6999\n",
            "Epoch 10/10\n",
            "187/187 [==============================] - 1s 5ms/step - loss: 0.2932 - accuracy: 0.9760 - val_loss: 3.9178 - val_accuracy: 0.6939\n"
          ]
        }
      ]
    },
    {
      "cell_type": "code",
      "source": [
        "# Convert the neural network history object into a data frame to view its specifics\n",
        "hist = pd.DataFrame(nn1_history.history)\n",
        "hist['epoch'] = nn1_history.epoch\n",
        "hist['epoch'] = hist['epoch'].apply(lambda x: x + 1)\n",
        "hist.set_index('epoch')"
      ],
      "metadata": {
        "colab": {
          "base_uri": "https://localhost:8080/",
          "height": 394
        },
        "id": "KjOQVvZn1eVN",
        "outputId": "16809c70-9b98-49e9-a2b0-e83073c80f2b"
      },
      "execution_count": 155,
      "outputs": [
        {
          "output_type": "execute_result",
          "data": {
            "text/plain": [
              "           loss  accuracy  val_loss  val_accuracy\n",
              "epoch                                            \n",
              "1      0.711835  0.677554  0.848975      0.707301\n",
              "2      0.582452  0.812730  1.183407      0.712659\n",
              "3      0.497870  0.883752  1.528305      0.718687\n",
              "4      0.435084  0.938526  2.481458      0.707970\n",
              "5      0.338774  0.962982  3.174832      0.713329\n",
              "6      0.325521  0.973199  3.693287      0.698593\n",
              "7      0.323868  0.974707  3.706341      0.714668\n",
              "8      0.319334  0.974707  3.707101      0.695244\n",
              "9      0.299259  0.977387  3.873974      0.699933\n",
              "10     0.293166  0.976047  3.917796      0.693905"
            ],
            "text/html": [
              "\n",
              "  <div id=\"df-b049f666-2429-4922-afbb-b482c20f9976\">\n",
              "    <div class=\"colab-df-container\">\n",
              "      <div>\n",
              "<style scoped>\n",
              "    .dataframe tbody tr th:only-of-type {\n",
              "        vertical-align: middle;\n",
              "    }\n",
              "\n",
              "    .dataframe tbody tr th {\n",
              "        vertical-align: top;\n",
              "    }\n",
              "\n",
              "    .dataframe thead th {\n",
              "        text-align: right;\n",
              "    }\n",
              "</style>\n",
              "<table border=\"1\" class=\"dataframe\">\n",
              "  <thead>\n",
              "    <tr style=\"text-align: right;\">\n",
              "      <th></th>\n",
              "      <th>loss</th>\n",
              "      <th>accuracy</th>\n",
              "      <th>val_loss</th>\n",
              "      <th>val_accuracy</th>\n",
              "    </tr>\n",
              "    <tr>\n",
              "      <th>epoch</th>\n",
              "      <th></th>\n",
              "      <th></th>\n",
              "      <th></th>\n",
              "      <th></th>\n",
              "    </tr>\n",
              "  </thead>\n",
              "  <tbody>\n",
              "    <tr>\n",
              "      <th>1</th>\n",
              "      <td>0.711835</td>\n",
              "      <td>0.677554</td>\n",
              "      <td>0.848975</td>\n",
              "      <td>0.707301</td>\n",
              "    </tr>\n",
              "    <tr>\n",
              "      <th>2</th>\n",
              "      <td>0.582452</td>\n",
              "      <td>0.812730</td>\n",
              "      <td>1.183407</td>\n",
              "      <td>0.712659</td>\n",
              "    </tr>\n",
              "    <tr>\n",
              "      <th>3</th>\n",
              "      <td>0.497870</td>\n",
              "      <td>0.883752</td>\n",
              "      <td>1.528305</td>\n",
              "      <td>0.718687</td>\n",
              "    </tr>\n",
              "    <tr>\n",
              "      <th>4</th>\n",
              "      <td>0.435084</td>\n",
              "      <td>0.938526</td>\n",
              "      <td>2.481458</td>\n",
              "      <td>0.707970</td>\n",
              "    </tr>\n",
              "    <tr>\n",
              "      <th>5</th>\n",
              "      <td>0.338774</td>\n",
              "      <td>0.962982</td>\n",
              "      <td>3.174832</td>\n",
              "      <td>0.713329</td>\n",
              "    </tr>\n",
              "    <tr>\n",
              "      <th>6</th>\n",
              "      <td>0.325521</td>\n",
              "      <td>0.973199</td>\n",
              "      <td>3.693287</td>\n",
              "      <td>0.698593</td>\n",
              "    </tr>\n",
              "    <tr>\n",
              "      <th>7</th>\n",
              "      <td>0.323868</td>\n",
              "      <td>0.974707</td>\n",
              "      <td>3.706341</td>\n",
              "      <td>0.714668</td>\n",
              "    </tr>\n",
              "    <tr>\n",
              "      <th>8</th>\n",
              "      <td>0.319334</td>\n",
              "      <td>0.974707</td>\n",
              "      <td>3.707101</td>\n",
              "      <td>0.695244</td>\n",
              "    </tr>\n",
              "    <tr>\n",
              "      <th>9</th>\n",
              "      <td>0.299259</td>\n",
              "      <td>0.977387</td>\n",
              "      <td>3.873974</td>\n",
              "      <td>0.699933</td>\n",
              "    </tr>\n",
              "    <tr>\n",
              "      <th>10</th>\n",
              "      <td>0.293166</td>\n",
              "      <td>0.976047</td>\n",
              "      <td>3.917796</td>\n",
              "      <td>0.693905</td>\n",
              "    </tr>\n",
              "  </tbody>\n",
              "</table>\n",
              "</div>\n",
              "      <button class=\"colab-df-convert\" onclick=\"convertToInteractive('df-b049f666-2429-4922-afbb-b482c20f9976')\"\n",
              "              title=\"Convert this dataframe to an interactive table.\"\n",
              "              style=\"display:none;\">\n",
              "        \n",
              "  <svg xmlns=\"http://www.w3.org/2000/svg\" height=\"24px\"viewBox=\"0 0 24 24\"\n",
              "       width=\"24px\">\n",
              "    <path d=\"M0 0h24v24H0V0z\" fill=\"none\"/>\n",
              "    <path d=\"M18.56 5.44l.94 2.06.94-2.06 2.06-.94-2.06-.94-.94-2.06-.94 2.06-2.06.94zm-11 1L8.5 8.5l.94-2.06 2.06-.94-2.06-.94L8.5 2.5l-.94 2.06-2.06.94zm10 10l.94 2.06.94-2.06 2.06-.94-2.06-.94-.94-2.06-.94 2.06-2.06.94z\"/><path d=\"M17.41 7.96l-1.37-1.37c-.4-.4-.92-.59-1.43-.59-.52 0-1.04.2-1.43.59L10.3 9.45l-7.72 7.72c-.78.78-.78 2.05 0 2.83L4 21.41c.39.39.9.59 1.41.59.51 0 1.02-.2 1.41-.59l7.78-7.78 2.81-2.81c.8-.78.8-2.07 0-2.86zM5.41 20L4 18.59l7.72-7.72 1.47 1.35L5.41 20z\"/>\n",
              "  </svg>\n",
              "      </button>\n",
              "      \n",
              "  <style>\n",
              "    .colab-df-container {\n",
              "      display:flex;\n",
              "      flex-wrap:wrap;\n",
              "      gap: 12px;\n",
              "    }\n",
              "\n",
              "    .colab-df-convert {\n",
              "      background-color: #E8F0FE;\n",
              "      border: none;\n",
              "      border-radius: 50%;\n",
              "      cursor: pointer;\n",
              "      display: none;\n",
              "      fill: #1967D2;\n",
              "      height: 32px;\n",
              "      padding: 0 0 0 0;\n",
              "      width: 32px;\n",
              "    }\n",
              "\n",
              "    .colab-df-convert:hover {\n",
              "      background-color: #E2EBFA;\n",
              "      box-shadow: 0px 1px 2px rgba(60, 64, 67, 0.3), 0px 1px 3px 1px rgba(60, 64, 67, 0.15);\n",
              "      fill: #174EA6;\n",
              "    }\n",
              "\n",
              "    [theme=dark] .colab-df-convert {\n",
              "      background-color: #3B4455;\n",
              "      fill: #D2E3FC;\n",
              "    }\n",
              "\n",
              "    [theme=dark] .colab-df-convert:hover {\n",
              "      background-color: #434B5C;\n",
              "      box-shadow: 0px 1px 3px 1px rgba(0, 0, 0, 0.15);\n",
              "      filter: drop-shadow(0px 1px 2px rgba(0, 0, 0, 0.3));\n",
              "      fill: #FFFFFF;\n",
              "    }\n",
              "  </style>\n",
              "\n",
              "      <script>\n",
              "        const buttonEl =\n",
              "          document.querySelector('#df-b049f666-2429-4922-afbb-b482c20f9976 button.colab-df-convert');\n",
              "        buttonEl.style.display =\n",
              "          google.colab.kernel.accessAllowed ? 'block' : 'none';\n",
              "\n",
              "        async function convertToInteractive(key) {\n",
              "          const element = document.querySelector('#df-b049f666-2429-4922-afbb-b482c20f9976');\n",
              "          const dataTable =\n",
              "            await google.colab.kernel.invokeFunction('convertToInteractive',\n",
              "                                                     [key], {});\n",
              "          if (!dataTable) return;\n",
              "\n",
              "          const docLinkHtml = 'Like what you see? Visit the ' +\n",
              "            '<a target=\"_blank\" href=https://colab.research.google.com/notebooks/data_table.ipynb>data table notebook</a>'\n",
              "            + ' to learn more about interactive tables.';\n",
              "          element.innerHTML = '';\n",
              "          dataTable['output_type'] = 'display_data';\n",
              "          await google.colab.output.renderOutput(dataTable, element);\n",
              "          const docLink = document.createElement('div');\n",
              "          docLink.innerHTML = docLinkHtml;\n",
              "          element.appendChild(docLink);\n",
              "        }\n",
              "      </script>\n",
              "    </div>\n",
              "  </div>\n",
              "  "
            ]
          },
          "metadata": {},
          "execution_count": 155
        }
      ]
    },
    {
      "cell_type": "code",
      "source": [
        "# Compute the final accuracy of the model on the validation data set\n",
        "performance_test = nn1.evaluate(X_test_nn, y_test_nn)\n",
        "\n",
        "print('The loss value of the model on the validation data is {}'.format(performance_test[0]))\n",
        "print('The accuracy of the model on the validation data is {}'.format(performance_test[1]))"
      ],
      "metadata": {
        "colab": {
          "base_uri": "https://localhost:8080/"
        },
        "id": "TLFWpUeMwiYj",
        "outputId": "80b27259-9546-4d3c-d7c5-23bf1b8e4ed6"
      },
      "execution_count": 156,
      "outputs": [
        {
          "output_type": "stream",
          "name": "stdout",
          "text": [
            "47/47 [==============================] - 0s 2ms/step - loss: 3.9178 - accuracy: 0.6939\n",
            "The loss value of the model on the validation data is 3.9177963733673096\n",
            "The accuracy of the model on the validation data is 0.6939048767089844\n"
          ]
        }
      ]
    },
    {
      "cell_type": "code",
      "source": [
        "# plotting training and validation accuracies as functions of epoch\n",
        "plt.figure(figsize = (14, 4))\n",
        "\n",
        "sns.lineplot(data = hist, x = 'epoch', y = 'accuracy', color = 'red', label = 'Training')\n",
        "sns.lineplot(data = hist, x = 'epoch', y = 'val_accuracy', color = 'blue', label = 'Validation')\n",
        "plt.xlabel('Epoch')\n",
        "plt.ylabel('Accuracy')\n",
        "plt.title('Accuracy as a Function of Epoch');"
      ],
      "metadata": {
        "colab": {
          "base_uri": "https://localhost:8080/",
          "height": 295
        },
        "id": "9z1QCKIz1-b2",
        "outputId": "e0142503-68a5-4ce0-fdd2-9f827ac8622a"
      },
      "execution_count": 157,
      "outputs": [
        {
          "output_type": "display_data",
          "data": {
            "text/plain": [
              "<Figure size 1008x288 with 1 Axes>"
            ],
            "image/png": "[encoded data removed]"
          },
          "metadata": {
            "needs_background": "light"
          }
        }
      ]
    },
    {
      "cell_type": "code",
      "source": [],
      "metadata": {
        "id": "XN0lFLD_ISgI"
      },
      "execution_count": 157,
      "outputs": []
    },
    {
      "cell_type": "markdown",
      "source": [
        "#### Hyperparameter tuning for neural network"
      ],
      "metadata": {
        "id": "3Pns-XQ3wnsa"
      }
    },
    {
      "cell_type": "code",
      "source": [
        "# hyperparameter tuning on activation functions and number of neurons\n",
        "activation_function_list = ['sigmoid', 'relu']\n",
        "hidden1_neurons_list = [128, 256]\n",
        "\n",
        "# Create and train a neural network model for each value of learning rate\n",
        "performance_df = pd.DataFrame(data = None)\n",
        "hist = [None] * 4\n",
        "indexcount = -1\n",
        "\n",
        "for current_activation_function in activation_function_list:\n",
        "    for current_hidden1_neurons in hidden1_neurons_list:\n",
        "        indexcount = indexcount + 1\n",
        "        \n",
        "        # Create a neural network model using the 'create_nn' function\n",
        "        nn = create_nn(activation_function = current_activation_function,\n",
        "                      hidden1_neurons = current_hidden1_neurons)\n",
        "        \n",
        "        nn.compile(loss = 'binary_crossentropy',\n",
        "                    metrics = ['accuracy'],\n",
        "                    optimizer = RMSprop(learning_rate = 0.01))\n",
        "\n",
        "        # Capture the training history of the model using the 'fit()' method\n",
        "\n",
        "        print('\\n activation_function = {},'.format(current_activation_function) + ' hidden1_neurons = {} - START \\n'.format(current_hidden1_neurons))\n",
        "        nn.summary()\n",
        "        print('\\n')\n",
        "        nn_history = nn.fit(X_train_nn, y_train_nn, validation_data=(X_test_nn, y_test_nn), epochs = 5)\n",
        "        print('\\n activation_function = {},'.format(current_activation_function) + ' hidden1_neurons = {} - END \\n'.format(current_hidden1_neurons))\n",
        "        \n",
        "        hist[indexcount] = pd.DataFrame(nn_history.history)\n",
        "        hist[indexcount]['epoch'] = nn_history.epoch\n",
        "        \n",
        "        tempdf = pd.DataFrame(index = [indexcount],\n",
        "                              data = {'Activation Function': current_activation_function,\n",
        "                                      'First hidden layer neurons': current_hidden1_neurons,\n",
        "                                      'Train Accuracy': hist[indexcount]['accuracy'][4],\n",
        "                                      'Validation Accuracy': hist[indexcount]['val_accuracy'][4]})\n",
        "        \n",
        "        performance_df = pd.concat([performance_df, tempdf])\n",
        "\n",
        "#print(performance_df)"
      ],
      "metadata": {
        "colab": {
          "base_uri": "https://localhost:8080/"
        },
        "id": "0H6F2yIygevh",
        "outputId": "6576edf6-14fd-46fb-c2f6-dcb25b071946"
      },
      "execution_count": 158,
      "outputs": [
        {
          "output_type": "stream",
          "name": "stdout",
          "text": [
            "\n",
            " activation_function = sigmoid, hidden1_neurons = 128 - START \n",
            "\n",
            "Model: \"model_26\"\n",
            "_________________________________________________________________\n",
            " Layer (type)                Output Shape              Param #   \n",
            "=================================================================\n",
            " tfidf_maxfeatures (InputLay  [(None, 3000)]           0         \n",
            " er)                                                             \n",
            "                                                                 \n",
            " dense_78 (Dense)            (None, 128)               384128    \n",
            "                                                                 \n",
            " dense_79 (Dense)            (None, 32)                4128      \n",
            "                                                                 \n",
            " dense_80 (Dense)            (None, 1)                 33        \n",
            "                                                                 \n",
            "=================================================================\n",
            "Total params: 388,289\n",
            "Trainable params: 388,289\n",
            "Non-trainable params: 0\n",
            "_________________________________________________________________\n",
            "\n",
            "\n",
            "Epoch 1/5\n",
            "187/187 [==============================] - 2s 6ms/step - loss: 7.5471 - accuracy: 0.5017 - val_loss: 7.6195 - val_accuracy: 0.5003\n",
            "Epoch 2/5\n",
            "187/187 [==============================] - 1s 5ms/step - loss: 7.5684 - accuracy: 0.5037 - val_loss: 7.6195 - val_accuracy: 0.5003\n",
            "Epoch 3/5\n",
            "187/187 [==============================] - 1s 5ms/step - loss: 7.5684 - accuracy: 0.5037 - val_loss: 7.6195 - val_accuracy: 0.5003\n",
            "Epoch 4/5\n",
            "187/187 [==============================] - 1s 5ms/step - loss: 7.5684 - accuracy: 0.5037 - val_loss: 7.6195 - val_accuracy: 0.5003\n",
            "Epoch 5/5\n",
            "187/187 [==============================] - 1s 5ms/step - loss: 7.5684 - accuracy: 0.5037 - val_loss: 7.6195 - val_accuracy: 0.5003\n",
            "\n",
            " activation_function = sigmoid, hidden1_neurons = 128 - END \n",
            "\n",
            "\n",
            " activation_function = sigmoid, hidden1_neurons = 256 - START \n",
            "\n",
            "Model: \"model_27\"\n",
            "_________________________________________________________________\n",
            " Layer (type)                Output Shape              Param #   \n",
            "=================================================================\n",
            " tfidf_maxfeatures (InputLay  [(None, 3000)]           0         \n",
            " er)                                                             \n",
            "                                                                 \n",
            " dense_81 (Dense)            (None, 256)               768256    \n",
            "                                                                 \n",
            " dense_82 (Dense)            (None, 32)                8224      \n",
            "                                                                 \n",
            " dense_83 (Dense)            (None, 1)                 33        \n",
            "                                                                 \n",
            "=================================================================\n",
            "Total params: 776,513\n",
            "Trainable params: 776,513\n",
            "Non-trainable params: 0\n",
            "_________________________________________________________________\n",
            "\n",
            "\n",
            "Epoch 1/5\n",
            "187/187 [==============================] - 3s 9ms/step - loss: 7.7331 - accuracy: 0.4963 - val_loss: 7.7176 - val_accuracy: 0.4997\n",
            "Epoch 2/5\n",
            "187/187 [==============================] - 2s 8ms/step - loss: 7.7693 - accuracy: 0.4963 - val_loss: 7.7176 - val_accuracy: 0.4997\n",
            "Epoch 3/5\n",
            "187/187 [==============================] - 2s 9ms/step - loss: 7.7693 - accuracy: 0.4963 - val_loss: 7.7176 - val_accuracy: 0.4997\n",
            "Epoch 4/5\n",
            "187/187 [==============================] - 2s 8ms/step - loss: 7.7693 - accuracy: 0.4963 - val_loss: 7.7176 - val_accuracy: 0.4997\n",
            "Epoch 5/5\n",
            "187/187 [==============================] - 2s 8ms/step - loss: 7.7693 - accuracy: 0.4963 - val_loss: 7.7176 - val_accuracy: 0.4997\n",
            "\n",
            " activation_function = sigmoid, hidden1_neurons = 256 - END \n",
            "\n",
            "\n",
            " activation_function = relu, hidden1_neurons = 128 - START \n",
            "\n",
            "Model: \"model_28\"\n",
            "_________________________________________________________________\n",
            " Layer (type)                Output Shape              Param #   \n",
            "=================================================================\n",
            " tfidf_maxfeatures (InputLay  [(None, 3000)]           0         \n",
            " er)                                                             \n",
            "                                                                 \n",
            " dense_84 (Dense)            (None, 128)               384128    \n",
            "                                                                 \n",
            " dense_85 (Dense)            (None, 32)                4128      \n",
            "                                                                 \n",
            " dense_86 (Dense)            (None, 1)                 33        \n",
            "                                                                 \n",
            "=================================================================\n",
            "Total params: 388,289\n",
            "Trainable params: 388,289\n",
            "Non-trainable params: 0\n",
            "_________________________________________________________________\n",
            "\n",
            "\n",
            "Epoch 1/5\n",
            "187/187 [==============================] - 2s 7ms/step - loss: 0.7207 - accuracy: 0.6826 - val_loss: 0.5849 - val_accuracy: 0.7073\n",
            "Epoch 2/5\n",
            "187/187 [==============================] - 1s 5ms/step - loss: 0.6319 - accuracy: 0.8010 - val_loss: 1.0736 - val_accuracy: 0.7200\n",
            "Epoch 3/5\n",
            "187/187 [==============================] - 1s 6ms/step - loss: 0.5267 - accuracy: 0.8841 - val_loss: 1.5260 - val_accuracy: 0.7287\n",
            "Epoch 4/5\n",
            "187/187 [==============================] - 1s 6ms/step - loss: 0.4220 - accuracy: 0.9442 - val_loss: 2.7127 - val_accuracy: 0.7060\n",
            "Epoch 5/5\n",
            "187/187 [==============================] - 1s 5ms/step - loss: 0.3951 - accuracy: 0.9652 - val_loss: 3.2992 - val_accuracy: 0.7200\n",
            "\n",
            " activation_function = relu, hidden1_neurons = 128 - END \n",
            "\n",
            "\n",
            " activation_function = relu, hidden1_neurons = 256 - START \n",
            "\n",
            "Model: \"model_29\"\n",
            "_________________________________________________________________\n",
            " Layer (type)                Output Shape              Param #   \n",
            "=================================================================\n",
            " tfidf_maxfeatures (InputLay  [(None, 3000)]           0         \n",
            " er)                                                             \n",
            "                                                                 \n",
            " dense_87 (Dense)            (None, 256)               768256    \n",
            "                                                                 \n",
            " dense_88 (Dense)            (None, 32)                8224      \n",
            "                                                                 \n",
            " dense_89 (Dense)            (None, 1)                 33        \n",
            "                                                                 \n",
            "=================================================================\n",
            "Total params: 776,513\n",
            "Trainable params: 776,513\n",
            "Non-trainable params: 0\n",
            "_________________________________________________________________\n",
            "\n",
            "\n",
            "Epoch 1/5\n",
            "187/187 [==============================] - 2s 9ms/step - loss: 0.7405 - accuracy: 0.6734 - val_loss: 0.9045 - val_accuracy: 0.7167\n",
            "Epoch 2/5\n",
            "187/187 [==============================] - 1s 8ms/step - loss: 0.6230 - accuracy: 0.7941 - val_loss: 1.3800 - val_accuracy: 0.7207\n",
            "Epoch 3/5\n",
            "187/187 [==============================] - 2s 8ms/step - loss: 0.5236 - accuracy: 0.8822 - val_loss: 1.6981 - val_accuracy: 0.7200\n",
            "Epoch 4/5\n",
            "187/187 [==============================] - 2s 8ms/step - loss: 0.4363 - accuracy: 0.9511 - val_loss: 2.8190 - val_accuracy: 0.7167\n",
            "Epoch 5/5\n",
            "187/187 [==============================] - 2s 9ms/step - loss: 0.3586 - accuracy: 0.9693 - val_loss: 3.7302 - val_accuracy: 0.7026\n",
            "\n",
            " activation_function = relu, hidden1_neurons = 256 - END \n",
            "\n"
          ]
        }
      ]
    },
    {
      "cell_type": "code",
      "source": [
        "# training accuracies as functions of epochs for different values of learning rate\n",
        "plt.figure(figsize = (14, 4))\n",
        "colorlist = ['purple', 'green', 'blue', 'red']\n",
        "\n",
        "indexcount = -1\n",
        "for current_activation_function in activation_function_list:\n",
        "    for current_hidden1_neurons in hidden1_neurons_list:\n",
        "        indexcount = indexcount + 1\n",
        "        sns.lineplot(data = hist[indexcount],\n",
        "                    x = 'epoch',\n",
        "                    y = 'accuracy',\n",
        "                    color = colorlist[indexcount],\n",
        "                    label = 'activation_function = ' + str(current_activation_function) + ', hidden1_neurons = ' + str(current_hidden1_neurons))\n",
        "\n",
        "plt.xlabel('Epoch')\n",
        "plt.ylabel('Training Accuracy')\n",
        "plt.title('Training Accuracy as a Function of Epoch for Different Values of Hyperparameters');"
      ],
      "metadata": {
        "colab": {
          "base_uri": "https://localhost:8080/",
          "height": 295
        },
        "id": "6RPyZce-rS8D",
        "outputId": "b7f0a94b-bbb7-43e8-a2cf-e161abda12ee"
      },
      "execution_count": 159,
      "outputs": [
        {
          "output_type": "display_data",
          "data": {
            "text/plain": [
              "<Figure size 1008x288 with 1 Axes>"
            ],
            "image/png": "[encoded data removed]"
          },
          "metadata": {
            "needs_background": "light"
          }
        }
      ]
    },
    {
      "cell_type": "code",
      "source": [
        "# testing accuracies as functions of epochs for different values of learning rate\n",
        "plt.figure(figsize = (14, 4))\n",
        "colorlist = ['purple', 'green', 'blue', 'red']\n",
        "\n",
        "indexcount = -1\n",
        "for current_activation_function in activation_function_list:\n",
        "    for current_hidden1_neurons in hidden1_neurons_list:\n",
        "        indexcount = indexcount + 1\n",
        "        sns.lineplot(data = hist[indexcount],\n",
        "                    x = 'epoch',\n",
        "                    y = 'val_accuracy',\n",
        "                    color = colorlist[indexcount],\n",
        "                    label = 'activation_function = ' + str(current_activation_function) + ', hidden1_neurons = ' + str(current_hidden1_neurons))\n",
        "\n",
        "plt.xlabel('Epoch')\n",
        "plt.ylabel('Validation Accuracy')\n",
        "plt.title('Validation Accuracy as a Function of Epoch for Different Values of Hyperparameters');"
      ],
      "metadata": {
        "colab": {
          "base_uri": "https://localhost:8080/",
          "height": 295
        },
        "id": "VcdVLcpgrrFu",
        "outputId": "c03a14ec-5665-4429-c758-e83e24d482c6"
      },
      "execution_count": 160,
      "outputs": [
        {
          "output_type": "display_data",
          "data": {
            "text/plain": [
              "<Figure size 1008x288 with 1 Axes>"
            ],
            "image/png": "[encoded data removed]"
          },
          "metadata": {
            "needs_background": "light"
          }
        }
      ]
    },
    {
      "cell_type": "code",
      "source": [
        "# neural network with the optimal values of 'activation_function' and 'hidden1_neurons'\n",
        "\n",
        "nn2 = create_nn(activation_function = 'relu', hidden1_neurons = 128)\n",
        "\n",
        "nn2.compile(loss = 'binary_crossentropy',\n",
        "            metrics = ['accuracy'],\n",
        "            optimizer = RMSprop(learning_rate = 0.01))\n",
        "nn2.summary()\n",
        "print('\\n')\n",
        "nn2_history = nn2.fit(X_train_nn, y_train_nn, validation_data=(X_test_nn, y_test_nn), epochs = 5)\n",
        "\n",
        "\n",
        "# final accuracy of the model on the validation data set\n",
        "performance_test = nn2.evaluate(X_test_nn, y_test_nn)\n",
        "\n",
        "print('The loss value of the model on the validation data is {}'.format(performance_test[0]))\n",
        "print('The accuracy of the model on the validation data is {}'.format(performance_test[1]))"
      ],
      "metadata": {
        "colab": {
          "base_uri": "https://localhost:8080/"
        },
        "id": "Ph3qJfatr8YG",
        "outputId": "1173db50-3af8-469a-83c5-cc436dfb319f"
      },
      "execution_count": 161,
      "outputs": [
        {
          "output_type": "stream",
          "name": "stdout",
          "text": [
            "Model: \"model_30\"\n",
            "_________________________________________________________________\n",
            " Layer (type)                Output Shape              Param #   \n",
            "=================================================================\n",
            " tfidf_maxfeatures (InputLay  [(None, 3000)]           0         \n",
            " er)                                                             \n",
            "                                                                 \n",
            " dense_90 (Dense)            (None, 128)               384128    \n",
            "                                                                 \n",
            " dense_91 (Dense)            (None, 32)                4128      \n",
            "                                                                 \n",
            " dense_92 (Dense)            (None, 1)                 33        \n",
            "                                                                 \n",
            "=================================================================\n",
            "Total params: 388,289\n",
            "Trainable params: 388,289\n",
            "Non-trainable params: 0\n",
            "_________________________________________________________________\n",
            "\n",
            "\n",
            "Epoch 1/5\n",
            "187/187 [==============================] - 2s 6ms/step - loss: 0.7029 - accuracy: 0.6794 - val_loss: 0.5767 - val_accuracy: 0.7140\n",
            "Epoch 2/5\n",
            "187/187 [==============================] - 1s 6ms/step - loss: 0.6707 - accuracy: 0.8082 - val_loss: 0.9867 - val_accuracy: 0.7093\n",
            "Epoch 3/5\n",
            "187/187 [==============================] - 1s 6ms/step - loss: 0.5341 - accuracy: 0.8925 - val_loss: 1.8136 - val_accuracy: 0.7033\n",
            "Epoch 4/5\n",
            "187/187 [==============================] - 1s 5ms/step - loss: 0.4209 - accuracy: 0.9451 - val_loss: 2.8712 - val_accuracy: 0.7160\n",
            "Epoch 5/5\n",
            "187/187 [==============================] - 1s 5ms/step - loss: 0.4166 - accuracy: 0.9628 - val_loss: 3.2751 - val_accuracy: 0.7040\n",
            "47/47 [==============================] - 0s 2ms/step - loss: 3.2751 - accuracy: 0.7040\n",
            "The loss value of the model on the validation data is 3.275092363357544\n",
            "The accuracy of the model on the validation data is 0.7039517760276794\n"
          ]
        }
      ]
    },
    {
      "cell_type": "markdown",
      "source": [
        "## Kaggle Submission"
      ],
      "metadata": {
        "id": "T2BCXp_fymI1"
      }
    },
    {
      "cell_type": "code",
      "source": [
        "# Reading the test data set\n",
        "test = pd.read_csv('/content/drive/MyDrive/Colab Notebooks/test_file_kaggle.csv')\n",
        "print(test.shape)\n",
        "test.head()"
      ],
      "metadata": {
        "colab": {
          "base_uri": "https://localhost:8080/",
          "height": 224
        },
        "id": "wC2jdgAYsRlI",
        "outputId": "7c6ec76c-840b-411b-ca52-4c91e91d0b90"
      },
      "execution_count": 164,
      "outputs": [
        {
          "output_type": "stream",
          "name": "stdout",
          "text": [
            "(3199, 1)\n"
          ]
        },
        {
          "output_type": "execute_result",
          "data": {
            "text/plain": [
              "                                             Reviews\n",
              "0  the inhospitability of the land emphasizes the...\n",
              "1  see it now , before the inevitable hollywood r...\n",
              "2  the weight of the piece , the unerring profess...\n",
              "3  the large-frame imax camera lends itself beaut...\n",
              "4  what makes how i killed my father compelling ,..."
            ],
            "text/html": [
              "\n",
              "  <div id=\"df-bb8b97fc-7626-4091-9d87-20bb4b232565\">\n",
              "    <div class=\"colab-df-container\">\n",
              "      <div>\n",
              "<style scoped>\n",
              "    .dataframe tbody tr th:only-of-type {\n",
              "        vertical-align: middle;\n",
              "    }\n",
              "\n",
              "    .dataframe tbody tr th {\n",
              "        vertical-align: top;\n",
              "    }\n",
              "\n",
              "    .dataframe thead th {\n",
              "        text-align: right;\n",
              "    }\n",
              "</style>\n",
              "<table border=\"1\" class=\"dataframe\">\n",
              "  <thead>\n",
              "    <tr style=\"text-align: right;\">\n",
              "      <th></th>\n",
              "      <th>Reviews</th>\n",
              "    </tr>\n",
              "  </thead>\n",
              "  <tbody>\n",
              "    <tr>\n",
              "      <th>0</th>\n",
              "      <td>the inhospitability of the land emphasizes the...</td>\n",
              "    </tr>\n",
              "    <tr>\n",
              "      <th>1</th>\n",
              "      <td>see it now , before the inevitable hollywood r...</td>\n",
              "    </tr>\n",
              "    <tr>\n",
              "      <th>2</th>\n",
              "      <td>the weight of the piece , the unerring profess...</td>\n",
              "    </tr>\n",
              "    <tr>\n",
              "      <th>3</th>\n",
              "      <td>the large-frame imax camera lends itself beaut...</td>\n",
              "    </tr>\n",
              "    <tr>\n",
              "      <th>4</th>\n",
              "      <td>what makes how i killed my father compelling ,...</td>\n",
              "    </tr>\n",
              "  </tbody>\n",
              "</table>\n",
              "</div>\n",
              "      <button class=\"colab-df-convert\" onclick=\"convertToInteractive('df-bb8b97fc-7626-4091-9d87-20bb4b232565')\"\n",
              "              title=\"Convert this dataframe to an interactive table.\"\n",
              "              style=\"display:none;\">\n",
              "        \n",
              "  <svg xmlns=\"http://www.w3.org/2000/svg\" height=\"24px\"viewBox=\"0 0 24 24\"\n",
              "       width=\"24px\">\n",
              "    <path d=\"M0 0h24v24H0V0z\" fill=\"none\"/>\n",
              "    <path d=\"M18.56 5.44l.94 2.06.94-2.06 2.06-.94-2.06-.94-.94-2.06-.94 2.06-2.06.94zm-11 1L8.5 8.5l.94-2.06 2.06-.94-2.06-.94L8.5 2.5l-.94 2.06-2.06.94zm10 10l.94 2.06.94-2.06 2.06-.94-2.06-.94-.94-2.06-.94 2.06-2.06.94z\"/><path d=\"M17.41 7.96l-1.37-1.37c-.4-.4-.92-.59-1.43-.59-.52 0-1.04.2-1.43.59L10.3 9.45l-7.72 7.72c-.78.78-.78 2.05 0 2.83L4 21.41c.39.39.9.59 1.41.59.51 0 1.02-.2 1.41-.59l7.78-7.78 2.81-2.81c.8-.78.8-2.07 0-2.86zM5.41 20L4 18.59l7.72-7.72 1.47 1.35L5.41 20z\"/>\n",
              "  </svg>\n",
              "      </button>\n",
              "      \n",
              "  <style>\n",
              "    .colab-df-container {\n",
              "      display:flex;\n",
              "      flex-wrap:wrap;\n",
              "      gap: 12px;\n",
              "    }\n",
              "\n",
              "    .colab-df-convert {\n",
              "      background-color: #E8F0FE;\n",
              "      border: none;\n",
              "      border-radius: 50%;\n",
              "      cursor: pointer;\n",
              "      display: none;\n",
              "      fill: #1967D2;\n",
              "      height: 32px;\n",
              "      padding: 0 0 0 0;\n",
              "      width: 32px;\n",
              "    }\n",
              "\n",
              "    .colab-df-convert:hover {\n",
              "      background-color: #E2EBFA;\n",
              "      box-shadow: 0px 1px 2px rgba(60, 64, 67, 0.3), 0px 1px 3px 1px rgba(60, 64, 67, 0.15);\n",
              "      fill: #174EA6;\n",
              "    }\n",
              "\n",
              "    [theme=dark] .colab-df-convert {\n",
              "      background-color: #3B4455;\n",
              "      fill: #D2E3FC;\n",
              "    }\n",
              "\n",
              "    [theme=dark] .colab-df-convert:hover {\n",
              "      background-color: #434B5C;\n",
              "      box-shadow: 0px 1px 3px 1px rgba(0, 0, 0, 0.15);\n",
              "      filter: drop-shadow(0px 1px 2px rgba(0, 0, 0, 0.3));\n",
              "      fill: #FFFFFF;\n",
              "    }\n",
              "  </style>\n",
              "\n",
              "      <script>\n",
              "        const buttonEl =\n",
              "          document.querySelector('#df-bb8b97fc-7626-4091-9d87-20bb4b232565 button.colab-df-convert');\n",
              "        buttonEl.style.display =\n",
              "          google.colab.kernel.accessAllowed ? 'block' : 'none';\n",
              "\n",
              "        async function convertToInteractive(key) {\n",
              "          const element = document.querySelector('#df-bb8b97fc-7626-4091-9d87-20bb4b232565');\n",
              "          const dataTable =\n",
              "            await google.colab.kernel.invokeFunction('convertToInteractive',\n",
              "                                                     [key], {});\n",
              "          if (!dataTable) return;\n",
              "\n",
              "          const docLinkHtml = 'Like what you see? Visit the ' +\n",
              "            '<a target=\"_blank\" href=https://colab.research.google.com/notebooks/data_table.ipynb>data table notebook</a>'\n",
              "            + ' to learn more about interactive tables.';\n",
              "          element.innerHTML = '';\n",
              "          dataTable['output_type'] = 'display_data';\n",
              "          await google.colab.output.renderOutput(dataTable, element);\n",
              "          const docLink = document.createElement('div');\n",
              "          docLink.innerHTML = docLinkHtml;\n",
              "          element.appendChild(docLink);\n",
              "        }\n",
              "      </script>\n",
              "    </div>\n",
              "  </div>\n",
              "  "
            ]
          },
          "metadata": {},
          "execution_count": 164
        }
      ]
    },
    {
      "cell_type": "code",
      "source": [
        "#remove stopwords\n",
        "test['Reviews'] = test['Reviews'].apply(remove_stopwords)\n",
        "# Lemmatization\n",
        "test['Reviews'] = test['Reviews'].apply(simple_lemmatize)"
      ],
      "metadata": {
        "id": "a1TB8DCwsY4j"
      },
      "execution_count": 165,
      "outputs": []
    },
    {
      "cell_type": "code",
      "source": [
        "# Tfidf vectorizer\n",
        "test_reviews=list(test['Reviews'])\n",
        "\n",
        "# transformed test reviews\n",
        "X_test_transformed = vect.transform(test_reviews)\n",
        "\n",
        "print('Tfidf_test:', X_test_transformed.shape)"
      ],
      "metadata": {
        "colab": {
          "base_uri": "https://localhost:8080/"
        },
        "id": "wlJ1gkhss96Y",
        "outputId": "d7f23288-a843-4088-f4a4-ae0b67f4e9cb"
      },
      "execution_count": 166,
      "outputs": [
        {
          "output_type": "stream",
          "name": "stdout",
          "text": [
            "Tfidf_test: (3199, 3000)\n"
          ]
        }
      ]
    },
    {
      "cell_type": "markdown",
      "source": [
        "### Best model: Bernoulli Naive Bayes"
      ],
      "metadata": {
        "id": "D-jeD2g4zU0W"
      }
    },
    {
      "cell_type": "code",
      "source": [
        "# predictions on the prepared test data set using the best validation accuracy model \n",
        "y_pred_test = bnb.predict(X_test_transformed)\n",
        "print(\"prediction shape:\", y_pred_test.shape)\n",
        "\n",
        "y_classes = (y_pred_test > 0.5).astype(int)\n",
        "y_classes"
      ],
      "metadata": {
        "colab": {
          "base_uri": "https://localhost:8080/"
        },
        "id": "IDtOrXnmtF5U",
        "outputId": "69589839-578c-41d7-8fa8-fc54bd8e0305"
      },
      "execution_count": 167,
      "outputs": [
        {
          "output_type": "stream",
          "name": "stdout",
          "text": [
            "prediction shape: (3199,)\n"
          ]
        },
        {
          "output_type": "execute_result",
          "data": {
            "text/plain": [
              "array([1, 0, 1, ..., 0, 1, 1])"
            ]
          },
          "metadata": {},
          "execution_count": 167
        }
      ]
    },
    {
      "cell_type": "code",
      "source": [
        "submit = pd.DataFrame(y_classes, columns=['Category'])\n",
        "submit.index.name = 'Id'"
      ],
      "metadata": {
        "id": "YQSBXeC3t--R"
      },
      "execution_count": 168,
      "outputs": []
    },
    {
      "cell_type": "code",
      "source": [
        "submit.to_csv(\"test_file_kaggle_log_submission.csv\", header=True, index=True)"
      ],
      "metadata": {
        "id": "x4wAj3KkuEW2"
      },
      "execution_count": 169,
      "outputs": []
    },
    {
      "cell_type": "code",
      "source": [],
      "metadata": {
        "id": "EXlgWasnuYl8"
      },
      "execution_count": 169,
      "outputs": []
    }
  ]
}